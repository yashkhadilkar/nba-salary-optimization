{
 "cells": [
  {
   "cell_type": "code",
   "execution_count": 14,
   "id": "f5484e7d-8827-44df-8522-2685089d8dcb",
   "metadata": {},
   "outputs": [],
   "source": [
    "import pandas as pd\n",
    "import numpy as np\n",
    "import plotly.graph_objects as go\n",
    "import plotly.express as px\n",
    "from plotly.subplots import make_subplots\n",
    "import plotly.colors as colors\n",
    "from datetime import datetime\n",
    "import warnings\n",
    "import os\n",
    "import json\n",
    "warnings.filterwarnings('ignore')"
   ]
  },
  {
   "cell_type": "code",
   "execution_count": 15,
   "id": "868fa873-8092-461c-baee-67701bec235f",
   "metadata": {},
   "outputs": [
    {
     "name": "stdout",
     "output_type": "stream",
     "text": [
      "NBA EXECUTIVE DASHBOARD\n",
      "Target: NBA Front Office Executives\n",
      "Use Cases: Free agency, trades, draft, cap management\n"
     ]
    }
   ],
   "source": [
    "print(\"NBA EXECUTIVE DASHBOARD\")\n",
    "print(f\"Target: NBA Front Office Executives\")\n",
    "print(f\"Use Cases: Free agency, trades, draft, cap management\")"
   ]
  },
  {
   "cell_type": "markdown",
   "id": "11c2b20b-8d28-42e3-824a-4426b465afa5",
   "metadata": {},
   "source": [
    "### Load Data and Optimization Results"
   ]
  },
  {
   "cell_type": "code",
   "execution_count": 17,
   "id": "4f3404a9-a887-4b75-b636-bd7c86f3f370",
   "metadata": {},
   "outputs": [],
   "source": [
    "def load_complete_dataset():\n",
    "    \"\"\"Load the enhanced dataset with all optimization results\"\"\"\n",
    "    \n",
    "    try:\n",
    "        # Primary dataset\n",
    "        df = pd.read_csv('data/processed/optimization/enhanced_data_clean.csv')\n",
    "        print(f\"✅ Main dataset: {len(df)} players\")\n",
    "        \n",
    "        # Load optimization results if available\n",
    "        try:\n",
    "            import pickle\n",
    "            with open('results/optimization/all_results.pkl', 'rb') as f:\n",
    "                optimization_results = pickle.load(f)\n",
    "            print(\"✅ Optimization results loaded\")\n",
    "        except:\n",
    "            optimization_results = None\n",
    "            print(\"Optimization results not found - using calculated data\")\n",
    "            \n",
    "    except FileNotFoundError:\n",
    "        print(\"Enhanced dataset not found, using master dataset...\")\n",
    "        df = pd.read_csv('data/processed/master_nba_data.csv')\n",
    "        optimization_results = None\n",
    "    \n",
    "    # Filter to current season with salary data\n",
    "    current_season = df[\n",
    "        (df['Season'] == 2025) & \n",
    "        (df['Has_Salary_Data'] == True) &\n",
    "        (~df['Team_Clean'].isin(['2TM', '3TM', '4TM', 'TOT']))\n",
    "    ].copy()\n",
    "    \n",
    "    print(f\"Analysis dataset: {len(current_season)} players with contracts\")\n",
    "    \n",
    "    # Calculate enhanced metrics\n",
    "    current_season = calculate_enhanced_metrics(current_season)\n",
    "    \n",
    "    return current_season, optimization_results"
   ]
  },
  {
   "cell_type": "code",
   "execution_count": 18,
   "id": "e8591ce4-1f7b-4004-b084-a4263d9f9bb3",
   "metadata": {},
   "outputs": [],
   "source": [
    "def calculate_enhanced_metrics(df):\n",
    "    \"\"\"Calculate all efficiency and value metrics\"\"\"\n",
    "    \n",
    "    print(\"Calculating enhanced metrics...\")\n",
    "    \n",
    "    # Value Score (composite performance metric)\n",
    "    df['Value_Score'] = (\n",
    "        df['PER'].fillna(8) * 0.3 +\n",
    "        df['VORP'].fillna(0) * 0.25 +\n",
    "        df['WS'].fillna(0) * 0.25 +\n",
    "        df['BPM'].fillna(-2) * 0.2\n",
    "    )\n",
    "    \n",
    "    # Contract efficiency metrics\n",
    "    df['Contract_Efficiency'] = df['Value_Score'] / df['Salary_Millions']\n",
    "    df['Market_Value'] = df['Value_Score'] * 2.5  # Est. fair market value\n",
    "    df['Overpay_Amount'] = df['Salary_Millions'] - df['Market_Value']\n",
    "    df['Value_Per_Dollar'] = df['Value_Score'] / df['Salary_Millions']\n",
    "    \n",
    "    # Position and contract categorization\n",
    "    df['Position_Group'] = df['Pos'].apply(lambda x: \n",
    "        'Guard' if any(pos in str(x) for pos in ['PG', 'SG']) else\n",
    "        'Forward' if any(pos in str(x) for pos in ['SF', 'PF']) else\n",
    "        'Center' if 'C' in str(x) else 'Multi'\n",
    "    )\n",
    "    \n",
    "    df['Contract_Tier'] = pd.cut(\n",
    "        df['Salary_Millions'],\n",
    "        bins=[0, 5, 15, 30, 100],\n",
    "        labels=['Bench (<$5M)', 'Role ($5-15M)', 'Star ($15-30M)', 'Superstar ($30M+)']\n",
    "    )\n",
    "    \n",
    "    # Performance tiers\n",
    "    df['Performance_Tier'] = pd.cut(\n",
    "        df['Value_Score'],\n",
    "        bins=[0, 5, 10, 15, 100],\n",
    "        labels=['Below Average', 'Average', 'Above Average', 'Elite']\n",
    "    )\n",
    "    \n",
    "    print(f\"Enhanced metrics calculated for {len(df)} players\")\n",
    "    return df"
   ]
  },
  {
   "cell_type": "markdown",
   "id": "c0965760-e849-423f-82ad-d13cd0ef6009",
   "metadata": {},
   "source": [
    "### Executive Summary"
   ]
  },
  {
   "cell_type": "code",
   "execution_count": 46,
   "id": "404b6e00-e05b-49c9-9304-96c7b54ec0ac",
   "metadata": {},
   "outputs": [],
   "source": [
    "def create_executive_dashboard_PERFECT(df):\n",
    "    \"\"\"Perfect executive dashboard with clean player name formatting\"\"\"\n",
    "\n",
    "    established_players = df[\n",
    "        (df['MP'] >= 1000) &  # Minimum 1000 minutes (real rotation players)\n",
    "        (df['Salary_Millions'] >= 5) &  # At least $5M salary (established players)\n",
    "        (df['PTS'] >= 8)  # At least 8 PPG (meaningful contributors)\n",
    "    ].copy()\n",
    "    \n",
    "    print(f\"Using {len(established_players)} ESTABLISHED NBA players (out of {len(df)} total)\")\n",
    "    \n",
    "    # Calculate business KPIs\n",
    "    total_players = len(df)\n",
    "    total_salary = df['Salary_Millions'].sum()\n",
    "    total_overpay = df[df['Overpay_Amount'] > 0]['Overpay_Amount'].sum()\n",
    "    avg_efficiency = df['Contract_Efficiency'].mean()\n",
    "    potential_savings = total_overpay * 0.6\n",
    "    \n",
    "    # Best/worst from ESTABLISHED players only\n",
    "    if len(established_players) > 0:\n",
    "        best_contract = established_players.loc[established_players['Contract_Efficiency'].idxmax()]\n",
    "        worst_contract = established_players.loc[established_players['Contract_Efficiency'].idxmin()]\n",
    "        \n",
    "        print(f\"✅ Best contract: {best_contract['Player_Clean']} (${best_contract['Salary_Millions']:.1f}M)\")\n",
    "        print(f\"❌ Worst contract: {worst_contract['Player_Clean']} (${worst_contract['Salary_Millions']:.1f}M)\")\n",
    "    else:\n",
    "        # Emergency fallback\n",
    "        best_contract = df.loc[df['Contract_Efficiency'].idxmax()]\n",
    "        worst_contract = df.loc[df['Contract_Efficiency'].idxmin()]\n",
    "    \n",
    "    # Market distribution\n",
    "    overpaid_count = len(df[df['Overpay_Amount'] > 0])\n",
    "    underpaid_count = len(df[df['Overpay_Amount'] < 0])\n",
    "    \n",
    "    # Create clean KPI layout with proper player name space\n",
    "    fig = make_subplots(\n",
    "        rows=3, cols=4,\n",
    "        subplot_titles=[\n",
    "            'Total Market Value', 'Market Overpay', 'Players Analyzed', 'Average Efficiency',\n",
    "            'Potential Savings', 'Recovery Rate (%)', 'Overpaid Players', 'Value Players',\n",
    "            f'Best: {best_contract[\"Player_Clean\"]}', f'Worst: {worst_contract[\"Player_Clean\"]}', 'Market Health (%)', 'ROI Opportunity'\n",
    "        ],\n",
    "        specs=[[{\"type\": \"indicator\"}, {\"type\": \"indicator\"}, {\"type\": \"indicator\"}, {\"type\": \"indicator\"}],\n",
    "               [{\"type\": \"indicator\"}, {\"type\": \"indicator\"}, {\"type\": \"indicator\"}, {\"type\": \"indicator\"}],\n",
    "               [{\"type\": \"indicator\"}, {\"type\": \"indicator\"}, {\"type\": \"indicator\"}, {\"type\": \"indicator\"}]],\n",
    "        vertical_spacing=0.15\n",
    "    )\n",
    "    \n",
    "    # Row 1: Market Overview\n",
    "    fig.add_trace(go.Indicator(\n",
    "        mode=\"number\",\n",
    "        value=total_salary / 1000,  # Convert to billions\n",
    "        number={'suffix': 'B', 'prefix': '$', 'font': {'size': 40, 'color': 'darkblue'}},\n",
    "    ), row=1, col=1)\n",
    "    \n",
    "    fig.add_trace(go.Indicator(\n",
    "        mode=\"number\",\n",
    "        value=total_overpay / 1000,  # Convert to billions\n",
    "        number={'suffix': 'B', 'prefix': '$', 'font': {'size': 40, 'color': 'red'}},\n",
    "    ), row=1, col=2)\n",
    "    \n",
    "    fig.add_trace(go.Indicator(\n",
    "        mode=\"number\",\n",
    "        value=total_players,\n",
    "        number={'font': {'size': 40, 'color': 'darkgreen'}},\n",
    "    ), row=1, col=3)\n",
    "    \n",
    "    fig.add_trace(go.Indicator(\n",
    "        mode=\"number\",\n",
    "        value=avg_efficiency,\n",
    "        number={'font': {'size': 40, 'color': 'purple'}},\n",
    "    ), row=1, col=4)\n",
    "    \n",
    "    # Row 2: Savings Analysis\n",
    "    fig.add_trace(go.Indicator(\n",
    "        mode=\"number\",\n",
    "        value=potential_savings / 1000,  # Convert to billions\n",
    "        number={'suffix': 'B', 'prefix': '$', 'font': {'size': 40, 'color': 'green'}},\n",
    "    ), row=2, col=1)\n",
    "    \n",
    "    fig.add_trace(go.Indicator(\n",
    "        mode=\"number\",\n",
    "        value=(potential_savings / total_salary * 100),\n",
    "        number={'suffix': '%', 'font': {'size': 40, 'color': 'blue'}},\n",
    "    ), row=2, col=2)\n",
    "    \n",
    "    fig.add_trace(go.Indicator(\n",
    "        mode=\"number\",\n",
    "        value=overpaid_count,\n",
    "        number={'font': {'size': 40, 'color': 'red'}},\n",
    "    ), row=2, col=3)\n",
    "    \n",
    "    fig.add_trace(go.Indicator(\n",
    "        mode=\"number\",\n",
    "        value=underpaid_count,\n",
    "        number={'font': {'size': 40, 'color': 'green'}},\n",
    "    ), row=2, col=4)\n",
    "    \n",
    "    # Row 3: Player Highlights (CLEAN - names in titles)\n",
    "    fig.add_trace(go.Indicator(\n",
    "        mode=\"number\",\n",
    "        value=best_contract['Contract_Efficiency'],\n",
    "        number={'font': {'size': 32, 'color': 'green'}},\n",
    "    ), row=3, col=1)\n",
    "    \n",
    "    fig.add_trace(go.Indicator(\n",
    "        mode=\"number\",\n",
    "        value=worst_contract['Contract_Efficiency'],\n",
    "        number={'font': {'size': 32, 'color': 'red'}},\n",
    "    ), row=3, col=2)\n",
    "    \n",
    "    # Market Health\n",
    "    market_health = (underpaid_count / total_players) * 100\n",
    "    fig.add_trace(go.Indicator(\n",
    "        mode=\"number\",\n",
    "        value=market_health,\n",
    "        number={'suffix': '%', 'font': {'size': 32, 'color': 'darkgreen'}},\n",
    "    ), row=3, col=3)\n",
    "    \n",
    "    fig.add_trace(go.Indicator(\n",
    "        mode=\"number\",\n",
    "        value=(potential_savings / (136 * 30)) * 100,  # vs total league cap space\n",
    "        number={'suffix': '%', 'font': {'size': 32, 'color': 'purple'}},\n",
    "    ), row=3, col=4)\n",
    "    \n",
    "    fig.update_layout(\n",
    "        height=650,\n",
    "        title={\n",
    "            'text': 'NBA EXECUTIVE DASHBOARD - MARKET ANALYSIS',\n",
    "            'x': 0.5,\n",
    "            'font': {'size': 28, 'color': 'darkblue', 'family': 'Arial Black'}\n",
    "        },\n",
    "        font={'family': 'Arial', 'size': 14},\n",
    "        margin=dict(t=100, b=60, l=40, r=40),\n",
    "        paper_bgcolor='rgba(245,245,255,0.8)'\n",
    "    )\n",
    "    \n",
    "    return fig"
   ]
  },
  {
   "cell_type": "markdown",
   "id": "5b916b49-05bb-4c0d-af3a-e1687a2dbec6",
   "metadata": {},
   "source": [
    "### Advanced Scatter Analysis"
   ]
  },
  {
   "cell_type": "code",
   "execution_count": 68,
   "id": "fa141b45-3a51-4b43-b9fe-e27ad21bdc15",
   "metadata": {},
   "outputs": [],
   "source": [
    "def create_perfect_team_analysis(df):\n",
    "    \"\"\"Perfect team analysis with color bar on the side\"\"\"\n",
    "    \n",
    "    # Calculate team stats\n",
    "    team_stats = df.groupby('Team_Clean').agg({\n",
    "        'Salary_Millions': ['sum', 'mean'],\n",
    "        'Value_Score': ['sum', 'mean'],\n",
    "        'PTS': 'sum',\n",
    "        'Player_Clean': 'count',\n",
    "        'Overpay_Amount': 'sum',\n",
    "        'Contract_Efficiency': ['mean', 'std'],\n",
    "        'Age': 'mean'\n",
    "    }).round(2)\n",
    "    \n",
    "    # Flatten column names\n",
    "    team_stats.columns = [\n",
    "        'Total_Salary', 'Avg_Salary', 'Total_Value', 'Avg_Value',\n",
    "        'Total_Points', 'Roster_Size', 'Total_Overpay', 'Avg_Efficiency', \n",
    "        'Efficiency_Std', 'Avg_Age'\n",
    "    ]\n",
    "\n",
    "    team_stats['Efficiency_Rating'] = team_stats['Total_Value'] / team_stats['Total_Salary']\n",
    "    team_stats['Overall_Score'] = (\n",
    "        team_stats['Efficiency_Rating'] * 0.6 +\n",
    "        (1 / (team_stats['Efficiency_Std'] + 0.1)) * 0.3 +\n",
    "        ((30 - team_stats['Avg_Age']) / 10) * 0.1\n",
    "    )\n",
    "    \n",
    "    # Sort by overall score\n",
    "    team_stats = team_stats.sort_values('Overall_Score', ascending=False)\n",
    "\n",
    "    fig = make_subplots(\n",
    "        rows=2, cols=2,\n",
    "        subplot_titles=[\n",
    "            'Team Efficiency Rankings',\n",
    "            'Salary vs Performance',\n",
    "            'Overpay Analysis (Top/Bottom 10)',\n",
    "            'Age vs Efficiency'\n",
    "        ],\n",
    "        column_widths=[0.45, 0.55], \n",
    "        horizontal_spacing=0.15\n",
    "    )\n",
    "    \n",
    "    # 1. Team rankings - horizontal bar\n",
    "    fig.add_trace(go.Bar(\n",
    "        y=team_stats.index[:15],  # Top 15 teams\n",
    "        x=team_stats['Overall_Score'][:15],\n",
    "        orientation='h',\n",
    "        marker=dict(\n",
    "            color=team_stats['Overall_Score'][:15],\n",
    "            colorscale='RdYlGn',\n",
    "            showscale=False  # No color bar here\n",
    "        ),\n",
    "        text=[f'{score:.2f}' for score in team_stats['Overall_Score'][:15]],\n",
    "        textposition='auto',\n",
    "        name='Efficiency Score'\n",
    "    ), row=1, col=1)\n",
    "    \n",
    "    # 2. Salary vs performance scatter - with color bar on the RIGHT\n",
    "    fig.add_trace(go.Scatter(\n",
    "        x=team_stats['Total_Salary'],\n",
    "        y=team_stats['Total_Value'],\n",
    "        mode='markers+text',\n",
    "        text=team_stats.index,\n",
    "        textposition='top center',\n",
    "        marker=dict(\n",
    "            size=team_stats['Roster_Size'] * 1.5,\n",
    "            color=team_stats['Efficiency_Rating'],\n",
    "            colorscale='RdYlGn',\n",
    "            showscale=True,  # Color bar HERE on the right\n",
    "            colorbar=dict(title=\"Efficiency\", x=1.02, len=0.8),\n",
    "            line=dict(width=1, color='black'),\n",
    "            opacity=0.8\n",
    "        ),\n",
    "        name='Team Performance'\n",
    "    ), row=1, col=2)\n",
    "    \n",
    "    # 3. Overpay analysis - top and bottom 5\n",
    "    top_overpay = team_stats.nlargest(5, 'Total_Overpay')\n",
    "    bottom_overpay = team_stats.nsmallest(5, 'Total_Overpay')\n",
    "    combined_overpay = pd.concat([bottom_overpay, top_overpay])\n",
    "    \n",
    "    colors = ['green' if x < 0 else 'red' for x in combined_overpay['Total_Overpay']]\n",
    "    \n",
    "    fig.add_trace(go.Bar(\n",
    "        y=combined_overpay.index,\n",
    "        x=combined_overpay['Total_Overpay'],\n",
    "        orientation='h',\n",
    "        marker_color=colors,\n",
    "        text=[f'${x:.1f}M' for x in combined_overpay['Total_Overpay']],\n",
    "        textposition='auto',\n",
    "        name='Overpay Amount'\n",
    "    ), row=2, col=1)\n",
    "    \n",
    "    # 4. Age vs efficiency\n",
    "    fig.add_trace(go.Scatter(\n",
    "        x=team_stats['Avg_Age'],\n",
    "        y=team_stats['Efficiency_Rating'],\n",
    "        mode='markers+text',\n",
    "        text=team_stats.index,\n",
    "        textposition='top center',\n",
    "        marker=dict(\n",
    "            size=12,\n",
    "            color=team_stats['Overall_Score'],\n",
    "            colorscale='Viridis',\n",
    "            showscale=False,  # No color bar here\n",
    "            opacity=0.8\n",
    "        ),\n",
    "        name='Age vs Efficiency'\n",
    "    ), row=2, col=2)\n",
    "\n",
    "    fig.update_xaxes(title_text=\"Overall Efficiency Score\", row=1, col=1)\n",
    "    fig.update_yaxes(title_text=\"Team\", row=1, col=1)\n",
    "    \n",
    "    fig.update_xaxes(title_text=\"Total Salary ($M)\", row=1, col=2)\n",
    "    fig.update_yaxes(title_text=\"Total Value Score\", row=1, col=2)\n",
    "    \n",
    "    fig.update_xaxes(title_text=\"Overpay Amount ($M)\", row=2, col=1)\n",
    "    fig.update_yaxes(title_text=\"Team\", row=2, col=1)\n",
    "    \n",
    "    fig.update_xaxes(title_text=\"Average Age\", row=2, col=2)\n",
    "    fig.update_yaxes(title_text=\"Efficiency Rating\", row=2, col=2)\n",
    "    \n",
    "    fig.update_layout(\n",
    "        height=700,\n",
    "        title='TEAM EFFICIENCY ANALYSIS',\n",
    "        showlegend=False,\n",
    "        font={'size': 11}\n",
    "    )\n",
    "    \n",
    "    return fig, team_stats"
   ]
  },
  {
   "cell_type": "markdown",
   "id": "4f50c60d-da7e-457b-9a13-a70b1034329c",
   "metadata": {},
   "source": [
    "### Team Efficiency and Rankings"
   ]
  },
  {
   "cell_type": "code",
   "execution_count": 64,
   "id": "d0d1181e-3492-4f66-ab5f-9e903ab3f415",
   "metadata": {},
   "outputs": [],
   "source": [
    "def create_comprehensive_team_analysis(df):\n",
    "    \"\"\"Complete team efficiency analysis with multiple metrics\"\"\"\n",
    "    \n",
    "    # Calculate comprehensive team stats\n",
    "    team_stats = df.groupby('Team_Clean').agg({\n",
    "        'Salary_Millions': ['sum', 'mean'],\n",
    "        'Value_Score': ['sum', 'mean'],\n",
    "        'PTS': 'sum',\n",
    "        'Player_Clean': 'count',\n",
    "        'Overpay_Amount': 'sum',\n",
    "        'Contract_Efficiency': ['mean', 'std'],\n",
    "        'Age': 'mean'\n",
    "    }).round(2)\n",
    "    \n",
    "    # Flatten column names\n",
    "    team_stats.columns = [\n",
    "        'Total_Salary', 'Avg_Salary', 'Total_Value', 'Avg_Value',\n",
    "        'Total_Points', 'Roster_Size', 'Total_Overpay', 'Avg_Efficiency', \n",
    "        'Efficiency_Std', 'Avg_Age'\n",
    "    ]\n",
    "    \n",
    "    # Calculate additional metrics\n",
    "    team_stats['Efficiency_Rating'] = team_stats['Total_Value'] / team_stats['Total_Salary']\n",
    "    team_stats['Cost_Per_Point'] = team_stats['Total_Salary'] / team_stats['Total_Points']\n",
    "    team_stats['Value_Consistency'] = 1 / (team_stats['Efficiency_Std'] + 0.1)  # Higher = more consistent\n",
    "    team_stats['Youth_Factor'] = 30 - team_stats['Avg_Age']  # Younger = higher factor\n",
    "    \n",
    "    # Overall team score (composite)\n",
    "    team_stats['Overall_Score'] = (\n",
    "        team_stats['Efficiency_Rating'] * 0.4 +\n",
    "        team_stats['Value_Consistency'] * 0.3 +\n",
    "        (team_stats['Youth_Factor'] / 10) * 0.2 +\n",
    "        (team_stats['Roster_Size'] / 15) * 0.1  # Roster depth factor\n",
    "    )\n",
    "    \n",
    "    # Sort by overall score\n",
    "    team_stats = team_stats.sort_values('Overall_Score', ascending=False)\n",
    "    \n",
    "    # Create multi-panel team analysis\n",
    "    fig = make_subplots(\n",
    "        rows=2, cols=2,\n",
    "        subplot_titles=[\n",
    "            'Team Efficiency Rankings (Overall Score)',\n",
    "            'Salary vs Performance by Team',\n",
    "            'Team Overpay Analysis',\n",
    "            'Roster Construction Efficiency'\n",
    "        ],\n",
    "        specs=[[{\"type\": \"bar\"}, {\"type\": \"scatter\"}],\n",
    "               [{\"type\": \"bar\"}, {\"type\": \"scatter\"}]]\n",
    "    )\n",
    "    \n",
    "    # Team rankings bar chart\n",
    "    fig.add_trace(go.Bar(\n",
    "        x=team_stats.index,\n",
    "        y=team_stats['Overall_Score'],\n",
    "        text=[f'{score:.2f}' for score in team_stats['Overall_Score']],\n",
    "        textposition='auto',\n",
    "        marker=dict(\n",
    "            color=team_stats['Overall_Score'],\n",
    "            colorscale='RdYlGn',\n",
    "            showscale=True,\n",
    "            colorbar=dict(title=\"Overall Score\", x=0.47)\n",
    "        ),\n",
    "        name='Overall Score',\n",
    "        hovertemplate='<b>%{x}</b><br>' +\n",
    "                      'Overall Score: %{y:.2f}<br>' +\n",
    "                      'Efficiency: %{customdata[0]:.2f}<br>' +\n",
    "                      'Total Salary: $%{customdata[1]:.1f}M<br>' +\n",
    "                      'Total Overpay: $%{customdata[2]:.1f}M<br>' +\n",
    "                      '<extra></extra>',\n",
    "        customdata=team_stats[['Efficiency_Rating', 'Total_Salary', 'Total_Overpay']].values\n",
    "    ), row=1, col=1)\n",
    "    \n",
    "    # Salary vs performance scatter\n",
    "    fig.add_trace(go.Scatter(\n",
    "        x=team_stats['Total_Salary'],\n",
    "        y=team_stats['Total_Value'],\n",
    "        text=team_stats.index,\n",
    "        mode='markers+text',\n",
    "        textposition='top center',\n",
    "        marker=dict(\n",
    "            size=team_stats['Roster_Size'] * 2,\n",
    "            color=team_stats['Efficiency_Rating'],\n",
    "            colorscale='RdYlGn',\n",
    "            showscale=False\n",
    "        ),\n",
    "        name='Team Performance',\n",
    "        hovertemplate='<b>%{text}</b><br>' +\n",
    "                      'Total Salary: $%{x:.1f}M<br>' +\n",
    "                      'Total Value: %{y:.1f}<br>' +\n",
    "                      'Roster Size: %{customdata:.0f}<br>' +\n",
    "                      '<extra></extra>',\n",
    "        customdata=team_stats['Roster_Size']\n",
    "    ), row=1, col=2)\n",
    "    \n",
    "    # Add efficiency line\n",
    "    max_salary = team_stats['Total_Salary'].max()\n",
    "    avg_efficiency = team_stats['Efficiency_Rating'].mean()\n",
    "    fig.add_trace(go.Scatter(\n",
    "        x=[0, max_salary],\n",
    "        y=[0, max_salary * avg_efficiency],\n",
    "        mode='lines',\n",
    "        line=dict(color='red', dash='dash'),\n",
    "        name='League Average',\n",
    "        showlegend=False\n",
    "    ), row=1, col=2)\n",
    "    \n",
    "    # Overpay analysis\n",
    "    overpay_sorted = team_stats.sort_values('Total_Overpay', ascending=True)\n",
    "    colors = ['green' if x < 0 else 'red' for x in overpay_sorted['Total_Overpay']]\n",
    "    \n",
    "    fig.add_trace(go.Bar(\n",
    "        x=overpay_sorted.index,\n",
    "        y=overpay_sorted['Total_Overpay'],\n",
    "        marker_color=colors,\n",
    "        name='Overpay Amount',\n",
    "        text=[f'${x:.1f}M' for x in overpay_sorted['Total_Overpay']],\n",
    "        textposition='auto',\n",
    "        hovertemplate='<b>%{x}</b><br>' +\n",
    "                      'Overpay: $%{y:.1f}M<br>' +\n",
    "                      '<extra></extra>'\n",
    "    ), row=2, col=1)\n",
    "    \n",
    "    # Roster construction efficiency\n",
    "    fig.add_trace(go.Scatter(\n",
    "        x=team_stats['Avg_Age'],\n",
    "        y=team_stats['Efficiency_Rating'],\n",
    "        text=team_stats.index,\n",
    "        mode='markers+text',\n",
    "        textposition='top center',\n",
    "        marker=dict(\n",
    "            size=team_stats['Total_Salary'] / 5,  # Size by total salary\n",
    "            color=team_stats['Value_Consistency'],\n",
    "            colorscale='Plasma',\n",
    "            showscale=False\n",
    "        ),\n",
    "        name='Age vs Efficiency',\n",
    "        hovertemplate='<b>%{text}</b><br>' +\n",
    "                      'Avg Age: %{x:.1f}<br>' +\n",
    "                      'Efficiency: %{y:.2f}<br>' +\n",
    "                      'Consistency: %{customdata:.2f}<br>' +\n",
    "                      '<extra></extra>',\n",
    "        customdata=team_stats['Value_Consistency']\n",
    "    ), row=2, col=2)\n",
    "    \n",
    "    fig.update_layout(\n",
    "        height=800,\n",
    "        title='COMPREHENSIVE TEAM ANALYSIS & RANKINGS',\n",
    "        font={'size': 10}\n",
    "    )\n",
    "    \n",
    "    return fig, team_stats"
   ]
  },
  {
   "cell_type": "markdown",
   "id": "bc814e37-0ff3-4bae-8c35-7c4dada18935",
   "metadata": {},
   "source": [
    "### Advanced Trade Engine"
   ]
  },
  {
   "cell_type": "code",
   "execution_count": 70,
   "id": "6b69dc9f-3023-4094-ac27-23a401a824b0",
   "metadata": {},
   "outputs": [],
   "source": [
    "def create_perfect_trade_engine(df):\n",
    "    \"\"\"Perfect trade engine with MORE recommendations and color bar on side\"\"\"\n",
    "    \n",
    "    # Filter to tradeable players\n",
    "    tradeable_players = df[\n",
    "        (df['MP'] >= 800) &  # Significant playing time\n",
    "        (df['Salary_Millions'] >= 3) &  # Minimum salary threshold\n",
    "        (df['Salary_Millions'] <= 35) &  # Not untradeable superstars\n",
    "        (df['Age'] <= 32)  # Reasonable trade age\n",
    "    ].copy()\n",
    "    \n",
    "    print(f\"Trade analysis: {len(tradeable_players)} tradeable players\")\n",
    "    \n",
    "    # Generate MORE realistic trades\n",
    "    trade_scenarios = []\n",
    "    \n",
    "    # Focus on clear, realistic scenarios\n",
    "    overvalued = tradeable_players[\n",
    "        tradeable_players['Contract_Efficiency'] < tradeable_players['Contract_Efficiency'].quantile(0.3)\n",
    "    ].head(15)  # More players\n",
    "    \n",
    "    undervalued = tradeable_players[\n",
    "        tradeable_players['Contract_Efficiency'] > tradeable_players['Contract_Efficiency'].quantile(0.7)\n",
    "    ].head(15)  # More players\n",
    "    \n",
    "    # Create position-matched trades\n",
    "    for position in ['Guard', 'Forward', 'Center']:\n",
    "        pos_over = overvalued[overvalued['Position_Group'] == position]\n",
    "        pos_under = undervalued[undervalued['Position_Group'] == position]\n",
    "        \n",
    "        for _, over_player in pos_over.head(3).iterrows():  # More per position\n",
    "            for _, under_player in pos_under.head(3).iterrows():\n",
    "                if over_player['Team_Clean'] != under_player['Team_Clean']:\n",
    "                    salary_diff = over_player['Salary_Millions'] - under_player['Salary_Millions']\n",
    "                    value_diff = under_player['Value_Score'] - over_player['Value_Score']\n",
    "                    \n",
    "                    if abs(salary_diff) <= 12 and value_diff > 0:  # Realistic and beneficial\n",
    "                        trade_scenarios.append({\n",
    "                            'Trade_Away': over_player['Player_Clean'],\n",
    "                            'Trade_For': under_player['Player_Clean'],\n",
    "                            'Position': position,\n",
    "                            'Salary_Savings': salary_diff,\n",
    "                            'Value_Gain': value_diff,\n",
    "                            'ROI': value_diff / (abs(salary_diff) + 1)\n",
    "                        })\n",
    "    \n",
    "    trade_df = pd.DataFrame(trade_scenarios).sort_values('ROI', ascending=False).head(12)  # More trades\n",
    "    \n",
    "    # Create layout with color bar on RIGHT side\n",
    "    fig = make_subplots(\n",
    "        rows=2, cols=2,\n",
    "        subplot_titles=[\n",
    "            'Trade Opportunities (ROI vs Value)',\n",
    "            'Top Trade Recommendations',\n",
    "            'Trades by Position',\n",
    "            'Financial Impact'\n",
    "        ],\n",
    "        specs=[[{\"type\": \"scatter\"}, {\"type\": \"table\"}],\n",
    "               [{\"type\": \"pie\"}, {\"type\": \"bar\"}]],\n",
    "        column_widths=[0.45, 0.55],  # Make right wider for table\n",
    "        horizontal_spacing=0.15\n",
    "    )\n",
    "    \n",
    "    if len(trade_df) > 0:\n",
    "        # 1. ROI scatter - color bar on RIGHT\n",
    "        fig.add_trace(go.Scatter(\n",
    "            x=trade_df['Salary_Savings'].abs(),\n",
    "            y=trade_df['Value_Gain'],\n",
    "            mode='markers+text',\n",
    "            text=trade_df['Trade_Away'].str[:8],\n",
    "            textposition='top center',\n",
    "            marker=dict(\n",
    "                size=15,\n",
    "                color=trade_df['ROI'],\n",
    "                colorscale='Viridis',\n",
    "                showscale=True,  # Color bar on RIGHT\n",
    "                colorbar=dict(title=\"ROI\", x=1.02, len=0.4, y=0.8)\n",
    "            ),\n",
    "            name='Trade ROI'\n",
    "        ), row=1, col=1)\n",
    "        \n",
    "        # 2. BIGGER trade table (12 trades instead of 5)\n",
    "        fig.add_trace(go.Table(\n",
    "            header=dict(\n",
    "                values=['Trade Away', 'Trade For', 'Position', 'Value Gain'],\n",
    "                fill_color='darkblue',\n",
    "                font_color='white',\n",
    "                font_size=11\n",
    "            ),\n",
    "            cells=dict(\n",
    "                values=[\n",
    "                    trade_df['Trade_Away'],\n",
    "                    trade_df['Trade_For'],\n",
    "                    trade_df['Position'],\n",
    "                    [f'+{x:.1f}' for x in trade_df['Value_Gain']]\n",
    "                ],\n",
    "                fill_color='lightblue',\n",
    "                font_size=10,\n",
    "                height=25  # Smaller row height to fit more\n",
    "            )\n",
    "        ), row=1, col=2)\n",
    "        \n",
    "        # 3. Position pie\n",
    "        if len(trade_df['Position'].unique()) > 1:\n",
    "            position_counts = trade_df['Position'].value_counts()\n",
    "            fig.add_trace(go.Pie(\n",
    "                labels=position_counts.index,\n",
    "                values=position_counts.values,\n",
    "                name='Position Distribution'\n",
    "            ), row=2, col=1)\n",
    "        \n",
    "        # 4. Financial impact\n",
    "        fig.add_trace(go.Bar(\n",
    "            x=['Positive ROI', 'High Value Gain', 'Salary Neutral'],\n",
    "            y=[\n",
    "                len(trade_df[trade_df['ROI'] > 1]),\n",
    "                len(trade_df[trade_df['Value_Gain'] > 5]),\n",
    "                len(trade_df[abs(trade_df['Salary_Savings']) < 2])\n",
    "            ],\n",
    "            marker_color=['green', 'blue', 'orange'],\n",
    "            name='Trade Quality'\n",
    "        ), row=2, col=2)\n",
    "\n",
    "    fig.update_xaxes(title_text=\"Salary Change ($M)\", row=1, col=1)\n",
    "    fig.update_yaxes(title_text=\"Value Improvement\", row=1, col=1)\n",
    "    \n",
    "    fig.update_xaxes(title_text=\"Trade Quality Metrics\", row=2, col=2)\n",
    "    fig.update_yaxes(title_text=\"Number of Trades\", row=2, col=2)\n",
    "    \n",
    "    fig.update_layout(\n",
    "        height=650,\n",
    "        title='🔄 TRADE RECOMMENDATION ENGINE',\n",
    "        showlegend=False\n",
    "    )\n",
    "        \n",
    "    return fig, trade_df\n"
   ]
  },
  {
   "cell_type": "markdown",
   "id": "5b5a595c-221e-43c6-81f8-85647f50c116",
   "metadata": {},
   "source": [
    "### Market Inefficiency Heatmap"
   ]
  },
  {
   "cell_type": "code",
   "execution_count": 28,
   "id": "a3ce294b-18f2-41c6-aae7-f957571e8c56",
   "metadata": {},
   "outputs": [],
   "source": [
    "def create_clean_heatmap(df):\n",
    "    \"\"\"Clean market analysis heatmap without clutter\"\"\"\n",
    "    \n",
    "    # Simple 2x2 heatmap layout\n",
    "    fig = make_subplots(\n",
    "        rows=2, cols=2,\n",
    "        subplot_titles=[\n",
    "            'Position × Contract Tier Efficiency',\n",
    "            'Age Group × Salary Efficiency', \n",
    "            'Team Overpay Analysis (Top 10)',\n",
    "            'Performance Distribution'\n",
    "        ],\n",
    "        specs=[[{\"type\": \"heatmap\"}, {\"type\": \"heatmap\"}],\n",
    "               [{\"type\": \"heatmap\"}, {\"type\": \"heatmap\"}]]\n",
    "    )\n",
    "    \n",
    "    # 1. Position × Contract Tier\n",
    "    pos_tier_pivot = df.pivot_table(\n",
    "        values='Contract_Efficiency',\n",
    "        index='Position_Group',\n",
    "        columns='Contract_Tier',\n",
    "        aggfunc='mean'\n",
    "    ).fillna(0)\n",
    "    \n",
    "    fig.add_trace(go.Heatmap(\n",
    "        z=pos_tier_pivot.values,\n",
    "        x=pos_tier_pivot.columns,\n",
    "        y=pos_tier_pivot.index,\n",
    "        colorscale='RdYlGn',\n",
    "        text=pos_tier_pivot.round(2).values,\n",
    "        texttemplate=\"%{text}\",\n",
    "        textfont={\"size\": 12},\n",
    "        showscale=False\n",
    "    ), row=1, col=1)\n",
    "    \n",
    "    # 2. Age × Salary efficiency\n",
    "    df['Age_Group'] = pd.cut(df['Age'], bins=[0, 25, 28, 31, 40], labels=['Young', 'Developing', 'Prime', 'Veteran'])\n",
    "    df['Salary_Group'] = pd.cut(df['Salary_Millions'], bins=[0, 5, 15, 30, 100], labels=['Low', 'Mid', 'High', 'Max'])\n",
    "    \n",
    "    age_salary_pivot = df.pivot_table(\n",
    "        values='Contract_Efficiency',\n",
    "        index='Age_Group',\n",
    "        columns='Salary_Group',\n",
    "        aggfunc='mean'\n",
    "    ).fillna(0)\n",
    "    \n",
    "    fig.add_trace(go.Heatmap(\n",
    "        z=age_salary_pivot.values,\n",
    "        x=age_salary_pivot.columns,\n",
    "        y=age_salary_pivot.index,\n",
    "        colorscale='RdYlGn',\n",
    "        text=age_salary_pivot.round(2).values,\n",
    "        texttemplate=\"%{text}\",\n",
    "        textfont={\"size\": 12},\n",
    "        showscale=False\n",
    "    ), row=1, col=2)\n",
    "    \n",
    "    # 3. Team overpay (top 10 worst)\n",
    "    team_overpay = df.groupby('Team_Clean')['Overpay_Amount'].sum().nlargest(10)\n",
    "    \n",
    "    fig.add_trace(go.Heatmap(\n",
    "        z=team_overpay.values.reshape(-1, 1),\n",
    "        y=team_overpay.index,\n",
    "        x=['Overpay ($M)'],\n",
    "        colorscale='Reds',\n",
    "        text=team_overpay.round(1).values.reshape(-1, 1),\n",
    "        texttemplate=\"%{text}M\",\n",
    "        textfont={\"size\": 10},\n",
    "        showscale=False\n",
    "    ), row=2, col=1)\n",
    "    \n",
    "    # 4. Performance distribution\n",
    "    perf_dist = df.pivot_table(\n",
    "        values='Player_Clean',\n",
    "        index='Performance_Tier',\n",
    "        columns='Contract_Tier',\n",
    "        aggfunc='count'\n",
    "    ).fillna(0)\n",
    "    \n",
    "    fig.add_trace(go.Heatmap(\n",
    "        z=perf_dist.values,\n",
    "        x=perf_dist.columns,\n",
    "        y=perf_dist.index,\n",
    "        colorscale='Blues',\n",
    "        text=perf_dist.values,\n",
    "        texttemplate=\"%{text}\",\n",
    "        textfont={\"size\": 12},\n",
    "        colorbar=dict(title=\"Player Count\", x=1.02)\n",
    "    ), row=2, col=2)\n",
    "    \n",
    "    fig.update_layout(\n",
    "        height=700,\n",
    "        title='MARKET EFFICIENCY ANALYSIS (CLEAN)',\n",
    "        showlegend=False\n",
    "    )\n",
    "    \n",
    "    return fig"
   ]
  },
  {
   "cell_type": "markdown",
   "id": "1b1b5290-1bf1-418f-9c92-cd21473584f5",
   "metadata": {},
   "source": [
    "### Optimal Roster Construction"
   ]
  },
  {
   "cell_type": "code",
   "execution_count": 30,
   "id": "0a8ede75-8428-4661-9f9c-a5c2c6e6a8ef",
   "metadata": {},
   "outputs": [],
   "source": [
    "def create_optimal_roster_constructor(df):\n",
    "    \"\"\"Advanced roster optimization with multiple strategies\"\"\"\n",
    "    \n",
    "    salary_cap = 136  \n",
    "    \n",
    "    def build_strategy_roster(strategy_type):\n",
    "        \"\"\"Build roster based on different strategies\"\"\"\n",
    "        \n",
    "        available_players = df.copy()\n",
    "        roster = []\n",
    "        total_salary = 0\n",
    "        \n",
    "        if strategy_type == 'championship':\n",
    "            superstars = available_players[\n",
    "                (available_players['Salary_Millions'] > 25) &\n",
    "                (available_players['Value_Score'] > 15)\n",
    "            ].nlargest(2, 'Value_Score')\n",
    "            \n",
    "            for _, player in superstars.iterrows():\n",
    "                if total_salary + player['Salary_Millions'] <= salary_cap * 0.6:\n",
    "                    roster.append(player)\n",
    "                    total_salary += player['Salary_Millions']\n",
    "            \n",
    "            # Fill with efficient role players\n",
    "            remaining_players = available_players[\n",
    "                ~available_players['Player_Clean'].isin([p['Player_Clean'] for p in roster])\n",
    "            ]\n",
    "            efficient_role = remaining_players[\n",
    "                (remaining_players['Contract_Efficiency'] > remaining_players['Contract_Efficiency'].quantile(0.7)) &\n",
    "                (remaining_players['Salary_Millions'] < 15)\n",
    "            ].nlargest(10, 'Contract_Efficiency')\n",
    "            \n",
    "            for _, player in efficient_role.iterrows():\n",
    "                if len(roster) < 12 and total_salary + player['Salary_Millions'] <= salary_cap:\n",
    "                    roster.append(player)\n",
    "                    total_salary += player['Salary_Millions']\n",
    "        \n",
    "        elif strategy_type == 'value':\n",
    "            value_players = available_players.nlargest(15, 'Contract_Efficiency')\n",
    "            \n",
    "            for _, player in value_players.iterrows():\n",
    "                if total_salary + player['Salary_Millions'] <= salary_cap:\n",
    "                    roster.append(player)\n",
    "                    total_salary += player['Salary_Millions']\n",
    "                    if len(roster) >= 12:\n",
    "                        break\n",
    "        \n",
    "        elif strategy_type == 'youth':\n",
    "            young_players = available_players[\n",
    "                (available_players['Age'] <= 26) &\n",
    "                (available_players['Contract_Efficiency'] > available_players['Contract_Efficiency'].median())\n",
    "            ].nlargest(15, 'Contract_Efficiency')\n",
    "            \n",
    "            for _, player in young_players.iterrows():\n",
    "                if total_salary + player['Salary_Millions'] <= salary_cap:\n",
    "                    roster.append(player)\n",
    "                    total_salary += player['Salary_Millions']\n",
    "                    if len(roster) >= 12:\n",
    "                        break\n",
    "        \n",
    "        return pd.DataFrame(roster), total_salary\n",
    "\n",
    "    strategies = {}\n",
    "    for strategy in ['championship', 'value', 'youth']:\n",
    "        roster, salary = build_strategy_roster(strategy)\n",
    "        strategies[strategy] = {\n",
    "            'roster': roster,\n",
    "            'total_salary': salary,\n",
    "            'total_value': roster['Value_Score'].sum() if len(roster) > 0 else 0,\n",
    "            'avg_age': roster['Age'].mean() if len(roster) > 0 else 0,\n",
    "            'efficiency': roster['Value_Score'].sum() / salary if salary > 0 else 0\n",
    "        }\n",
    "\n",
    "    fig = make_subplots(\n",
    "        rows=2, cols=3,\n",
    "        subplot_titles=[\n",
    "            'Strategy Comparison', 'Championship Roster',\n",
    "            'Value Roster', 'Youth Roster',\n",
    "            'Salary Distribution by Strategy', 'Age Distribution by Strategy'\n",
    "        ],\n",
    "        specs=[[{\"type\": \"bar\"}, {\"type\": \"table\"}, {\"type\": \"table\"}],\n",
    "               [{\"type\": \"table\"}, {\"type\": \"bar\"}, {\"type\": \"box\"}]]\n",
    "    )\n",
    "\n",
    "    strategy_names = list(strategies.keys())\n",
    "    metrics = ['total_salary', 'total_value', 'efficiency', 'avg_age']\n",
    "    \n",
    "    for i, metric in enumerate(metrics):\n",
    "        values = [strategies[s][metric] for s in strategy_names]\n",
    "        fig.add_trace(go.Bar(\n",
    "            x=strategy_names,\n",
    "            y=values,\n",
    "            name=metric.replace('_', ' ').title(),\n",
    "            text=[f'{v:.1f}' for v in values],\n",
    "            textposition='auto'\n",
    "        ), row=1, col=1)\n",
    "    \n",
    "    # Individual roster tables\n",
    "    for i, (strategy, data) in enumerate(strategies.items()):\n",
    "        if len(data['roster']) > 0:\n",
    "            roster = data['roster'].head(8)  # Show top 8 players\n",
    "            col = i + 2 if i < 2 else i\n",
    "            row = 1 if i < 2 else 2\n",
    "            \n",
    "            fig.add_trace(go.Table(\n",
    "                header=dict(\n",
    "                    values=['Player', 'Pos', 'Age', 'Salary', 'Efficiency'],\n",
    "                    fill_color='darkblue',\n",
    "                    font_color='white',\n",
    "                    font_size=10\n",
    "                ),\n",
    "                cells=dict(\n",
    "                    values=[\n",
    "                        [name[:12] for name in roster['Player_Clean']],\n",
    "                        roster['Pos'],\n",
    "                        roster['Age'].round(0),\n",
    "                        [f'${x:.1f}M' for x in roster['Salary_Millions']],\n",
    "                        roster['Contract_Efficiency'].round(2)\n",
    "                    ],\n",
    "                    font_size=9\n",
    "                )\n",
    "            ), row=row, col=col)\n",
    "    \n",
    "    # Salary distribution comparison\n",
    "    all_salaries = []\n",
    "    all_strategies = []\n",
    "    for strategy, data in strategies.items():\n",
    "        if len(data['roster']) > 0:\n",
    "            all_salaries.extend(data['roster']['Salary_Millions'].tolist())\n",
    "            all_strategies.extend([strategy] * len(data['roster']))\n",
    "    \n",
    "    fig.add_trace(go.Box(\n",
    "        x=all_strategies,\n",
    "        y=all_salaries,\n",
    "        name='Salary Distribution'\n",
    "    ), row=2, col=2)\n",
    "    \n",
    "    # Age distribution comparison\n",
    "    all_ages = []\n",
    "    all_strategies_age = []\n",
    "    for strategy, data in strategies.items():\n",
    "        if len(data['roster']) > 0:\n",
    "            all_ages.extend(data['roster']['Age'].tolist())\n",
    "            all_strategies_age.extend([strategy] * len(data['roster']))\n",
    "    \n",
    "    fig.add_trace(go.Box(\n",
    "        x=all_strategies_age,\n",
    "        y=all_ages,\n",
    "        name='Age Distribution'\n",
    "    ), row=2, col=3)\n",
    "    \n",
    "    fig.update_layout(\n",
    "        height=800,\n",
    "        title='OPTIMAL ROSTER CONSTRUCTION STRATEGIES',\n",
    "        font={'size': 10},\n",
    "        showlegend=False\n",
    "    )\n",
    "    \n",
    "    return fig, strategies"
   ]
  },
  {
   "cell_type": "markdown",
   "id": "f5690f54-812d-4fbb-a4d8-f3871a566c36",
   "metadata": {},
   "source": [
    "### Main Dashboard"
   ]
  },
  {
   "cell_type": "code",
   "execution_count": 74,
   "id": "c2fe77c1-66d4-4784-93a3-8025793af8c1",
   "metadata": {},
   "outputs": [
    {
     "name": "stdout",
     "output_type": "stream",
     "text": [
      "✅ Main dataset: 489 players\n",
      "✅ Optimization results loaded\n",
      "Analysis dataset: 489 players with contracts\n",
      "Calculating enhanced metrics...\n",
      "Enhanced metrics calculated for 489 players\n",
      "\n",
      "ANALYSIS SUMMARY:\n",
      "   • Players: 489\n",
      "   • Market value: $4.5B\n",
      "   • Overpay identified: $1.4B\n",
      "1️⃣ Executive Summary\n",
      "Using 174 ESTABLISHED NBA players (out of 489 total)\n",
      "✅ Best contract: Kristaps Porziņģis ($7.1M)\n",
      "❌ Worst contract: Cody Williams ($5.7M)\n"
     ]
    },
    {
     "data": {
      "application/vnd.plotly.v1+json": {
       "config": {
        "plotlyServerURL": "https://plot.ly"
       },
       "data": [
        {
         "domain": {
          "x": [
           0,
           0.2125
          ],
          "y": [
           0.7666666666666666,
           0.9999999999999999
          ]
         },
         "mode": "number",
         "number": {
          "font": {
           "color": "darkblue",
           "size": 40
          },
          "prefix": "$",
          "suffix": "B"
         },
         "type": "indicator",
         "value": 4.514506170910484
        },
        {
         "domain": {
          "x": [
           0.2625,
           0.475
          ],
          "y": [
           0.7666666666666666,
           0.9999999999999999
          ]
         },
         "mode": "number",
         "number": {
          "font": {
           "color": "red",
           "size": 40
          },
          "prefix": "$",
          "suffix": "B"
         },
         "type": "indicator",
         "value": 1.4328772837608872
        },
        {
         "domain": {
          "x": [
           0.525,
           0.7375
          ],
          "y": [
           0.7666666666666666,
           0.9999999999999999
          ]
         },
         "mode": "number",
         "number": {
          "font": {
           "color": "darkgreen",
           "size": 40
          }
         },
         "type": "indicator",
         "value": 489
        },
        {
         "domain": {
          "x": [
           0.7875,
           1
          ],
          "y": [
           0.7666666666666666,
           0.9999999999999999
          ]
         },
         "mode": "number",
         "number": {
          "font": {
           "color": "purple",
           "size": 40
          }
         },
         "type": "indicator",
         "value": 1.1362863386961402
        },
        {
         "domain": {
          "x": [
           0,
           0.2125
          ],
          "y": [
           0.3833333333333333,
           0.6166666666666666
          ]
         },
         "mode": "number",
         "number": {
          "font": {
           "color": "green",
           "size": 40
          },
          "prefix": "$",
          "suffix": "B"
         },
         "type": "indicator",
         "value": 0.8597263702565323
        },
        {
         "domain": {
          "x": [
           0.2625,
           0.475
          ],
          "y": [
           0.3833333333333333,
           0.6166666666666666
          ]
         },
         "mode": "number",
         "number": {
          "font": {
           "color": "blue",
           "size": 40
          },
          "suffix": "%"
         },
         "type": "indicator",
         "value": 19.043641490540768
        },
        {
         "domain": {
          "x": [
           0.525,
           0.7375
          ],
          "y": [
           0.3833333333333333,
           0.6166666666666666
          ]
         },
         "mode": "number",
         "number": {
          "font": {
           "color": "red",
           "size": 40
          }
         },
         "type": "indicator",
         "value": 151
        },
        {
         "domain": {
          "x": [
           0.7875,
           1
          ],
          "y": [
           0.3833333333333333,
           0.6166666666666666
          ]
         },
         "mode": "number",
         "number": {
          "font": {
           "color": "green",
           "size": 40
          }
         },
         "type": "indicator",
         "value": 338
        },
        {
         "domain": {
          "x": [
           0,
           0.2125
          ],
          "y": [
           0,
           0.2333333333333333
          ]
         },
         "mode": "number",
         "number": {
          "font": {
           "color": "green",
           "size": 32
          }
         },
         "type": "indicator",
         "value": 1.3271956088483128
        },
        {
         "domain": {
          "x": [
           0.2625,
           0.475
          ],
          "y": [
           0,
           0.2333333333333333
          ]
         },
         "mode": "number",
         "number": {
          "font": {
           "color": "red",
           "size": 32
          }
         },
         "type": "indicator",
         "value": -0.17414078934536992
        },
        {
         "domain": {
          "x": [
           0.525,
           0.7375
          ],
          "y": [
           0,
           0.2333333333333333
          ]
         },
         "mode": "number",
         "number": {
          "font": {
           "color": "darkgreen",
           "size": 32
          },
          "suffix": "%"
         },
         "type": "indicator",
         "value": 69.12065439672801
        },
        {
         "domain": {
          "x": [
           0.7875,
           1
          ],
          "y": [
           0,
           0.2333333333333333
          ]
         },
         "mode": "number",
         "number": {
          "font": {
           "color": "purple",
           "size": 32
          },
          "suffix": "%"
         },
         "type": "indicator",
         "value": 21.071724761189518
        }
       ],
       "layout": {
        "annotations": [
         {
          "font": {
           "size": 16
          },
          "showarrow": false,
          "text": "Total Market Value",
          "x": 0.10625,
          "xanchor": "center",
          "xref": "paper",
          "y": 0.9999999999999999,
          "yanchor": "bottom",
          "yref": "paper"
         },
         {
          "font": {
           "size": 16
          },
          "showarrow": false,
          "text": "Market Overpay",
          "x": 0.36875,
          "xanchor": "center",
          "xref": "paper",
          "y": 0.9999999999999999,
          "yanchor": "bottom",
          "yref": "paper"
         },
         {
          "font": {
           "size": 16
          },
          "showarrow": false,
          "text": "Players Analyzed",
          "x": 0.6312500000000001,
          "xanchor": "center",
          "xref": "paper",
          "y": 0.9999999999999999,
          "yanchor": "bottom",
          "yref": "paper"
         },
         {
          "font": {
           "size": 16
          },
          "showarrow": false,
          "text": "Average Efficiency",
          "x": 0.89375,
          "xanchor": "center",
          "xref": "paper",
          "y": 0.9999999999999999,
          "yanchor": "bottom",
          "yref": "paper"
         },
         {
          "font": {
           "size": 16
          },
          "showarrow": false,
          "text": "Potential Savings",
          "x": 0.10625,
          "xanchor": "center",
          "xref": "paper",
          "y": 0.6166666666666666,
          "yanchor": "bottom",
          "yref": "paper"
         },
         {
          "font": {
           "size": 16
          },
          "showarrow": false,
          "text": "Recovery Rate (%)",
          "x": 0.36875,
          "xanchor": "center",
          "xref": "paper",
          "y": 0.6166666666666666,
          "yanchor": "bottom",
          "yref": "paper"
         },
         {
          "font": {
           "size": 16
          },
          "showarrow": false,
          "text": "Overpaid Players",
          "x": 0.6312500000000001,
          "xanchor": "center",
          "xref": "paper",
          "y": 0.6166666666666666,
          "yanchor": "bottom",
          "yref": "paper"
         },
         {
          "font": {
           "size": 16
          },
          "showarrow": false,
          "text": "Value Players",
          "x": 0.89375,
          "xanchor": "center",
          "xref": "paper",
          "y": 0.6166666666666666,
          "yanchor": "bottom",
          "yref": "paper"
         },
         {
          "font": {
           "size": 16
          },
          "showarrow": false,
          "text": "Best: Kristaps Porziņģis",
          "x": 0.10625,
          "xanchor": "center",
          "xref": "paper",
          "y": 0.2333333333333333,
          "yanchor": "bottom",
          "yref": "paper"
         },
         {
          "font": {
           "size": 16
          },
          "showarrow": false,
          "text": "Worst: Cody Williams",
          "x": 0.36875,
          "xanchor": "center",
          "xref": "paper",
          "y": 0.2333333333333333,
          "yanchor": "bottom",
          "yref": "paper"
         },
         {
          "font": {
           "size": 16
          },
          "showarrow": false,
          "text": "Market Health (%)",
          "x": 0.6312500000000001,
          "xanchor": "center",
          "xref": "paper",
          "y": 0.2333333333333333,
          "yanchor": "bottom",
          "yref": "paper"
         },
         {
          "font": {
           "size": 16
          },
          "showarrow": false,
          "text": "ROI Opportunity",
          "x": 0.89375,
          "xanchor": "center",
          "xref": "paper",
          "y": 0.2333333333333333,
          "yanchor": "bottom",
          "yref": "paper"
         }
        ],
        "autosize": true,
        "font": {
         "family": "Arial",
         "size": 14
        },
        "margin": {
         "b": 60,
         "l": 40,
         "r": 40,
         "t": 100
        },
        "paper_bgcolor": "rgba(245,245,255,0.8)",
        "template": {
         "data": {
          "bar": [
           {
            "error_x": {
             "color": "#2a3f5f"
            },
            "error_y": {
             "color": "#2a3f5f"
            },
            "marker": {
             "line": {
              "color": "#E5ECF6",
              "width": 0.5
             },
             "pattern": {
              "fillmode": "overlay",
              "size": 10,
              "solidity": 0.2
             }
            },
            "type": "bar"
           }
          ],
          "barpolar": [
           {
            "marker": {
             "line": {
              "color": "#E5ECF6",
              "width": 0.5
             },
             "pattern": {
              "fillmode": "overlay",
              "size": 10,
              "solidity": 0.2
             }
            },
            "type": "barpolar"
           }
          ],
          "carpet": [
           {
            "aaxis": {
             "endlinecolor": "#2a3f5f",
             "gridcolor": "white",
             "linecolor": "white",
             "minorgridcolor": "white",
             "startlinecolor": "#2a3f5f"
            },
            "baxis": {
             "endlinecolor": "#2a3f5f",
             "gridcolor": "white",
             "linecolor": "white",
             "minorgridcolor": "white",
             "startlinecolor": "#2a3f5f"
            },
            "type": "carpet"
           }
          ],
          "choropleth": [
           {
            "colorbar": {
             "outlinewidth": 0,
             "ticks": ""
            },
            "type": "choropleth"
           }
          ],
          "contour": [
           {
            "colorbar": {
             "outlinewidth": 0,
             "ticks": ""
            },
            "colorscale": [
             [
              0,
              "#0d0887"
             ],
             [
              0.1111111111111111,
              "#46039f"
             ],
             [
              0.2222222222222222,
              "#7201a8"
             ],
             [
              0.3333333333333333,
              "#9c179e"
             ],
             [
              0.4444444444444444,
              "#bd3786"
             ],
             [
              0.5555555555555556,
              "#d8576b"
             ],
             [
              0.6666666666666666,
              "#ed7953"
             ],
             [
              0.7777777777777778,
              "#fb9f3a"
             ],
             [
              0.8888888888888888,
              "#fdca26"
             ],
             [
              1,
              "#f0f921"
             ]
            ],
            "type": "contour"
           }
          ],
          "contourcarpet": [
           {
            "colorbar": {
             "outlinewidth": 0,
             "ticks": ""
            },
            "type": "contourcarpet"
           }
          ],
          "heatmap": [
           {
            "colorbar": {
             "outlinewidth": 0,
             "ticks": ""
            },
            "colorscale": [
             [
              0,
              "#0d0887"
             ],
             [
              0.1111111111111111,
              "#46039f"
             ],
             [
              0.2222222222222222,
              "#7201a8"
             ],
             [
              0.3333333333333333,
              "#9c179e"
             ],
             [
              0.4444444444444444,
              "#bd3786"
             ],
             [
              0.5555555555555556,
              "#d8576b"
             ],
             [
              0.6666666666666666,
              "#ed7953"
             ],
             [
              0.7777777777777778,
              "#fb9f3a"
             ],
             [
              0.8888888888888888,
              "#fdca26"
             ],
             [
              1,
              "#f0f921"
             ]
            ],
            "type": "heatmap"
           }
          ],
          "heatmapgl": [
           {
            "colorbar": {
             "outlinewidth": 0,
             "ticks": ""
            },
            "colorscale": [
             [
              0,
              "#0d0887"
             ],
             [
              0.1111111111111111,
              "#46039f"
             ],
             [
              0.2222222222222222,
              "#7201a8"
             ],
             [
              0.3333333333333333,
              "#9c179e"
             ],
             [
              0.4444444444444444,
              "#bd3786"
             ],
             [
              0.5555555555555556,
              "#d8576b"
             ],
             [
              0.6666666666666666,
              "#ed7953"
             ],
             [
              0.7777777777777778,
              "#fb9f3a"
             ],
             [
              0.8888888888888888,
              "#fdca26"
             ],
             [
              1,
              "#f0f921"
             ]
            ],
            "type": "heatmapgl"
           }
          ],
          "histogram": [
           {
            "marker": {
             "pattern": {
              "fillmode": "overlay",
              "size": 10,
              "solidity": 0.2
             }
            },
            "type": "histogram"
           }
          ],
          "histogram2d": [
           {
            "colorbar": {
             "outlinewidth": 0,
             "ticks": ""
            },
            "colorscale": [
             [
              0,
              "#0d0887"
             ],
             [
              0.1111111111111111,
              "#46039f"
             ],
             [
              0.2222222222222222,
              "#7201a8"
             ],
             [
              0.3333333333333333,
              "#9c179e"
             ],
             [
              0.4444444444444444,
              "#bd3786"
             ],
             [
              0.5555555555555556,
              "#d8576b"
             ],
             [
              0.6666666666666666,
              "#ed7953"
             ],
             [
              0.7777777777777778,
              "#fb9f3a"
             ],
             [
              0.8888888888888888,
              "#fdca26"
             ],
             [
              1,
              "#f0f921"
             ]
            ],
            "type": "histogram2d"
           }
          ],
          "histogram2dcontour": [
           {
            "colorbar": {
             "outlinewidth": 0,
             "ticks": ""
            },
            "colorscale": [
             [
              0,
              "#0d0887"
             ],
             [
              0.1111111111111111,
              "#46039f"
             ],
             [
              0.2222222222222222,
              "#7201a8"
             ],
             [
              0.3333333333333333,
              "#9c179e"
             ],
             [
              0.4444444444444444,
              "#bd3786"
             ],
             [
              0.5555555555555556,
              "#d8576b"
             ],
             [
              0.6666666666666666,
              "#ed7953"
             ],
             [
              0.7777777777777778,
              "#fb9f3a"
             ],
             [
              0.8888888888888888,
              "#fdca26"
             ],
             [
              1,
              "#f0f921"
             ]
            ],
            "type": "histogram2dcontour"
           }
          ],
          "mesh3d": [
           {
            "colorbar": {
             "outlinewidth": 0,
             "ticks": ""
            },
            "type": "mesh3d"
           }
          ],
          "parcoords": [
           {
            "line": {
             "colorbar": {
              "outlinewidth": 0,
              "ticks": ""
             }
            },
            "type": "parcoords"
           }
          ],
          "pie": [
           {
            "automargin": true,
            "type": "pie"
           }
          ],
          "scatter": [
           {
            "fillpattern": {
             "fillmode": "overlay",
             "size": 10,
             "solidity": 0.2
            },
            "type": "scatter"
           }
          ],
          "scatter3d": [
           {
            "line": {
             "colorbar": {
              "outlinewidth": 0,
              "ticks": ""
             }
            },
            "marker": {
             "colorbar": {
              "outlinewidth": 0,
              "ticks": ""
             }
            },
            "type": "scatter3d"
           }
          ],
          "scattercarpet": [
           {
            "marker": {
             "colorbar": {
              "outlinewidth": 0,
              "ticks": ""
             }
            },
            "type": "scattercarpet"
           }
          ],
          "scattergeo": [
           {
            "marker": {
             "colorbar": {
              "outlinewidth": 0,
              "ticks": ""
             }
            },
            "type": "scattergeo"
           }
          ],
          "scattergl": [
           {
            "marker": {
             "colorbar": {
              "outlinewidth": 0,
              "ticks": ""
             }
            },
            "type": "scattergl"
           }
          ],
          "scattermapbox": [
           {
            "marker": {
             "colorbar": {
              "outlinewidth": 0,
              "ticks": ""
             }
            },
            "type": "scattermapbox"
           }
          ],
          "scatterpolar": [
           {
            "marker": {
             "colorbar": {
              "outlinewidth": 0,
              "ticks": ""
             }
            },
            "type": "scatterpolar"
           }
          ],
          "scatterpolargl": [
           {
            "marker": {
             "colorbar": {
              "outlinewidth": 0,
              "ticks": ""
             }
            },
            "type": "scatterpolargl"
           }
          ],
          "scatterternary": [
           {
            "marker": {
             "colorbar": {
              "outlinewidth": 0,
              "ticks": ""
             }
            },
            "type": "scatterternary"
           }
          ],
          "surface": [
           {
            "colorbar": {
             "outlinewidth": 0,
             "ticks": ""
            },
            "colorscale": [
             [
              0,
              "#0d0887"
             ],
             [
              0.1111111111111111,
              "#46039f"
             ],
             [
              0.2222222222222222,
              "#7201a8"
             ],
             [
              0.3333333333333333,
              "#9c179e"
             ],
             [
              0.4444444444444444,
              "#bd3786"
             ],
             [
              0.5555555555555556,
              "#d8576b"
             ],
             [
              0.6666666666666666,
              "#ed7953"
             ],
             [
              0.7777777777777778,
              "#fb9f3a"
             ],
             [
              0.8888888888888888,
              "#fdca26"
             ],
             [
              1,
              "#f0f921"
             ]
            ],
            "type": "surface"
           }
          ],
          "table": [
           {
            "cells": {
             "fill": {
              "color": "#EBF0F8"
             },
             "line": {
              "color": "white"
             }
            },
            "header": {
             "fill": {
              "color": "#C8D4E3"
             },
             "line": {
              "color": "white"
             }
            },
            "type": "table"
           }
          ]
         },
         "layout": {
          "annotationdefaults": {
           "arrowcolor": "#2a3f5f",
           "arrowhead": 0,
           "arrowwidth": 1
          },
          "autotypenumbers": "strict",
          "coloraxis": {
           "colorbar": {
            "outlinewidth": 0,
            "ticks": ""
           }
          },
          "colorscale": {
           "diverging": [
            [
             0,
             "#8e0152"
            ],
            [
             0.1,
             "#c51b7d"
            ],
            [
             0.2,
             "#de77ae"
            ],
            [
             0.3,
             "#f1b6da"
            ],
            [
             0.4,
             "#fde0ef"
            ],
            [
             0.5,
             "#f7f7f7"
            ],
            [
             0.6,
             "#e6f5d0"
            ],
            [
             0.7,
             "#b8e186"
            ],
            [
             0.8,
             "#7fbc41"
            ],
            [
             0.9,
             "#4d9221"
            ],
            [
             1,
             "#276419"
            ]
           ],
           "sequential": [
            [
             0,
             "#0d0887"
            ],
            [
             0.1111111111111111,
             "#46039f"
            ],
            [
             0.2222222222222222,
             "#7201a8"
            ],
            [
             0.3333333333333333,
             "#9c179e"
            ],
            [
             0.4444444444444444,
             "#bd3786"
            ],
            [
             0.5555555555555556,
             "#d8576b"
            ],
            [
             0.6666666666666666,
             "#ed7953"
            ],
            [
             0.7777777777777778,
             "#fb9f3a"
            ],
            [
             0.8888888888888888,
             "#fdca26"
            ],
            [
             1,
             "#f0f921"
            ]
           ],
           "sequentialminus": [
            [
             0,
             "#0d0887"
            ],
            [
             0.1111111111111111,
             "#46039f"
            ],
            [
             0.2222222222222222,
             "#7201a8"
            ],
            [
             0.3333333333333333,
             "#9c179e"
            ],
            [
             0.4444444444444444,
             "#bd3786"
            ],
            [
             0.5555555555555556,
             "#d8576b"
            ],
            [
             0.6666666666666666,
             "#ed7953"
            ],
            [
             0.7777777777777778,
             "#fb9f3a"
            ],
            [
             0.8888888888888888,
             "#fdca26"
            ],
            [
             1,
             "#f0f921"
            ]
           ]
          },
          "colorway": [
           "#636efa",
           "#EF553B",
           "#00cc96",
           "#ab63fa",
           "#FFA15A",
           "#19d3f3",
           "#FF6692",
           "#B6E880",
           "#FF97FF",
           "#FECB52"
          ],
          "font": {
           "color": "#2a3f5f"
          },
          "geo": {
           "bgcolor": "white",
           "lakecolor": "white",
           "landcolor": "#E5ECF6",
           "showlakes": true,
           "showland": true,
           "subunitcolor": "white"
          },
          "hoverlabel": {
           "align": "left"
          },
          "hovermode": "closest",
          "mapbox": {
           "style": "light"
          },
          "paper_bgcolor": "white",
          "plot_bgcolor": "#E5ECF6",
          "polar": {
           "angularaxis": {
            "gridcolor": "white",
            "linecolor": "white",
            "ticks": ""
           },
           "bgcolor": "#E5ECF6",
           "radialaxis": {
            "gridcolor": "white",
            "linecolor": "white",
            "ticks": ""
           }
          },
          "scene": {
           "xaxis": {
            "backgroundcolor": "#E5ECF6",
            "gridcolor": "white",
            "gridwidth": 2,
            "linecolor": "white",
            "showbackground": true,
            "ticks": "",
            "zerolinecolor": "white"
           },
           "yaxis": {
            "backgroundcolor": "#E5ECF6",
            "gridcolor": "white",
            "gridwidth": 2,
            "linecolor": "white",
            "showbackground": true,
            "ticks": "",
            "zerolinecolor": "white"
           },
           "zaxis": {
            "backgroundcolor": "#E5ECF6",
            "gridcolor": "white",
            "gridwidth": 2,
            "linecolor": "white",
            "showbackground": true,
            "ticks": "",
            "zerolinecolor": "white"
           }
          },
          "shapedefaults": {
           "line": {
            "color": "#2a3f5f"
           }
          },
          "ternary": {
           "aaxis": {
            "gridcolor": "white",
            "linecolor": "white",
            "ticks": ""
           },
           "baxis": {
            "gridcolor": "white",
            "linecolor": "white",
            "ticks": ""
           },
           "bgcolor": "#E5ECF6",
           "caxis": {
            "gridcolor": "white",
            "linecolor": "white",
            "ticks": ""
           }
          },
          "title": {
           "x": 0.05
          },
          "xaxis": {
           "automargin": true,
           "gridcolor": "white",
           "linecolor": "white",
           "ticks": "",
           "title": {
            "standoff": 15
           },
           "zerolinecolor": "white",
           "zerolinewidth": 2
          },
          "yaxis": {
           "automargin": true,
           "gridcolor": "white",
           "linecolor": "white",
           "ticks": "",
           "title": {
            "standoff": 15
           },
           "zerolinecolor": "white",
           "zerolinewidth": 2
          }
         }
        },
        "title": {
         "font": {
          "color": "darkblue",
          "family": "Arial Black",
          "size": 28
         },
         "text": "NBA EXECUTIVE DASHBOARD - MARKET ANALYSIS",
         "x": 0.5
        }
       }
      },
      "image/png": "[encoded data removed]",
      "text/html": [
       "<div>                            <div id=\"b6f7ae91-bd66-4aa6-bda7-ae5c495d33c3\" class=\"plotly-graph-div\" style=\"height:650px; width:100%;\"></div>            <script type=\"text/javascript\">                require([\"plotly\"], function(Plotly) {                    window.PLOTLYENV=window.PLOTLYENV || {};                                    if (document.getElementById(\"b6f7ae91-bd66-4aa6-bda7-ae5c495d33c3\")) {                    Plotly.newPlot(                        \"b6f7ae91-bd66-4aa6-bda7-ae5c495d33c3\",                        [{\"mode\":\"number\",\"number\":{\"font\":{\"color\":\"darkblue\",\"size\":40},\"prefix\":\"$\",\"suffix\":\"B\"},\"value\":4.514506170910484,\"type\":\"indicator\",\"domain\":{\"x\":[0.0,0.2125],\"y\":[0.7666666666666666,0.9999999999999999]}},{\"mode\":\"number\",\"number\":{\"font\":{\"color\":\"red\",\"size\":40},\"prefix\":\"$\",\"suffix\":\"B\"},\"value\":1.4328772837608872,\"type\":\"indicator\",\"domain\":{\"x\":[0.2625,0.475],\"y\":[0.7666666666666666,0.9999999999999999]}},{\"mode\":\"number\",\"number\":{\"font\":{\"color\":\"darkgreen\",\"size\":40}},\"value\":489,\"type\":\"indicator\",\"domain\":{\"x\":[0.525,0.7375],\"y\":[0.7666666666666666,0.9999999999999999]}},{\"mode\":\"number\",\"number\":{\"font\":{\"color\":\"purple\",\"size\":40}},\"value\":1.1362863386961402,\"type\":\"indicator\",\"domain\":{\"x\":[0.7875,1.0],\"y\":[0.7666666666666666,0.9999999999999999]}},{\"mode\":\"number\",\"number\":{\"font\":{\"color\":\"green\",\"size\":40},\"prefix\":\"$\",\"suffix\":\"B\"},\"value\":0.8597263702565323,\"type\":\"indicator\",\"domain\":{\"x\":[0.0,0.2125],\"y\":[0.3833333333333333,0.6166666666666666]}},{\"mode\":\"number\",\"number\":{\"font\":{\"color\":\"blue\",\"size\":40},\"suffix\":\"%\"},\"value\":19.043641490540768,\"type\":\"indicator\",\"domain\":{\"x\":[0.2625,0.475],\"y\":[0.3833333333333333,0.6166666666666666]}},{\"mode\":\"number\",\"number\":{\"font\":{\"color\":\"red\",\"size\":40}},\"value\":151,\"type\":\"indicator\",\"domain\":{\"x\":[0.525,0.7375],\"y\":[0.3833333333333333,0.6166666666666666]}},{\"mode\":\"number\",\"number\":{\"font\":{\"color\":\"green\",\"size\":40}},\"value\":338,\"type\":\"indicator\",\"domain\":{\"x\":[0.7875,1.0],\"y\":[0.3833333333333333,0.6166666666666666]}},{\"mode\":\"number\",\"number\":{\"font\":{\"color\":\"green\",\"size\":32}},\"value\":1.3271956088483128,\"type\":\"indicator\",\"domain\":{\"x\":[0.0,0.2125],\"y\":[0.0,0.2333333333333333]}},{\"mode\":\"number\",\"number\":{\"font\":{\"color\":\"red\",\"size\":32}},\"value\":-0.17414078934536992,\"type\":\"indicator\",\"domain\":{\"x\":[0.2625,0.475],\"y\":[0.0,0.2333333333333333]}},{\"mode\":\"number\",\"number\":{\"font\":{\"color\":\"darkgreen\",\"size\":32},\"suffix\":\"%\"},\"value\":69.12065439672801,\"type\":\"indicator\",\"domain\":{\"x\":[0.525,0.7375],\"y\":[0.0,0.2333333333333333]}},{\"mode\":\"number\",\"number\":{\"font\":{\"color\":\"purple\",\"size\":32},\"suffix\":\"%\"},\"value\":21.071724761189518,\"type\":\"indicator\",\"domain\":{\"x\":[0.7875,1.0],\"y\":[0.0,0.2333333333333333]}}],                        {\"template\":{\"data\":{\"histogram2dcontour\":[{\"type\":\"histogram2dcontour\",\"colorbar\":{\"outlinewidth\":0,\"ticks\":\"\"},\"colorscale\":[[0.0,\"#0d0887\"],[0.1111111111111111,\"#46039f\"],[0.2222222222222222,\"#7201a8\"],[0.3333333333333333,\"#9c179e\"],[0.4444444444444444,\"#bd3786\"],[0.5555555555555556,\"#d8576b\"],[0.6666666666666666,\"#ed7953\"],[0.7777777777777778,\"#fb9f3a\"],[0.8888888888888888,\"#fdca26\"],[1.0,\"#f0f921\"]]}],\"choropleth\":[{\"type\":\"choropleth\",\"colorbar\":{\"outlinewidth\":0,\"ticks\":\"\"}}],\"histogram2d\":[{\"type\":\"histogram2d\",\"colorbar\":{\"outlinewidth\":0,\"ticks\":\"\"},\"colorscale\":[[0.0,\"#0d0887\"],[0.1111111111111111,\"#46039f\"],[0.2222222222222222,\"#7201a8\"],[0.3333333333333333,\"#9c179e\"],[0.4444444444444444,\"#bd3786\"],[0.5555555555555556,\"#d8576b\"],[0.6666666666666666,\"#ed7953\"],[0.7777777777777778,\"#fb9f3a\"],[0.8888888888888888,\"#fdca26\"],[1.0,\"#f0f921\"]]}],\"heatmap\":[{\"type\":\"heatmap\",\"colorbar\":{\"outlinewidth\":0,\"ticks\":\"\"},\"colorscale\":[[0.0,\"#0d0887\"],[0.1111111111111111,\"#46039f\"],[0.2222222222222222,\"#7201a8\"],[0.3333333333333333,\"#9c179e\"],[0.4444444444444444,\"#bd3786\"],[0.5555555555555556,\"#d8576b\"],[0.6666666666666666,\"#ed7953\"],[0.7777777777777778,\"#fb9f3a\"],[0.8888888888888888,\"#fdca26\"],[1.0,\"#f0f921\"]]}],\"heatmapgl\":[{\"type\":\"heatmapgl\",\"colorbar\":{\"outlinewidth\":0,\"ticks\":\"\"},\"colorscale\":[[0.0,\"#0d0887\"],[0.1111111111111111,\"#46039f\"],[0.2222222222222222,\"#7201a8\"],[0.3333333333333333,\"#9c179e\"],[0.4444444444444444,\"#bd3786\"],[0.5555555555555556,\"#d8576b\"],[0.6666666666666666,\"#ed7953\"],[0.7777777777777778,\"#fb9f3a\"],[0.8888888888888888,\"#fdca26\"],[1.0,\"#f0f921\"]]}],\"contourcarpet\":[{\"type\":\"contourcarpet\",\"colorbar\":{\"outlinewidth\":0,\"ticks\":\"\"}}],\"contour\":[{\"type\":\"contour\",\"colorbar\":{\"outlinewidth\":0,\"ticks\":\"\"},\"colorscale\":[[0.0,\"#0d0887\"],[0.1111111111111111,\"#46039f\"],[0.2222222222222222,\"#7201a8\"],[0.3333333333333333,\"#9c179e\"],[0.4444444444444444,\"#bd3786\"],[0.5555555555555556,\"#d8576b\"],[0.6666666666666666,\"#ed7953\"],[0.7777777777777778,\"#fb9f3a\"],[0.8888888888888888,\"#fdca26\"],[1.0,\"#f0f921\"]]}],\"surface\":[{\"type\":\"surface\",\"colorbar\":{\"outlinewidth\":0,\"ticks\":\"\"},\"colorscale\":[[0.0,\"#0d0887\"],[0.1111111111111111,\"#46039f\"],[0.2222222222222222,\"#7201a8\"],[0.3333333333333333,\"#9c179e\"],[0.4444444444444444,\"#bd3786\"],[0.5555555555555556,\"#d8576b\"],[0.6666666666666666,\"#ed7953\"],[0.7777777777777778,\"#fb9f3a\"],[0.8888888888888888,\"#fdca26\"],[1.0,\"#f0f921\"]]}],\"mesh3d\":[{\"type\":\"mesh3d\",\"colorbar\":{\"outlinewidth\":0,\"ticks\":\"\"}}],\"scatter\":[{\"fillpattern\":{\"fillmode\":\"overlay\",\"size\":10,\"solidity\":0.2},\"type\":\"scatter\"}],\"parcoords\":[{\"type\":\"parcoords\",\"line\":{\"colorbar\":{\"outlinewidth\":0,\"ticks\":\"\"}}}],\"scatterpolargl\":[{\"type\":\"scatterpolargl\",\"marker\":{\"colorbar\":{\"outlinewidth\":0,\"ticks\":\"\"}}}],\"bar\":[{\"error_x\":{\"color\":\"#2a3f5f\"},\"error_y\":{\"color\":\"#2a3f5f\"},\"marker\":{\"line\":{\"color\":\"#E5ECF6\",\"width\":0.5},\"pattern\":{\"fillmode\":\"overlay\",\"size\":10,\"solidity\":0.2}},\"type\":\"bar\"}],\"scattergeo\":[{\"type\":\"scattergeo\",\"marker\":{\"colorbar\":{\"outlinewidth\":0,\"ticks\":\"\"}}}],\"scatterpolar\":[{\"type\":\"scatterpolar\",\"marker\":{\"colorbar\":{\"outlinewidth\":0,\"ticks\":\"\"}}}],\"histogram\":[{\"marker\":{\"pattern\":{\"fillmode\":\"overlay\",\"size\":10,\"solidity\":0.2}},\"type\":\"histogram\"}],\"scattergl\":[{\"type\":\"scattergl\",\"marker\":{\"colorbar\":{\"outlinewidth\":0,\"ticks\":\"\"}}}],\"scatter3d\":[{\"type\":\"scatter3d\",\"line\":{\"colorbar\":{\"outlinewidth\":0,\"ticks\":\"\"}},\"marker\":{\"colorbar\":{\"outlinewidth\":0,\"ticks\":\"\"}}}],\"scattermapbox\":[{\"type\":\"scattermapbox\",\"marker\":{\"colorbar\":{\"outlinewidth\":0,\"ticks\":\"\"}}}],\"scatterternary\":[{\"type\":\"scatterternary\",\"marker\":{\"colorbar\":{\"outlinewidth\":0,\"ticks\":\"\"}}}],\"scattercarpet\":[{\"type\":\"scattercarpet\",\"marker\":{\"colorbar\":{\"outlinewidth\":0,\"ticks\":\"\"}}}],\"carpet\":[{\"aaxis\":{\"endlinecolor\":\"#2a3f5f\",\"gridcolor\":\"white\",\"linecolor\":\"white\",\"minorgridcolor\":\"white\",\"startlinecolor\":\"#2a3f5f\"},\"baxis\":{\"endlinecolor\":\"#2a3f5f\",\"gridcolor\":\"white\",\"linecolor\":\"white\",\"minorgridcolor\":\"white\",\"startlinecolor\":\"#2a3f5f\"},\"type\":\"carpet\"}],\"table\":[{\"cells\":{\"fill\":{\"color\":\"#EBF0F8\"},\"line\":{\"color\":\"white\"}},\"header\":{\"fill\":{\"color\":\"#C8D4E3\"},\"line\":{\"color\":\"white\"}},\"type\":\"table\"}],\"barpolar\":[{\"marker\":{\"line\":{\"color\":\"#E5ECF6\",\"width\":0.5},\"pattern\":{\"fillmode\":\"overlay\",\"size\":10,\"solidity\":0.2}},\"type\":\"barpolar\"}],\"pie\":[{\"automargin\":true,\"type\":\"pie\"}]},\"layout\":{\"autotypenumbers\":\"strict\",\"colorway\":[\"#636efa\",\"#EF553B\",\"#00cc96\",\"#ab63fa\",\"#FFA15A\",\"#19d3f3\",\"#FF6692\",\"#B6E880\",\"#FF97FF\",\"#FECB52\"],\"font\":{\"color\":\"#2a3f5f\"},\"hovermode\":\"closest\",\"hoverlabel\":{\"align\":\"left\"},\"paper_bgcolor\":\"white\",\"plot_bgcolor\":\"#E5ECF6\",\"polar\":{\"bgcolor\":\"#E5ECF6\",\"angularaxis\":{\"gridcolor\":\"white\",\"linecolor\":\"white\",\"ticks\":\"\"},\"radialaxis\":{\"gridcolor\":\"white\",\"linecolor\":\"white\",\"ticks\":\"\"}},\"ternary\":{\"bgcolor\":\"#E5ECF6\",\"aaxis\":{\"gridcolor\":\"white\",\"linecolor\":\"white\",\"ticks\":\"\"},\"baxis\":{\"gridcolor\":\"white\",\"linecolor\":\"white\",\"ticks\":\"\"},\"caxis\":{\"gridcolor\":\"white\",\"linecolor\":\"white\",\"ticks\":\"\"}},\"coloraxis\":{\"colorbar\":{\"outlinewidth\":0,\"ticks\":\"\"}},\"colorscale\":{\"sequential\":[[0.0,\"#0d0887\"],[0.1111111111111111,\"#46039f\"],[0.2222222222222222,\"#7201a8\"],[0.3333333333333333,\"#9c179e\"],[0.4444444444444444,\"#bd3786\"],[0.5555555555555556,\"#d8576b\"],[0.6666666666666666,\"#ed7953\"],[0.7777777777777778,\"#fb9f3a\"],[0.8888888888888888,\"#fdca26\"],[1.0,\"#f0f921\"]],\"sequentialminus\":[[0.0,\"#0d0887\"],[0.1111111111111111,\"#46039f\"],[0.2222222222222222,\"#7201a8\"],[0.3333333333333333,\"#9c179e\"],[0.4444444444444444,\"#bd3786\"],[0.5555555555555556,\"#d8576b\"],[0.6666666666666666,\"#ed7953\"],[0.7777777777777778,\"#fb9f3a\"],[0.8888888888888888,\"#fdca26\"],[1.0,\"#f0f921\"]],\"diverging\":[[0,\"#8e0152\"],[0.1,\"#c51b7d\"],[0.2,\"#de77ae\"],[0.3,\"#f1b6da\"],[0.4,\"#fde0ef\"],[0.5,\"#f7f7f7\"],[0.6,\"#e6f5d0\"],[0.7,\"#b8e186\"],[0.8,\"#7fbc41\"],[0.9,\"#4d9221\"],[1,\"#276419\"]]},\"xaxis\":{\"gridcolor\":\"white\",\"linecolor\":\"white\",\"ticks\":\"\",\"title\":{\"standoff\":15},\"zerolinecolor\":\"white\",\"automargin\":true,\"zerolinewidth\":2},\"yaxis\":{\"gridcolor\":\"white\",\"linecolor\":\"white\",\"ticks\":\"\",\"title\":{\"standoff\":15},\"zerolinecolor\":\"white\",\"automargin\":true,\"zerolinewidth\":2},\"scene\":{\"xaxis\":{\"backgroundcolor\":\"#E5ECF6\",\"gridcolor\":\"white\",\"linecolor\":\"white\",\"showbackground\":true,\"ticks\":\"\",\"zerolinecolor\":\"white\",\"gridwidth\":2},\"yaxis\":{\"backgroundcolor\":\"#E5ECF6\",\"gridcolor\":\"white\",\"linecolor\":\"white\",\"showbackground\":true,\"ticks\":\"\",\"zerolinecolor\":\"white\",\"gridwidth\":2},\"zaxis\":{\"backgroundcolor\":\"#E5ECF6\",\"gridcolor\":\"white\",\"linecolor\":\"white\",\"showbackground\":true,\"ticks\":\"\",\"zerolinecolor\":\"white\",\"gridwidth\":2}},\"shapedefaults\":{\"line\":{\"color\":\"#2a3f5f\"}},\"annotationdefaults\":{\"arrowcolor\":\"#2a3f5f\",\"arrowhead\":0,\"arrowwidth\":1},\"geo\":{\"bgcolor\":\"white\",\"landcolor\":\"#E5ECF6\",\"subunitcolor\":\"white\",\"showland\":true,\"showlakes\":true,\"lakecolor\":\"white\"},\"title\":{\"x\":0.05},\"mapbox\":{\"style\":\"light\"}}},\"annotations\":[{\"font\":{\"size\":16},\"showarrow\":false,\"text\":\"Total Market Value\",\"x\":0.10625,\"xanchor\":\"center\",\"xref\":\"paper\",\"y\":0.9999999999999999,\"yanchor\":\"bottom\",\"yref\":\"paper\"},{\"font\":{\"size\":16},\"showarrow\":false,\"text\":\"Market Overpay\",\"x\":0.36875,\"xanchor\":\"center\",\"xref\":\"paper\",\"y\":0.9999999999999999,\"yanchor\":\"bottom\",\"yref\":\"paper\"},{\"font\":{\"size\":16},\"showarrow\":false,\"text\":\"Players Analyzed\",\"x\":0.6312500000000001,\"xanchor\":\"center\",\"xref\":\"paper\",\"y\":0.9999999999999999,\"yanchor\":\"bottom\",\"yref\":\"paper\"},{\"font\":{\"size\":16},\"showarrow\":false,\"text\":\"Average Efficiency\",\"x\":0.89375,\"xanchor\":\"center\",\"xref\":\"paper\",\"y\":0.9999999999999999,\"yanchor\":\"bottom\",\"yref\":\"paper\"},{\"font\":{\"size\":16},\"showarrow\":false,\"text\":\"Potential Savings\",\"x\":0.10625,\"xanchor\":\"center\",\"xref\":\"paper\",\"y\":0.6166666666666666,\"yanchor\":\"bottom\",\"yref\":\"paper\"},{\"font\":{\"size\":16},\"showarrow\":false,\"text\":\"Recovery Rate (%)\",\"x\":0.36875,\"xanchor\":\"center\",\"xref\":\"paper\",\"y\":0.6166666666666666,\"yanchor\":\"bottom\",\"yref\":\"paper\"},{\"font\":{\"size\":16},\"showarrow\":false,\"text\":\"Overpaid Players\",\"x\":0.6312500000000001,\"xanchor\":\"center\",\"xref\":\"paper\",\"y\":0.6166666666666666,\"yanchor\":\"bottom\",\"yref\":\"paper\"},{\"font\":{\"size\":16},\"showarrow\":false,\"text\":\"Value Players\",\"x\":0.89375,\"xanchor\":\"center\",\"xref\":\"paper\",\"y\":0.6166666666666666,\"yanchor\":\"bottom\",\"yref\":\"paper\"},{\"font\":{\"size\":16},\"showarrow\":false,\"text\":\"Best: Kristaps Porziņģis\",\"x\":0.10625,\"xanchor\":\"center\",\"xref\":\"paper\",\"y\":0.2333333333333333,\"yanchor\":\"bottom\",\"yref\":\"paper\"},{\"font\":{\"size\":16},\"showarrow\":false,\"text\":\"Worst: Cody Williams\",\"x\":0.36875,\"xanchor\":\"center\",\"xref\":\"paper\",\"y\":0.2333333333333333,\"yanchor\":\"bottom\",\"yref\":\"paper\"},{\"font\":{\"size\":16},\"showarrow\":false,\"text\":\"Market Health (%)\",\"x\":0.6312500000000001,\"xanchor\":\"center\",\"xref\":\"paper\",\"y\":0.2333333333333333,\"yanchor\":\"bottom\",\"yref\":\"paper\"},{\"font\":{\"size\":16},\"showarrow\":false,\"text\":\"ROI Opportunity\",\"x\":0.89375,\"xanchor\":\"center\",\"xref\":\"paper\",\"y\":0.2333333333333333,\"yanchor\":\"bottom\",\"yref\":\"paper\"}],\"title\":{\"font\":{\"size\":28,\"color\":\"darkblue\",\"family\":\"Arial Black\"},\"text\":\"NBA EXECUTIVE DASHBOARD - MARKET ANALYSIS\",\"x\":0.5},\"font\":{\"family\":\"Arial\",\"size\":14},\"margin\":{\"t\":100,\"b\":60,\"l\":40,\"r\":40},\"height\":650,\"paper_bgcolor\":\"rgba(245,245,255,0.8)\"},                        {\"responsive\": true}                    ).then(function(){\n",
       "                            \n",
       "var gd = document.getElementById('b6f7ae91-bd66-4aa6-bda7-ae5c495d33c3');\n",
       "var x = new MutationObserver(function (mutations, observer) {{\n",
       "        var display = window.getComputedStyle(gd).display;\n",
       "        if (!display || display === 'none') {{\n",
       "            console.log([gd, 'removed!']);\n",
       "            Plotly.purge(gd);\n",
       "            observer.disconnect();\n",
       "        }}\n",
       "}});\n",
       "\n",
       "// Listen for the removal of the full notebook cells\n",
       "var notebookContainer = gd.closest('#notebook-container');\n",
       "if (notebookContainer) {{\n",
       "    x.observe(notebookContainer, {childList: true});\n",
       "}}\n",
       "\n",
       "// Listen for the clearing of the current output cell\n",
       "var outputEl = gd.closest('.output');\n",
       "if (outputEl) {{\n",
       "    x.observe(outputEl, {childList: true});\n",
       "}}\n",
       "\n",
       "                        })                };                });            </script>        </div>"
      ]
     },
     "metadata": {},
     "output_type": "display_data"
    },
    {
     "name": "stdout",
     "output_type": "stream",
     "text": [
      "\n",
      "2️⃣ Team Analysis (Color bar on side)...\n"
     ]
    },
    {
     "data": {
      "application/vnd.plotly.v1+json": {
       "config": {
        "plotlyServerURL": "https://plot.ly"
       },
       "data": [
        {
         "marker": {
          "color": [
           0.8978476496298278,
           0.7926758361704802,
           0.7119536745135784,
           0.702545980116812,
           0.6856643182040606,
           0.656219830328738,
           0.6486948014760591,
           0.6240698303229176,
           0.6186931551093129,
           0.6048614004891747,
           0.5777782645324347,
           0.5722309570288874,
           0.5674182168109658,
           0.5660924855972214,
           0.5621299305847286
          ],
          "colorscale": [
           [
            0,
            "rgb(165,0,38)"
           ],
           [
            0.1,
            "rgb(215,48,39)"
           ],
           [
            0.2,
            "rgb(244,109,67)"
           ],
           [
            0.3,
            "rgb(253,174,97)"
           ],
           [
            0.4,
            "rgb(254,224,139)"
           ],
           [
            0.5,
            "rgb(255,255,191)"
           ],
           [
            0.6,
            "rgb(217,239,139)"
           ],
           [
            0.7,
            "rgb(166,217,106)"
           ],
           [
            0.8,
            "rgb(102,189,99)"
           ],
           [
            0.9,
            "rgb(26,152,80)"
           ],
           [
            1,
            "rgb(0,104,55)"
           ]
          ],
          "showscale": false
         },
         "name": "Efficiency Score",
         "orientation": "h",
         "text": [
          "0.90",
          "0.79",
          "0.71",
          "0.70",
          "0.69",
          "0.66",
          "0.65",
          "0.62",
          "0.62",
          "0.60",
          "0.58",
          "0.57",
          "0.57",
          "0.57",
          "0.56"
         ],
         "textposition": "auto",
         "type": "bar",
         "x": [
          0.8978476496298278,
          0.7926758361704802,
          0.7119536745135784,
          0.702545980116812,
          0.6856643182040606,
          0.656219830328738,
          0.6486948014760591,
          0.6240698303229176,
          0.6186931551093129,
          0.6048614004891747,
          0.5777782645324347,
          0.5722309570288874,
          0.5674182168109658,
          0.5660924855972214,
          0.5621299305847286
         ],
         "xaxis": "x",
         "y": [
          "DAL",
          "LAC",
          "UTA",
          "POR",
          "CHA",
          "NOR",
          "SAS",
          "HOU",
          "LAL",
          "MIA",
          "BKN",
          "MIL",
          "CLE",
          "BOS",
          "GSW"
         ],
         "yaxis": "y"
        },
        {
         "marker": {
          "color": [
           0.7707370737073708,
           0.46528759580325924,
           0.47683335996165516,
           0.6613534930321523,
           0.42836247126837085,
           0.34853305054789674,
           0.6612541993281075,
           0.6168397881268487,
           0.5503178601415377,
           0.5926261436724342,
           0.5389637742207245,
           0.4883284545522781,
           0.38692680148105957,
           0.39043697094486385,
           0.5896522234891676,
           0.6078645548880394,
           0.5651513380857778,
           0.5527596504811415,
           0.5280050346129641,
           0.47777777777777775,
           0.3582047288687527,
           0.6475857242827152,
           0.4019409192705556,
           0.413202115551985,
           0.5104466019417475,
           0.38102579306255563,
           0.41809916923559226,
           0.36485421591804573,
           0.4916761914227501,
           0.39174352217830477
          ],
          "colorbar": {
           "len": 0.8,
           "title": {
            "text": "Efficiency"
           },
           "x": 1.02,
           "y": 0.5
          },
          "colorscale": [
           [
            0,
            "rgb(165,0,38)"
           ],
           [
            0.1,
            "rgb(215,48,39)"
           ],
           [
            0.2,
            "rgb(244,109,67)"
           ],
           [
            0.3,
            "rgb(253,174,97)"
           ],
           [
            0.4,
            "rgb(254,224,139)"
           ],
           [
            0.5,
            "rgb(255,255,191)"
           ],
           [
            0.6,
            "rgb(217,239,139)"
           ],
           [
            0.7,
            "rgb(166,217,106)"
           ],
           [
            0.8,
            "rgb(102,189,99)"
           ],
           [
            0.9,
            "rgb(26,152,80)"
           ],
           [
            1,
            "rgb(0,104,55)"
           ]
          ],
          "line": {
           "color": "black",
           "width": 1
          },
          "opacity": 0.8,
          "showscale": true,
          "size": [
           22.5,
           18,
           24,
           27,
           28.5,
           25.5,
           24,
           25.5,
           19.5,
           24,
           24,
           22.5,
           22.5,
           24,
           25.5,
           25.5,
           19.5,
           27,
           25.5,
           21,
           25.5,
           25.5,
           25.5,
           24,
           24,
           22.5,
           27,
           28.5,
           28.5,
           25.5
          ]
         },
         "mode": "markers+text",
         "name": "Team Performance",
         "text": [
          "DAL",
          "LAC",
          "UTA",
          "POR",
          "CHA",
          "NOR",
          "SAS",
          "HOU",
          "LAL",
          "MIA",
          "BKN",
          "MIL",
          "CLE",
          "BOS",
          "GSW",
          "CHI",
          "WAS",
          "OKC",
          "MEM",
          "ATL",
          "DEN",
          "DET",
          "ORL",
          "TOR",
          "SAC",
          "PHX",
          "MIN",
          "PHI",
          "IND",
          "NYK"
         ],
         "textposition": "top center",
         "type": "scatter",
         "x": [
          90.9,
          134.39,
          125.18,
          109.79,
          143.57,
          198.03,
          107.16,
          145.37,
          83.37,
          110.39,
          94.96,
          133.23,
          210.66,
          218.55,
          140.32,
          128.17,
          85.57,
          180.82,
          158.9,
          147.6,
          211.89,
          142.9,
          187.54,
          149.37,
          128.75,
          168.65,
          191.39,
          203.04,
          201.23,
          182.16
         ],
         "xaxis": "x2",
         "y": [
          70.06,
          62.53,
          59.69,
          72.61,
          61.5,
          69.02,
          70.86,
          89.67,
          45.88,
          65.42,
          51.18,
          65.06,
          81.51,
          85.33,
          82.74,
          77.91,
          48.36,
          99.95,
          83.9,
          70.52,
          75.9,
          92.54,
          75.38,
          61.72,
          65.72,
          64.26,
          80.02,
          74.08,
          98.94,
          71.36
         ],
         "yaxis": "y2"
        },
        {
         "marker": {
          "color": [
           "green",
           "green",
           "green",
           "green",
           "green",
           "red",
           "red",
           "red",
           "red",
           "red"
          ]
         },
         "name": "Overpay Amount",
         "orientation": "h",
         "text": [
          "$-88.5M",
          "$-84.3M",
          "$-78.8M",
          "$-71.7M",
          "$-70.0M",
          "$25.5M",
          "$22.1M",
          "$17.9M",
          "$8.0M",
          "$6.9M"
         ],
         "textposition": "auto",
         "type": "bar",
         "x": [
          -88.47,
          -84.27,
          -78.8,
          -71.73,
          -69.99,
          25.49,
          22.13,
          17.85,
          7.99,
          6.88
         ],
         "xaxis": "x3",
         "y": [
          "DET",
          "DAL",
          "HOU",
          "POR",
          "SAS",
          "NOR",
          "DEN",
          "PHI",
          "PHX",
          "CLE"
         ],
         "yaxis": "y3"
        },
        {
         "marker": {
          "color": [
           0.8978476496298278,
           0.7926758361704802,
           0.7119536745135784,
           0.702545980116812,
           0.6856643182040606,
           0.656219830328738,
           0.6486948014760591,
           0.6240698303229176,
           0.6186931551093129,
           0.6048614004891747,
           0.5777782645324347,
           0.5722309570288874,
           0.5674182168109658,
           0.5660924855972214,
           0.5621299305847286,
           0.5439856750815839,
           0.538831472707926,
           0.531583326520569,
           0.519417872252927,
           0.5147804597701149,
           0.508933093731508,
           0.5081864995046941,
           0.4980547613525431,
           0.4794619878940652,
           0.474554877052899,
           0.45824880917086663,
           0.4440999160491273,
           0.4367953320985981,
           0.4340523602210622,
           0.3786493624044558
          ],
          "colorscale": [
           [
            0,
            "#440154"
           ],
           [
            0.1111111111111111,
            "#482878"
           ],
           [
            0.2222222222222222,
            "#3e4989"
           ],
           [
            0.3333333333333333,
            "#31688e"
           ],
           [
            0.4444444444444444,
            "#26828e"
           ],
           [
            0.5555555555555556,
            "#1f9e89"
           ],
           [
            0.6666666666666666,
            "#35b779"
           ],
           [
            0.7777777777777778,
            "#6ece58"
           ],
           [
            0.8888888888888888,
            "#b5de2b"
           ],
           [
            1,
            "#fde725"
           ]
          ],
          "opacity": 0.8,
          "showscale": false,
          "size": 12
         },
         "mode": "markers+text",
         "name": "Age vs Efficiency",
         "text": [
          "DAL",
          "LAC",
          "UTA",
          "POR",
          "CHA",
          "NOR",
          "SAS",
          "HOU",
          "LAL",
          "MIA",
          "BKN",
          "MIL",
          "CLE",
          "BOS",
          "GSW",
          "CHI",
          "WAS",
          "OKC",
          "MEM",
          "ATL",
          "DEN",
          "DET",
          "ORL",
          "TOR",
          "SAC",
          "PHX",
          "MIN",
          "PHI",
          "IND",
          "NYK"
         ],
         "textposition": "top center",
         "type": "scatter",
         "x": [
          27,
          27.83,
          24,
          24.22,
          25.11,
          25.29,
          24.94,
          25.88,
          25.54,
          26.5,
          23.31,
          26.87,
          25.6,
          27.12,
          26.71,
          24.47,
          24.38,
          24.5,
          24.59,
          24.43,
          26.24,
          24.53,
          25.29,
          24.81,
          27.19,
          27.87,
          26.22,
          27.32,
          25.68,
          26.47
         ],
         "xaxis": "x4",
         "y": [
          0.7707370737073708,
          0.46528759580325924,
          0.47683335996165516,
          0.6613534930321523,
          0.42836247126837085,
          0.34853305054789674,
          0.6612541993281075,
          0.6168397881268487,
          0.5503178601415377,
          0.5926261436724342,
          0.5389637742207245,
          0.4883284545522781,
          0.38692680148105957,
          0.39043697094486385,
          0.5896522234891676,
          0.6078645548880394,
          0.5651513380857778,
          0.5527596504811415,
          0.5280050346129641,
          0.47777777777777775,
          0.3582047288687527,
          0.6475857242827152,
          0.4019409192705556,
          0.413202115551985,
          0.5104466019417475,
          0.38102579306255563,
          0.41809916923559226,
          0.36485421591804573,
          0.4916761914227501,
          0.39174352217830477
         ],
         "yaxis": "y4"
        }
       ],
       "layout": {
        "annotations": [
         {
          "font": {
           "size": 16
          },
          "showarrow": false,
          "text": "Team Efficiency Rankings",
          "x": 0.19125,
          "xanchor": "center",
          "xref": "paper",
          "y": 1,
          "yanchor": "bottom",
          "yref": "paper"
         },
         {
          "font": {
           "size": 16
          },
          "showarrow": false,
          "text": "Salary vs Performance",
          "x": 0.76625,
          "xanchor": "center",
          "xref": "paper",
          "y": 1,
          "yanchor": "bottom",
          "yref": "paper"
         },
         {
          "font": {
           "size": 16
          },
          "showarrow": false,
          "text": "Overpay Analysis (Top/Bottom 10)",
          "x": 0.19125,
          "xanchor": "center",
          "xref": "paper",
          "y": 0.375,
          "yanchor": "bottom",
          "yref": "paper"
         },
         {
          "font": {
           "size": 16
          },
          "showarrow": false,
          "text": "Age vs Efficiency",
          "x": 0.76625,
          "xanchor": "center",
          "xref": "paper",
          "y": 0.375,
          "yanchor": "bottom",
          "yref": "paper"
         }
        ],
        "autosize": true,
        "font": {
         "size": 11
        },
        "showlegend": false,
        "template": {
         "data": {
          "bar": [
           {
            "error_x": {
             "color": "#2a3f5f"
            },
            "error_y": {
             "color": "#2a3f5f"
            },
            "marker": {
             "line": {
              "color": "#E5ECF6",
              "width": 0.5
             },
             "pattern": {
              "fillmode": "overlay",
              "size": 10,
              "solidity": 0.2
             }
            },
            "type": "bar"
           }
          ],
          "barpolar": [
           {
            "marker": {
             "line": {
              "color": "#E5ECF6",
              "width": 0.5
             },
             "pattern": {
              "fillmode": "overlay",
              "size": 10,
              "solidity": 0.2
             }
            },
            "type": "barpolar"
           }
          ],
          "carpet": [
           {
            "aaxis": {
             "endlinecolor": "#2a3f5f",
             "gridcolor": "white",
             "linecolor": "white",
             "minorgridcolor": "white",
             "startlinecolor": "#2a3f5f"
            },
            "baxis": {
             "endlinecolor": "#2a3f5f",
             "gridcolor": "white",
             "linecolor": "white",
             "minorgridcolor": "white",
             "startlinecolor": "#2a3f5f"
            },
            "type": "carpet"
           }
          ],
          "choropleth": [
           {
            "colorbar": {
             "outlinewidth": 0,
             "ticks": ""
            },
            "type": "choropleth"
           }
          ],
          "contour": [
           {
            "colorbar": {
             "outlinewidth": 0,
             "ticks": ""
            },
            "colorscale": [
             [
              0,
              "#0d0887"
             ],
             [
              0.1111111111111111,
              "#46039f"
             ],
             [
              0.2222222222222222,
              "#7201a8"
             ],
             [
              0.3333333333333333,
              "#9c179e"
             ],
             [
              0.4444444444444444,
              "#bd3786"
             ],
             [
              0.5555555555555556,
              "#d8576b"
             ],
             [
              0.6666666666666666,
              "#ed7953"
             ],
             [
              0.7777777777777778,
              "#fb9f3a"
             ],
             [
              0.8888888888888888,
              "#fdca26"
             ],
             [
              1,
              "#f0f921"
             ]
            ],
            "type": "contour"
           }
          ],
          "contourcarpet": [
           {
            "colorbar": {
             "outlinewidth": 0,
             "ticks": ""
            },
            "type": "contourcarpet"
           }
          ],
          "heatmap": [
           {
            "colorbar": {
             "outlinewidth": 0,
             "ticks": ""
            },
            "colorscale": [
             [
              0,
              "#0d0887"
             ],
             [
              0.1111111111111111,
              "#46039f"
             ],
             [
              0.2222222222222222,
              "#7201a8"
             ],
             [
              0.3333333333333333,
              "#9c179e"
             ],
             [
              0.4444444444444444,
              "#bd3786"
             ],
             [
              0.5555555555555556,
              "#d8576b"
             ],
             [
              0.6666666666666666,
              "#ed7953"
             ],
             [
              0.7777777777777778,
              "#fb9f3a"
             ],
             [
              0.8888888888888888,
              "#fdca26"
             ],
             [
              1,
              "#f0f921"
             ]
            ],
            "type": "heatmap"
           }
          ],
          "heatmapgl": [
           {
            "colorbar": {
             "outlinewidth": 0,
             "ticks": ""
            },
            "colorscale": [
             [
              0,
              "#0d0887"
             ],
             [
              0.1111111111111111,
              "#46039f"
             ],
             [
              0.2222222222222222,
              "#7201a8"
             ],
             [
              0.3333333333333333,
              "#9c179e"
             ],
             [
              0.4444444444444444,
              "#bd3786"
             ],
             [
              0.5555555555555556,
              "#d8576b"
             ],
             [
              0.6666666666666666,
              "#ed7953"
             ],
             [
              0.7777777777777778,
              "#fb9f3a"
             ],
             [
              0.8888888888888888,
              "#fdca26"
             ],
             [
              1,
              "#f0f921"
             ]
            ],
            "type": "heatmapgl"
           }
          ],
          "histogram": [
           {
            "marker": {
             "pattern": {
              "fillmode": "overlay",
              "size": 10,
              "solidity": 0.2
             }
            },
            "type": "histogram"
           }
          ],
          "histogram2d": [
           {
            "colorbar": {
             "outlinewidth": 0,
             "ticks": ""
            },
            "colorscale": [
             [
              0,
              "#0d0887"
             ],
             [
              0.1111111111111111,
              "#46039f"
             ],
             [
              0.2222222222222222,
              "#7201a8"
             ],
             [
              0.3333333333333333,
              "#9c179e"
             ],
             [
              0.4444444444444444,
              "#bd3786"
             ],
             [
              0.5555555555555556,
              "#d8576b"
             ],
             [
              0.6666666666666666,
              "#ed7953"
             ],
             [
              0.7777777777777778,
              "#fb9f3a"
             ],
             [
              0.8888888888888888,
              "#fdca26"
             ],
             [
              1,
              "#f0f921"
             ]
            ],
            "type": "histogram2d"
           }
          ],
          "histogram2dcontour": [
           {
            "colorbar": {
             "outlinewidth": 0,
             "ticks": ""
            },
            "colorscale": [
             [
              0,
              "#0d0887"
             ],
             [
              0.1111111111111111,
              "#46039f"
             ],
             [
              0.2222222222222222,
              "#7201a8"
             ],
             [
              0.3333333333333333,
              "#9c179e"
             ],
             [
              0.4444444444444444,
              "#bd3786"
             ],
             [
              0.5555555555555556,
              "#d8576b"
             ],
             [
              0.6666666666666666,
              "#ed7953"
             ],
             [
              0.7777777777777778,
              "#fb9f3a"
             ],
             [
              0.8888888888888888,
              "#fdca26"
             ],
             [
              1,
              "#f0f921"
             ]
            ],
            "type": "histogram2dcontour"
           }
          ],
          "mesh3d": [
           {
            "colorbar": {
             "outlinewidth": 0,
             "ticks": ""
            },
            "type": "mesh3d"
           }
          ],
          "parcoords": [
           {
            "line": {
             "colorbar": {
              "outlinewidth": 0,
              "ticks": ""
             }
            },
            "type": "parcoords"
           }
          ],
          "pie": [
           {
            "automargin": true,
            "type": "pie"
           }
          ],
          "scatter": [
           {
            "fillpattern": {
             "fillmode": "overlay",
             "size": 10,
             "solidity": 0.2
            },
            "type": "scatter"
           }
          ],
          "scatter3d": [
           {
            "line": {
             "colorbar": {
              "outlinewidth": 0,
              "ticks": ""
             }
            },
            "marker": {
             "colorbar": {
              "outlinewidth": 0,
              "ticks": ""
             }
            },
            "type": "scatter3d"
           }
          ],
          "scattercarpet": [
           {
            "marker": {
             "colorbar": {
              "outlinewidth": 0,
              "ticks": ""
             }
            },
            "type": "scattercarpet"
           }
          ],
          "scattergeo": [
           {
            "marker": {
             "colorbar": {
              "outlinewidth": 0,
              "ticks": ""
             }
            },
            "type": "scattergeo"
           }
          ],
          "scattergl": [
           {
            "marker": {
             "colorbar": {
              "outlinewidth": 0,
              "ticks": ""
             }
            },
            "type": "scattergl"
           }
          ],
          "scattermapbox": [
           {
            "marker": {
             "colorbar": {
              "outlinewidth": 0,
              "ticks": ""
             }
            },
            "type": "scattermapbox"
           }
          ],
          "scatterpolar": [
           {
            "marker": {
             "colorbar": {
              "outlinewidth": 0,
              "ticks": ""
             }
            },
            "type": "scatterpolar"
           }
          ],
          "scatterpolargl": [
           {
            "marker": {
             "colorbar": {
              "outlinewidth": 0,
              "ticks": ""
             }
            },
            "type": "scatterpolargl"
           }
          ],
          "scatterternary": [
           {
            "marker": {
             "colorbar": {
              "outlinewidth": 0,
              "ticks": ""
             }
            },
            "type": "scatterternary"
           }
          ],
          "surface": [
           {
            "colorbar": {
             "outlinewidth": 0,
             "ticks": ""
            },
            "colorscale": [
             [
              0,
              "#0d0887"
             ],
             [
              0.1111111111111111,
              "#46039f"
             ],
             [
              0.2222222222222222,
              "#7201a8"
             ],
             [
              0.3333333333333333,
              "#9c179e"
             ],
             [
              0.4444444444444444,
              "#bd3786"
             ],
             [
              0.5555555555555556,
              "#d8576b"
             ],
             [
              0.6666666666666666,
              "#ed7953"
             ],
             [
              0.7777777777777778,
              "#fb9f3a"
             ],
             [
              0.8888888888888888,
              "#fdca26"
             ],
             [
              1,
              "#f0f921"
             ]
            ],
            "type": "surface"
           }
          ],
          "table": [
           {
            "cells": {
             "fill": {
              "color": "#EBF0F8"
             },
             "line": {
              "color": "white"
             }
            },
            "header": {
             "fill": {
              "color": "#C8D4E3"
             },
             "line": {
              "color": "white"
             }
            },
            "type": "table"
           }
          ]
         },
         "layout": {
          "annotationdefaults": {
           "arrowcolor": "#2a3f5f",
           "arrowhead": 0,
           "arrowwidth": 1
          },
          "autotypenumbers": "strict",
          "coloraxis": {
           "colorbar": {
            "outlinewidth": 0,
            "ticks": ""
           }
          },
          "colorscale": {
           "diverging": [
            [
             0,
             "#8e0152"
            ],
            [
             0.1,
             "#c51b7d"
            ],
            [
             0.2,
             "#de77ae"
            ],
            [
             0.3,
             "#f1b6da"
            ],
            [
             0.4,
             "#fde0ef"
            ],
            [
             0.5,
             "#f7f7f7"
            ],
            [
             0.6,
             "#e6f5d0"
            ],
            [
             0.7,
             "#b8e186"
            ],
            [
             0.8,
             "#7fbc41"
            ],
            [
             0.9,
             "#4d9221"
            ],
            [
             1,
             "#276419"
            ]
           ],
           "sequential": [
            [
             0,
             "#0d0887"
            ],
            [
             0.1111111111111111,
             "#46039f"
            ],
            [
             0.2222222222222222,
             "#7201a8"
            ],
            [
             0.3333333333333333,
             "#9c179e"
            ],
            [
             0.4444444444444444,
             "#bd3786"
            ],
            [
             0.5555555555555556,
             "#d8576b"
            ],
            [
             0.6666666666666666,
             "#ed7953"
            ],
            [
             0.7777777777777778,
             "#fb9f3a"
            ],
            [
             0.8888888888888888,
             "#fdca26"
            ],
            [
             1,
             "#f0f921"
            ]
           ],
           "sequentialminus": [
            [
             0,
             "#0d0887"
            ],
            [
             0.1111111111111111,
             "#46039f"
            ],
            [
             0.2222222222222222,
             "#7201a8"
            ],
            [
             0.3333333333333333,
             "#9c179e"
            ],
            [
             0.4444444444444444,
             "#bd3786"
            ],
            [
             0.5555555555555556,
             "#d8576b"
            ],
            [
             0.6666666666666666,
             "#ed7953"
            ],
            [
             0.7777777777777778,
             "#fb9f3a"
            ],
            [
             0.8888888888888888,
             "#fdca26"
            ],
            [
             1,
             "#f0f921"
            ]
           ]
          },
          "colorway": [
           "#636efa",
           "#EF553B",
           "#00cc96",
           "#ab63fa",
           "#FFA15A",
           "#19d3f3",
           "#FF6692",
           "#B6E880",
           "#FF97FF",
           "#FECB52"
          ],
          "font": {
           "color": "#2a3f5f"
          },
          "geo": {
           "bgcolor": "white",
           "lakecolor": "white",
           "landcolor": "#E5ECF6",
           "showlakes": true,
           "showland": true,
           "subunitcolor": "white"
          },
          "hoverlabel": {
           "align": "left"
          },
          "hovermode": "closest",
          "mapbox": {
           "style": "light"
          },
          "paper_bgcolor": "white",
          "plot_bgcolor": "#E5ECF6",
          "polar": {
           "angularaxis": {
            "gridcolor": "white",
            "linecolor": "white",
            "ticks": ""
           },
           "bgcolor": "#E5ECF6",
           "radialaxis": {
            "gridcolor": "white",
            "linecolor": "white",
            "ticks": ""
           }
          },
          "scene": {
           "xaxis": {
            "backgroundcolor": "#E5ECF6",
            "gridcolor": "white",
            "gridwidth": 2,
            "linecolor": "white",
            "showbackground": true,
            "ticks": "",
            "zerolinecolor": "white"
           },
           "yaxis": {
            "backgroundcolor": "#E5ECF6",
            "gridcolor": "white",
            "gridwidth": 2,
            "linecolor": "white",
            "showbackground": true,
            "ticks": "",
            "zerolinecolor": "white"
           },
           "zaxis": {
            "backgroundcolor": "#E5ECF6",
            "gridcolor": "white",
            "gridwidth": 2,
            "linecolor": "white",
            "showbackground": true,
            "ticks": "",
            "zerolinecolor": "white"
           }
          },
          "shapedefaults": {
           "line": {
            "color": "#2a3f5f"
           }
          },
          "ternary": {
           "aaxis": {
            "gridcolor": "white",
            "linecolor": "white",
            "ticks": ""
           },
           "baxis": {
            "gridcolor": "white",
            "linecolor": "white",
            "ticks": ""
           },
           "bgcolor": "#E5ECF6",
           "caxis": {
            "gridcolor": "white",
            "linecolor": "white",
            "ticks": ""
           }
          },
          "title": {
           "x": 0.05
          },
          "xaxis": {
           "automargin": true,
           "gridcolor": "white",
           "linecolor": "white",
           "ticks": "",
           "title": {
            "standoff": 15
           },
           "zerolinecolor": "white",
           "zerolinewidth": 2
          },
          "yaxis": {
           "automargin": true,
           "gridcolor": "white",
           "linecolor": "white",
           "ticks": "",
           "title": {
            "standoff": 15
           },
           "zerolinecolor": "white",
           "zerolinewidth": 2
          }
         }
        },
        "title": {
         "text": "TEAM EFFICIENCY ANALYSIS"
        },
        "xaxis": {
         "anchor": "y",
         "autorange": true,
         "domain": [
          0,
          0.3825
         ],
         "range": [
          0,
          0.9451027890840292
         ],
         "title": {
          "text": "Overall Efficiency Score"
         },
         "type": "linear"
        },
        "xaxis2": {
         "anchor": "y2",
         "autorange": true,
         "domain": [
          0.5325,
          1
         ],
         "range": [
          70.75087630060675,
          232.2181452954664
         ],
         "title": {
          "text": "Total Salary ($M)"
         },
         "type": "linear"
        },
        "xaxis3": {
         "anchor": "y3",
         "autorange": true,
         "domain": [
          0,
          0.3825
         ],
         "range": [
          -94.80111111111111,
          31.821111111111108
         ],
         "title": {
          "text": "Overpay Amount ($M)"
         },
         "type": "linear"
        },
        "xaxis4": {
         "anchor": "y4",
         "autorange": true,
         "domain": [
          0.5325,
          1
         ],
         "range": [
          22.955229055469022,
          28.224770944530977
         ],
         "title": {
          "text": "Average Age"
         },
         "type": "linear"
        },
        "yaxis": {
         "anchor": "x",
         "autorange": true,
         "domain": [
          0.625,
          1
         ],
         "range": [
          -0.5,
          14.5
         ],
         "title": {
          "text": "Team"
         },
         "type": "category"
        },
        "yaxis2": {
         "anchor": "x2",
         "autorange": true,
         "domain": [
          0.625,
          1
         ],
         "range": [
          37.7798847631242,
          109.78090909090909
         ],
         "title": {
          "text": "Total Value Score"
         },
         "type": "linear"
        },
        "yaxis3": {
         "anchor": "x3",
         "autorange": true,
         "domain": [
          0,
          0.375
         ],
         "range": [
          -0.5,
          9.5
         ],
         "title": {
          "text": "Team"
         },
         "type": "category"
        },
        "yaxis4": {
         "anchor": "x4",
         "autorange": true,
         "domain": [
          0,
          0.375
         ],
         "range": [
          0.3031559826382336,
          0.8161141416170339
         ],
         "title": {
          "text": "Efficiency Rating"
         },
         "type": "linear"
        }
       }
      },
      "image/png": "[encoded data removed]",
      "text/html": [
       "<div>                            <div id=\"7eb4b1ac-3962-4080-90ca-353c9ad521f2\" class=\"plotly-graph-div\" style=\"height:700px; width:100%;\"></div>            <script type=\"text/javascript\">                require([\"plotly\"], function(Plotly) {                    window.PLOTLYENV=window.PLOTLYENV || {};                                    if (document.getElementById(\"7eb4b1ac-3962-4080-90ca-353c9ad521f2\")) {                    Plotly.newPlot(                        \"7eb4b1ac-3962-4080-90ca-353c9ad521f2\",                        [{\"marker\":{\"color\":[0.8978476496298278,0.7926758361704802,0.7119536745135784,0.702545980116812,0.6856643182040606,0.656219830328738,0.6486948014760591,0.6240698303229176,0.6186931551093129,0.6048614004891747,0.5777782645324347,0.5722309570288874,0.5674182168109658,0.5660924855972214,0.5621299305847286],\"colorscale\":[[0.0,\"rgb(165,0,38)\"],[0.1,\"rgb(215,48,39)\"],[0.2,\"rgb(244,109,67)\"],[0.3,\"rgb(253,174,97)\"],[0.4,\"rgb(254,224,139)\"],[0.5,\"rgb(255,255,191)\"],[0.6,\"rgb(217,239,139)\"],[0.7,\"rgb(166,217,106)\"],[0.8,\"rgb(102,189,99)\"],[0.9,\"rgb(26,152,80)\"],[1.0,\"rgb(0,104,55)\"]],\"showscale\":false},\"name\":\"Efficiency Score\",\"orientation\":\"h\",\"text\":[\"0.90\",\"0.79\",\"0.71\",\"0.70\",\"0.69\",\"0.66\",\"0.65\",\"0.62\",\"0.62\",\"0.60\",\"0.58\",\"0.57\",\"0.57\",\"0.57\",\"0.56\"],\"textposition\":\"auto\",\"x\":[0.8978476496298278,0.7926758361704802,0.7119536745135784,0.702545980116812,0.6856643182040606,0.656219830328738,0.6486948014760591,0.6240698303229176,0.6186931551093129,0.6048614004891747,0.5777782645324347,0.5722309570288874,0.5674182168109658,0.5660924855972214,0.5621299305847286],\"y\":[\"DAL\",\"LAC\",\"UTA\",\"POR\",\"CHA\",\"NOR\",\"SAS\",\"HOU\",\"LAL\",\"MIA\",\"BKN\",\"MIL\",\"CLE\",\"BOS\",\"GSW\"],\"type\":\"bar\",\"xaxis\":\"x\",\"yaxis\":\"y\"},{\"marker\":{\"color\":[0.7707370737073708,0.46528759580325924,0.47683335996165516,0.6613534930321523,0.42836247126837085,0.34853305054789674,0.6612541993281075,0.6168397881268487,0.5503178601415377,0.5926261436724342,0.5389637742207245,0.4883284545522781,0.38692680148105957,0.39043697094486385,0.5896522234891676,0.6078645548880394,0.5651513380857778,0.5527596504811415,0.5280050346129641,0.47777777777777775,0.3582047288687527,0.6475857242827152,0.4019409192705556,0.413202115551985,0.5104466019417475,0.38102579306255563,0.41809916923559226,0.36485421591804573,0.4916761914227501,0.39174352217830477],\"colorbar\":{\"len\":0.8,\"title\":{\"text\":\"Efficiency\"},\"x\":1.02},\"colorscale\":[[0.0,\"rgb(165,0,38)\"],[0.1,\"rgb(215,48,39)\"],[0.2,\"rgb(244,109,67)\"],[0.3,\"rgb(253,174,97)\"],[0.4,\"rgb(254,224,139)\"],[0.5,\"rgb(255,255,191)\"],[0.6,\"rgb(217,239,139)\"],[0.7,\"rgb(166,217,106)\"],[0.8,\"rgb(102,189,99)\"],[0.9,\"rgb(26,152,80)\"],[1.0,\"rgb(0,104,55)\"]],\"line\":{\"color\":\"black\",\"width\":1},\"opacity\":0.8,\"showscale\":true,\"size\":[22.5,18.0,24.0,27.0,28.5,25.5,24.0,25.5,19.5,24.0,24.0,22.5,22.5,24.0,25.5,25.5,19.5,27.0,25.5,21.0,25.5,25.5,25.5,24.0,24.0,22.5,27.0,28.5,28.5,25.5]},\"mode\":\"markers+text\",\"name\":\"Team Performance\",\"text\":[\"DAL\",\"LAC\",\"UTA\",\"POR\",\"CHA\",\"NOR\",\"SAS\",\"HOU\",\"LAL\",\"MIA\",\"BKN\",\"MIL\",\"CLE\",\"BOS\",\"GSW\",\"CHI\",\"WAS\",\"OKC\",\"MEM\",\"ATL\",\"DEN\",\"DET\",\"ORL\",\"TOR\",\"SAC\",\"PHX\",\"MIN\",\"PHI\",\"IND\",\"NYK\"],\"textposition\":\"top center\",\"x\":[90.9,134.39,125.18,109.79,143.57,198.03,107.16,145.37,83.37,110.39,94.96,133.23,210.66,218.55,140.32,128.17,85.57,180.82,158.9,147.6,211.89,142.9,187.54,149.37,128.75,168.65,191.39,203.04,201.23,182.16],\"y\":[70.06,62.53,59.69,72.61,61.5,69.02,70.86,89.67,45.88,65.42,51.18,65.06,81.51,85.33,82.74,77.91,48.36,99.95,83.9,70.52,75.9,92.54,75.38,61.72,65.72,64.26,80.02,74.08,98.94,71.36],\"type\":\"scatter\",\"xaxis\":\"x2\",\"yaxis\":\"y2\"},{\"marker\":{\"color\":[\"green\",\"green\",\"green\",\"green\",\"green\",\"red\",\"red\",\"red\",\"red\",\"red\"]},\"name\":\"Overpay Amount\",\"orientation\":\"h\",\"text\":[\"$-88.5M\",\"$-84.3M\",\"$-78.8M\",\"$-71.7M\",\"$-70.0M\",\"$25.5M\",\"$22.1M\",\"$17.9M\",\"$8.0M\",\"$6.9M\"],\"textposition\":\"auto\",\"x\":[-88.47,-84.27,-78.8,-71.73,-69.99,25.49,22.13,17.85,7.99,6.88],\"y\":[\"DET\",\"DAL\",\"HOU\",\"POR\",\"SAS\",\"NOR\",\"DEN\",\"PHI\",\"PHX\",\"CLE\"],\"type\":\"bar\",\"xaxis\":\"x3\",\"yaxis\":\"y3\"},{\"marker\":{\"color\":[0.8978476496298278,0.7926758361704802,0.7119536745135784,0.702545980116812,0.6856643182040606,0.656219830328738,0.6486948014760591,0.6240698303229176,0.6186931551093129,0.6048614004891747,0.5777782645324347,0.5722309570288874,0.5674182168109658,0.5660924855972214,0.5621299305847286,0.5439856750815839,0.538831472707926,0.531583326520569,0.519417872252927,0.5147804597701149,0.508933093731508,0.5081864995046941,0.4980547613525431,0.4794619878940652,0.474554877052899,0.45824880917086663,0.4440999160491273,0.4367953320985981,0.4340523602210622,0.3786493624044558],\"colorscale\":[[0.0,\"#440154\"],[0.1111111111111111,\"#482878\"],[0.2222222222222222,\"#3e4989\"],[0.3333333333333333,\"#31688e\"],[0.4444444444444444,\"#26828e\"],[0.5555555555555556,\"#1f9e89\"],[0.6666666666666666,\"#35b779\"],[0.7777777777777778,\"#6ece58\"],[0.8888888888888888,\"#b5de2b\"],[1.0,\"#fde725\"]],\"opacity\":0.8,\"showscale\":false,\"size\":12},\"mode\":\"markers+text\",\"name\":\"Age vs Efficiency\",\"text\":[\"DAL\",\"LAC\",\"UTA\",\"POR\",\"CHA\",\"NOR\",\"SAS\",\"HOU\",\"LAL\",\"MIA\",\"BKN\",\"MIL\",\"CLE\",\"BOS\",\"GSW\",\"CHI\",\"WAS\",\"OKC\",\"MEM\",\"ATL\",\"DEN\",\"DET\",\"ORL\",\"TOR\",\"SAC\",\"PHX\",\"MIN\",\"PHI\",\"IND\",\"NYK\"],\"textposition\":\"top center\",\"x\":[27.0,27.83,24.0,24.22,25.11,25.29,24.94,25.88,25.54,26.5,23.31,26.87,25.6,27.12,26.71,24.47,24.38,24.5,24.59,24.43,26.24,24.53,25.29,24.81,27.19,27.87,26.22,27.32,25.68,26.47],\"y\":[0.7707370737073708,0.46528759580325924,0.47683335996165516,0.6613534930321523,0.42836247126837085,0.34853305054789674,0.6612541993281075,0.6168397881268487,0.5503178601415377,0.5926261436724342,0.5389637742207245,0.4883284545522781,0.38692680148105957,0.39043697094486385,0.5896522234891676,0.6078645548880394,0.5651513380857778,0.5527596504811415,0.5280050346129641,0.47777777777777775,0.3582047288687527,0.6475857242827152,0.4019409192705556,0.413202115551985,0.5104466019417475,0.38102579306255563,0.41809916923559226,0.36485421591804573,0.4916761914227501,0.39174352217830477],\"type\":\"scatter\",\"xaxis\":\"x4\",\"yaxis\":\"y4\"}],                        {\"template\":{\"data\":{\"histogram2dcontour\":[{\"type\":\"histogram2dcontour\",\"colorbar\":{\"outlinewidth\":0,\"ticks\":\"\"},\"colorscale\":[[0.0,\"#0d0887\"],[0.1111111111111111,\"#46039f\"],[0.2222222222222222,\"#7201a8\"],[0.3333333333333333,\"#9c179e\"],[0.4444444444444444,\"#bd3786\"],[0.5555555555555556,\"#d8576b\"],[0.6666666666666666,\"#ed7953\"],[0.7777777777777778,\"#fb9f3a\"],[0.8888888888888888,\"#fdca26\"],[1.0,\"#f0f921\"]]}],\"choropleth\":[{\"type\":\"choropleth\",\"colorbar\":{\"outlinewidth\":0,\"ticks\":\"\"}}],\"histogram2d\":[{\"type\":\"histogram2d\",\"colorbar\":{\"outlinewidth\":0,\"ticks\":\"\"},\"colorscale\":[[0.0,\"#0d0887\"],[0.1111111111111111,\"#46039f\"],[0.2222222222222222,\"#7201a8\"],[0.3333333333333333,\"#9c179e\"],[0.4444444444444444,\"#bd3786\"],[0.5555555555555556,\"#d8576b\"],[0.6666666666666666,\"#ed7953\"],[0.7777777777777778,\"#fb9f3a\"],[0.8888888888888888,\"#fdca26\"],[1.0,\"#f0f921\"]]}],\"heatmap\":[{\"type\":\"heatmap\",\"colorbar\":{\"outlinewidth\":0,\"ticks\":\"\"},\"colorscale\":[[0.0,\"#0d0887\"],[0.1111111111111111,\"#46039f\"],[0.2222222222222222,\"#7201a8\"],[0.3333333333333333,\"#9c179e\"],[0.4444444444444444,\"#bd3786\"],[0.5555555555555556,\"#d8576b\"],[0.6666666666666666,\"#ed7953\"],[0.7777777777777778,\"#fb9f3a\"],[0.8888888888888888,\"#fdca26\"],[1.0,\"#f0f921\"]]}],\"heatmapgl\":[{\"type\":\"heatmapgl\",\"colorbar\":{\"outlinewidth\":0,\"ticks\":\"\"},\"colorscale\":[[0.0,\"#0d0887\"],[0.1111111111111111,\"#46039f\"],[0.2222222222222222,\"#7201a8\"],[0.3333333333333333,\"#9c179e\"],[0.4444444444444444,\"#bd3786\"],[0.5555555555555556,\"#d8576b\"],[0.6666666666666666,\"#ed7953\"],[0.7777777777777778,\"#fb9f3a\"],[0.8888888888888888,\"#fdca26\"],[1.0,\"#f0f921\"]]}],\"contourcarpet\":[{\"type\":\"contourcarpet\",\"colorbar\":{\"outlinewidth\":0,\"ticks\":\"\"}}],\"contour\":[{\"type\":\"contour\",\"colorbar\":{\"outlinewidth\":0,\"ticks\":\"\"},\"colorscale\":[[0.0,\"#0d0887\"],[0.1111111111111111,\"#46039f\"],[0.2222222222222222,\"#7201a8\"],[0.3333333333333333,\"#9c179e\"],[0.4444444444444444,\"#bd3786\"],[0.5555555555555556,\"#d8576b\"],[0.6666666666666666,\"#ed7953\"],[0.7777777777777778,\"#fb9f3a\"],[0.8888888888888888,\"#fdca26\"],[1.0,\"#f0f921\"]]}],\"surface\":[{\"type\":\"surface\",\"colorbar\":{\"outlinewidth\":0,\"ticks\":\"\"},\"colorscale\":[[0.0,\"#0d0887\"],[0.1111111111111111,\"#46039f\"],[0.2222222222222222,\"#7201a8\"],[0.3333333333333333,\"#9c179e\"],[0.4444444444444444,\"#bd3786\"],[0.5555555555555556,\"#d8576b\"],[0.6666666666666666,\"#ed7953\"],[0.7777777777777778,\"#fb9f3a\"],[0.8888888888888888,\"#fdca26\"],[1.0,\"#f0f921\"]]}],\"mesh3d\":[{\"type\":\"mesh3d\",\"colorbar\":{\"outlinewidth\":0,\"ticks\":\"\"}}],\"scatter\":[{\"fillpattern\":{\"fillmode\":\"overlay\",\"size\":10,\"solidity\":0.2},\"type\":\"scatter\"}],\"parcoords\":[{\"type\":\"parcoords\",\"line\":{\"colorbar\":{\"outlinewidth\":0,\"ticks\":\"\"}}}],\"scatterpolargl\":[{\"type\":\"scatterpolargl\",\"marker\":{\"colorbar\":{\"outlinewidth\":0,\"ticks\":\"\"}}}],\"bar\":[{\"error_x\":{\"color\":\"#2a3f5f\"},\"error_y\":{\"color\":\"#2a3f5f\"},\"marker\":{\"line\":{\"color\":\"#E5ECF6\",\"width\":0.5},\"pattern\":{\"fillmode\":\"overlay\",\"size\":10,\"solidity\":0.2}},\"type\":\"bar\"}],\"scattergeo\":[{\"type\":\"scattergeo\",\"marker\":{\"colorbar\":{\"outlinewidth\":0,\"ticks\":\"\"}}}],\"scatterpolar\":[{\"type\":\"scatterpolar\",\"marker\":{\"colorbar\":{\"outlinewidth\":0,\"ticks\":\"\"}}}],\"histogram\":[{\"marker\":{\"pattern\":{\"fillmode\":\"overlay\",\"size\":10,\"solidity\":0.2}},\"type\":\"histogram\"}],\"scattergl\":[{\"type\":\"scattergl\",\"marker\":{\"colorbar\":{\"outlinewidth\":0,\"ticks\":\"\"}}}],\"scatter3d\":[{\"type\":\"scatter3d\",\"line\":{\"colorbar\":{\"outlinewidth\":0,\"ticks\":\"\"}},\"marker\":{\"colorbar\":{\"outlinewidth\":0,\"ticks\":\"\"}}}],\"scattermapbox\":[{\"type\":\"scattermapbox\",\"marker\":{\"colorbar\":{\"outlinewidth\":0,\"ticks\":\"\"}}}],\"scatterternary\":[{\"type\":\"scatterternary\",\"marker\":{\"colorbar\":{\"outlinewidth\":0,\"ticks\":\"\"}}}],\"scattercarpet\":[{\"type\":\"scattercarpet\",\"marker\":{\"colorbar\":{\"outlinewidth\":0,\"ticks\":\"\"}}}],\"carpet\":[{\"aaxis\":{\"endlinecolor\":\"#2a3f5f\",\"gridcolor\":\"white\",\"linecolor\":\"white\",\"minorgridcolor\":\"white\",\"startlinecolor\":\"#2a3f5f\"},\"baxis\":{\"endlinecolor\":\"#2a3f5f\",\"gridcolor\":\"white\",\"linecolor\":\"white\",\"minorgridcolor\":\"white\",\"startlinecolor\":\"#2a3f5f\"},\"type\":\"carpet\"}],\"table\":[{\"cells\":{\"fill\":{\"color\":\"#EBF0F8\"},\"line\":{\"color\":\"white\"}},\"header\":{\"fill\":{\"color\":\"#C8D4E3\"},\"line\":{\"color\":\"white\"}},\"type\":\"table\"}],\"barpolar\":[{\"marker\":{\"line\":{\"color\":\"#E5ECF6\",\"width\":0.5},\"pattern\":{\"fillmode\":\"overlay\",\"size\":10,\"solidity\":0.2}},\"type\":\"barpolar\"}],\"pie\":[{\"automargin\":true,\"type\":\"pie\"}]},\"layout\":{\"autotypenumbers\":\"strict\",\"colorway\":[\"#636efa\",\"#EF553B\",\"#00cc96\",\"#ab63fa\",\"#FFA15A\",\"#19d3f3\",\"#FF6692\",\"#B6E880\",\"#FF97FF\",\"#FECB52\"],\"font\":{\"color\":\"#2a3f5f\"},\"hovermode\":\"closest\",\"hoverlabel\":{\"align\":\"left\"},\"paper_bgcolor\":\"white\",\"plot_bgcolor\":\"#E5ECF6\",\"polar\":{\"bgcolor\":\"#E5ECF6\",\"angularaxis\":{\"gridcolor\":\"white\",\"linecolor\":\"white\",\"ticks\":\"\"},\"radialaxis\":{\"gridcolor\":\"white\",\"linecolor\":\"white\",\"ticks\":\"\"}},\"ternary\":{\"bgcolor\":\"#E5ECF6\",\"aaxis\":{\"gridcolor\":\"white\",\"linecolor\":\"white\",\"ticks\":\"\"},\"baxis\":{\"gridcolor\":\"white\",\"linecolor\":\"white\",\"ticks\":\"\"},\"caxis\":{\"gridcolor\":\"white\",\"linecolor\":\"white\",\"ticks\":\"\"}},\"coloraxis\":{\"colorbar\":{\"outlinewidth\":0,\"ticks\":\"\"}},\"colorscale\":{\"sequential\":[[0.0,\"#0d0887\"],[0.1111111111111111,\"#46039f\"],[0.2222222222222222,\"#7201a8\"],[0.3333333333333333,\"#9c179e\"],[0.4444444444444444,\"#bd3786\"],[0.5555555555555556,\"#d8576b\"],[0.6666666666666666,\"#ed7953\"],[0.7777777777777778,\"#fb9f3a\"],[0.8888888888888888,\"#fdca26\"],[1.0,\"#f0f921\"]],\"sequentialminus\":[[0.0,\"#0d0887\"],[0.1111111111111111,\"#46039f\"],[0.2222222222222222,\"#7201a8\"],[0.3333333333333333,\"#9c179e\"],[0.4444444444444444,\"#bd3786\"],[0.5555555555555556,\"#d8576b\"],[0.6666666666666666,\"#ed7953\"],[0.7777777777777778,\"#fb9f3a\"],[0.8888888888888888,\"#fdca26\"],[1.0,\"#f0f921\"]],\"diverging\":[[0,\"#8e0152\"],[0.1,\"#c51b7d\"],[0.2,\"#de77ae\"],[0.3,\"#f1b6da\"],[0.4,\"#fde0ef\"],[0.5,\"#f7f7f7\"],[0.6,\"#e6f5d0\"],[0.7,\"#b8e186\"],[0.8,\"#7fbc41\"],[0.9,\"#4d9221\"],[1,\"#276419\"]]},\"xaxis\":{\"gridcolor\":\"white\",\"linecolor\":\"white\",\"ticks\":\"\",\"title\":{\"standoff\":15},\"zerolinecolor\":\"white\",\"automargin\":true,\"zerolinewidth\":2},\"yaxis\":{\"gridcolor\":\"white\",\"linecolor\":\"white\",\"ticks\":\"\",\"title\":{\"standoff\":15},\"zerolinecolor\":\"white\",\"automargin\":true,\"zerolinewidth\":2},\"scene\":{\"xaxis\":{\"backgroundcolor\":\"#E5ECF6\",\"gridcolor\":\"white\",\"linecolor\":\"white\",\"showbackground\":true,\"ticks\":\"\",\"zerolinecolor\":\"white\",\"gridwidth\":2},\"yaxis\":{\"backgroundcolor\":\"#E5ECF6\",\"gridcolor\":\"white\",\"linecolor\":\"white\",\"showbackground\":true,\"ticks\":\"\",\"zerolinecolor\":\"white\",\"gridwidth\":2},\"zaxis\":{\"backgroundcolor\":\"#E5ECF6\",\"gridcolor\":\"white\",\"linecolor\":\"white\",\"showbackground\":true,\"ticks\":\"\",\"zerolinecolor\":\"white\",\"gridwidth\":2}},\"shapedefaults\":{\"line\":{\"color\":\"#2a3f5f\"}},\"annotationdefaults\":{\"arrowcolor\":\"#2a3f5f\",\"arrowhead\":0,\"arrowwidth\":1},\"geo\":{\"bgcolor\":\"white\",\"landcolor\":\"#E5ECF6\",\"subunitcolor\":\"white\",\"showland\":true,\"showlakes\":true,\"lakecolor\":\"white\"},\"title\":{\"x\":0.05},\"mapbox\":{\"style\":\"light\"}}},\"xaxis\":{\"anchor\":\"y\",\"domain\":[0.0,0.3825],\"title\":{\"text\":\"Overall Efficiency Score\"}},\"yaxis\":{\"anchor\":\"x\",\"domain\":[0.625,1.0],\"title\":{\"text\":\"Team\"}},\"xaxis2\":{\"anchor\":\"y2\",\"domain\":[0.5325,1.0],\"title\":{\"text\":\"Total Salary ($M)\"}},\"yaxis2\":{\"anchor\":\"x2\",\"domain\":[0.625,1.0],\"title\":{\"text\":\"Total Value Score\"}},\"xaxis3\":{\"anchor\":\"y3\",\"domain\":[0.0,0.3825],\"title\":{\"text\":\"Overpay Amount ($M)\"}},\"yaxis3\":{\"anchor\":\"x3\",\"domain\":[0.0,0.375],\"title\":{\"text\":\"Team\"}},\"xaxis4\":{\"anchor\":\"y4\",\"domain\":[0.5325,1.0],\"title\":{\"text\":\"Average Age\"}},\"yaxis4\":{\"anchor\":\"x4\",\"domain\":[0.0,0.375],\"title\":{\"text\":\"Efficiency Rating\"}},\"annotations\":[{\"font\":{\"size\":16},\"showarrow\":false,\"text\":\"Team Efficiency Rankings\",\"x\":0.19125,\"xanchor\":\"center\",\"xref\":\"paper\",\"y\":1.0,\"yanchor\":\"bottom\",\"yref\":\"paper\"},{\"font\":{\"size\":16},\"showarrow\":false,\"text\":\"Salary vs Performance\",\"x\":0.76625,\"xanchor\":\"center\",\"xref\":\"paper\",\"y\":1.0,\"yanchor\":\"bottom\",\"yref\":\"paper\"},{\"font\":{\"size\":16},\"showarrow\":false,\"text\":\"Overpay Analysis (Top/Bottom 10)\",\"x\":0.19125,\"xanchor\":\"center\",\"xref\":\"paper\",\"y\":0.375,\"yanchor\":\"bottom\",\"yref\":\"paper\"},{\"font\":{\"size\":16},\"showarrow\":false,\"text\":\"Age vs Efficiency\",\"x\":0.76625,\"xanchor\":\"center\",\"xref\":\"paper\",\"y\":0.375,\"yanchor\":\"bottom\",\"yref\":\"paper\"}],\"font\":{\"size\":11},\"height\":700,\"title\":{\"text\":\"TEAM EFFICIENCY ANALYSIS\"},\"showlegend\":false},                        {\"responsive\": true}                    ).then(function(){\n",
       "                            \n",
       "var gd = document.getElementById('7eb4b1ac-3962-4080-90ca-353c9ad521f2');\n",
       "var x = new MutationObserver(function (mutations, observer) {{\n",
       "        var display = window.getComputedStyle(gd).display;\n",
       "        if (!display || display === 'none') {{\n",
       "            console.log([gd, 'removed!']);\n",
       "            Plotly.purge(gd);\n",
       "            observer.disconnect();\n",
       "        }}\n",
       "}});\n",
       "\n",
       "// Listen for the removal of the full notebook cells\n",
       "var notebookContainer = gd.closest('#notebook-container');\n",
       "if (notebookContainer) {{\n",
       "    x.observe(notebookContainer, {childList: true});\n",
       "}}\n",
       "\n",
       "// Listen for the clearing of the current output cell\n",
       "var outputEl = gd.closest('.output');\n",
       "if (outputEl) {{\n",
       "    x.observe(outputEl, {childList: true});\n",
       "}}\n",
       "\n",
       "                        })                };                });            </script>        </div>"
      ]
     },
     "metadata": {},
     "output_type": "display_data"
    },
    {
     "name": "stdout",
     "output_type": "stream",
     "text": [
      "\n",
      "3️⃣ Trade Engine\n",
      "Trade analysis: 178 tradeable players\n"
     ]
    },
    {
     "data": {
      "application/vnd.plotly.v1+json": {
       "config": {
        "plotlyServerURL": "https://plot.ly"
       },
       "data": [
        {
         "marker": {
          "color": [
           4.171538724708307,
           2.1571407968922536,
           2.021961932650073,
           1.8468687203660255,
           1.4886218046488926,
           0.7942372787658415,
           0.6144633264637318,
           0.5941704970184616,
           0.46507431948203565,
           0.3578791590399766,
           0.09385897185715616
          ],
          "colorbar": {
           "len": 0.4,
           "title": {
            "text": "ROI"
           },
           "x": 1.02,
           "y": 0.8
          },
          "colorscale": [
           [
            0,
            "#440154"
           ],
           [
            0.1111111111111111,
            "#482878"
           ],
           [
            0.2222222222222222,
            "#3e4989"
           ],
           [
            0.3333333333333333,
            "#31688e"
           ],
           [
            0.4444444444444444,
            "#26828e"
           ],
           [
            0.5555555555555556,
            "#1f9e89"
           ],
           [
            0.6666666666666666,
            "#35b779"
           ],
           [
            0.7777777777777778,
            "#6ece58"
           ],
           [
            0.8888888888888888,
            "#b5de2b"
           ],
           [
            1,
            "#fde725"
           ]
          ],
          "showscale": true,
          "size": 15
         },
         "mode": "markers+text",
         "name": "Trade ROI",
         "text": [
          "Bub Carr",
          "Bub Carr",
          "Bilal Co",
          "Bilal Co",
          "Brandon ",
          "Bub Carr",
          "Bilal Co",
          "Alex Sar",
          "Alex Sar",
          "Brandon ",
          "Brandon "
         ],
         "textposition": "top center",
         "type": "scatter",
         "x": [
          0.041582084391131424,
          0.27019988864308697,
          2.415,
          1.487994923152594,
          2.2782,
          0.9704438986191128,
          3.73584,
          6.245395087104499,
          5.450581927080323,
          6.181194923152594,
          8.42904
         ],
         "xaxis": "x",
         "y": [
          4.345000000000001,
          2.74,
          6.904999999999999,
          4.594999999999999,
          4.88,
          1.565,
          2.9099999999999993,
          4.305,
          2.9999999999999996,
          2.5699999999999994,
          0.8849999999999998
         ],
         "yaxis": "y"
        },
        {
         "cells": {
          "fill": {
           "color": "lightblue"
          },
          "font": {
           "size": 10
          },
          "height": 25,
          "values": [
           [
            "Bub Carrington",
            "Bub Carrington",
            "Bilal Coulibaly",
            "Bilal Coulibaly",
            "Brandon Miller",
            "Bub Carrington",
            "Bilal Coulibaly",
            "Alex Sarr",
            "Alex Sarr",
            "Brandon Miller",
            "Brandon Miller"
           ],
           [
            "Anfernee Simons",
            "Ayo Dosunmu",
            "Amen Thompson",
            "Chris Boucher",
            "Amen Thompson",
            "A.J. Green",
            "Cam Whitmore",
            "Chet Holmgren",
            "Clint Capela",
            "Chris Boucher",
            "Cam Whitmore"
           ],
           [
            "Guard",
            "Guard",
            "Forward",
            "Forward",
            "Forward",
            "Guard",
            "Forward",
            "Center",
            "Center",
            "Forward",
            "Forward"
           ],
           [
            "+4.3",
            "+2.7",
            "+6.9",
            "+4.6",
            "+4.9",
            "+1.6",
            "+2.9",
            "+4.3",
            "+3.0",
            "+2.6",
            "+0.9"
           ]
          ]
         },
         "domain": {
          "x": [
           0.5325,
           1
          ],
          "y": [
           0.625,
           1
          ]
         },
         "header": {
          "fill": {
           "color": "darkblue"
          },
          "font": {
           "color": "white",
           "size": 11
          },
          "values": [
           "Trade Away",
           "Trade For",
           "Position",
           "Value Gain"
          ]
         },
         "type": "table"
        },
        {
         "domain": {
          "x": [
           0,
           0.3825
          ],
          "y": [
           0,
           0.375
          ]
         },
         "labels": [
          "Forward",
          "Guard",
          "Center"
         ],
         "name": "Position Distribution",
         "type": "pie",
         "values": [
          6,
          3,
          2
         ]
        },
        {
         "marker": {
          "color": [
           "green",
           "blue",
           "orange"
          ]
         },
         "name": "Trade Quality",
         "type": "bar",
         "x": [
          "Positive ROI",
          "High Value Gain",
          "Salary Neutral"
         ],
         "xaxis": "x2",
         "y": [
          5,
          1,
          4
         ],
         "yaxis": "y2"
        }
       ],
       "layout": {
        "annotations": [
         {
          "font": {
           "size": 16
          },
          "showarrow": false,
          "text": "Trade Opportunities (ROI vs Value)",
          "x": 0.19125,
          "xanchor": "center",
          "xref": "paper",
          "y": 1,
          "yanchor": "bottom",
          "yref": "paper"
         },
         {
          "font": {
           "size": 16
          },
          "showarrow": false,
          "text": "Top Trade Recommendations",
          "x": 0.76625,
          "xanchor": "center",
          "xref": "paper",
          "y": 1,
          "yanchor": "bottom",
          "yref": "paper"
         },
         {
          "font": {
           "size": 16
          },
          "showarrow": false,
          "text": "Trades by Position",
          "x": 0.19125,
          "xanchor": "center",
          "xref": "paper",
          "y": 0.375,
          "yanchor": "bottom",
          "yref": "paper"
         },
         {
          "font": {
           "size": 16
          },
          "showarrow": false,
          "text": "Financial Impact",
          "x": 0.76625,
          "xanchor": "center",
          "xref": "paper",
          "y": 0.375,
          "yanchor": "bottom",
          "yref": "paper"
         }
        ],
        "autosize": true,
        "showlegend": false,
        "template": {
         "data": {
          "bar": [
           {
            "error_x": {
             "color": "#2a3f5f"
            },
            "error_y": {
             "color": "#2a3f5f"
            },
            "marker": {
             "line": {
              "color": "#E5ECF6",
              "width": 0.5
             },
             "pattern": {
              "fillmode": "overlay",
              "size": 10,
              "solidity": 0.2
             }
            },
            "type": "bar"
           }
          ],
          "barpolar": [
           {
            "marker": {
             "line": {
              "color": "#E5ECF6",
              "width": 0.5
             },
             "pattern": {
              "fillmode": "overlay",
              "size": 10,
              "solidity": 0.2
             }
            },
            "type": "barpolar"
           }
          ],
          "carpet": [
           {
            "aaxis": {
             "endlinecolor": "#2a3f5f",
             "gridcolor": "white",
             "linecolor": "white",
             "minorgridcolor": "white",
             "startlinecolor": "#2a3f5f"
            },
            "baxis": {
             "endlinecolor": "#2a3f5f",
             "gridcolor": "white",
             "linecolor": "white",
             "minorgridcolor": "white",
             "startlinecolor": "#2a3f5f"
            },
            "type": "carpet"
           }
          ],
          "choropleth": [
           {
            "colorbar": {
             "outlinewidth": 0,
             "ticks": ""
            },
            "type": "choropleth"
           }
          ],
          "contour": [
           {
            "colorbar": {
             "outlinewidth": 0,
             "ticks": ""
            },
            "colorscale": [
             [
              0,
              "#0d0887"
             ],
             [
              0.1111111111111111,
              "#46039f"
             ],
             [
              0.2222222222222222,
              "#7201a8"
             ],
             [
              0.3333333333333333,
              "#9c179e"
             ],
             [
              0.4444444444444444,
              "#bd3786"
             ],
             [
              0.5555555555555556,
              "#d8576b"
             ],
             [
              0.6666666666666666,
              "#ed7953"
             ],
             [
              0.7777777777777778,
              "#fb9f3a"
             ],
             [
              0.8888888888888888,
              "#fdca26"
             ],
             [
              1,
              "#f0f921"
             ]
            ],
            "type": "contour"
           }
          ],
          "contourcarpet": [
           {
            "colorbar": {
             "outlinewidth": 0,
             "ticks": ""
            },
            "type": "contourcarpet"
           }
          ],
          "heatmap": [
           {
            "colorbar": {
             "outlinewidth": 0,
             "ticks": ""
            },
            "colorscale": [
             [
              0,
              "#0d0887"
             ],
             [
              0.1111111111111111,
              "#46039f"
             ],
             [
              0.2222222222222222,
              "#7201a8"
             ],
             [
              0.3333333333333333,
              "#9c179e"
             ],
             [
              0.4444444444444444,
              "#bd3786"
             ],
             [
              0.5555555555555556,
              "#d8576b"
             ],
             [
              0.6666666666666666,
              "#ed7953"
             ],
             [
              0.7777777777777778,
              "#fb9f3a"
             ],
             [
              0.8888888888888888,
              "#fdca26"
             ],
             [
              1,
              "#f0f921"
             ]
            ],
            "type": "heatmap"
           }
          ],
          "heatmapgl": [
           {
            "colorbar": {
             "outlinewidth": 0,
             "ticks": ""
            },
            "colorscale": [
             [
              0,
              "#0d0887"
             ],
             [
              0.1111111111111111,
              "#46039f"
             ],
             [
              0.2222222222222222,
              "#7201a8"
             ],
             [
              0.3333333333333333,
              "#9c179e"
             ],
             [
              0.4444444444444444,
              "#bd3786"
             ],
             [
              0.5555555555555556,
              "#d8576b"
             ],
             [
              0.6666666666666666,
              "#ed7953"
             ],
             [
              0.7777777777777778,
              "#fb9f3a"
             ],
             [
              0.8888888888888888,
              "#fdca26"
             ],
             [
              1,
              "#f0f921"
             ]
            ],
            "type": "heatmapgl"
           }
          ],
          "histogram": [
           {
            "marker": {
             "pattern": {
              "fillmode": "overlay",
              "size": 10,
              "solidity": 0.2
             }
            },
            "type": "histogram"
           }
          ],
          "histogram2d": [
           {
            "colorbar": {
             "outlinewidth": 0,
             "ticks": ""
            },
            "colorscale": [
             [
              0,
              "#0d0887"
             ],
             [
              0.1111111111111111,
              "#46039f"
             ],
             [
              0.2222222222222222,
              "#7201a8"
             ],
             [
              0.3333333333333333,
              "#9c179e"
             ],
             [
              0.4444444444444444,
              "#bd3786"
             ],
             [
              0.5555555555555556,
              "#d8576b"
             ],
             [
              0.6666666666666666,
              "#ed7953"
             ],
             [
              0.7777777777777778,
              "#fb9f3a"
             ],
             [
              0.8888888888888888,
              "#fdca26"
             ],
             [
              1,
              "#f0f921"
             ]
            ],
            "type": "histogram2d"
           }
          ],
          "histogram2dcontour": [
           {
            "colorbar": {
             "outlinewidth": 0,
             "ticks": ""
            },
            "colorscale": [
             [
              0,
              "#0d0887"
             ],
             [
              0.1111111111111111,
              "#46039f"
             ],
             [
              0.2222222222222222,
              "#7201a8"
             ],
             [
              0.3333333333333333,
              "#9c179e"
             ],
             [
              0.4444444444444444,
              "#bd3786"
             ],
             [
              0.5555555555555556,
              "#d8576b"
             ],
             [
              0.6666666666666666,
              "#ed7953"
             ],
             [
              0.7777777777777778,
              "#fb9f3a"
             ],
             [
              0.8888888888888888,
              "#fdca26"
             ],
             [
              1,
              "#f0f921"
             ]
            ],
            "type": "histogram2dcontour"
           }
          ],
          "mesh3d": [
           {
            "colorbar": {
             "outlinewidth": 0,
             "ticks": ""
            },
            "type": "mesh3d"
           }
          ],
          "parcoords": [
           {
            "line": {
             "colorbar": {
              "outlinewidth": 0,
              "ticks": ""
             }
            },
            "type": "parcoords"
           }
          ],
          "pie": [
           {
            "automargin": true,
            "type": "pie"
           }
          ],
          "scatter": [
           {
            "fillpattern": {
             "fillmode": "overlay",
             "size": 10,
             "solidity": 0.2
            },
            "type": "scatter"
           }
          ],
          "scatter3d": [
           {
            "line": {
             "colorbar": {
              "outlinewidth": 0,
              "ticks": ""
             }
            },
            "marker": {
             "colorbar": {
              "outlinewidth": 0,
              "ticks": ""
             }
            },
            "type": "scatter3d"
           }
          ],
          "scattercarpet": [
           {
            "marker": {
             "colorbar": {
              "outlinewidth": 0,
              "ticks": ""
             }
            },
            "type": "scattercarpet"
           }
          ],
          "scattergeo": [
           {
            "marker": {
             "colorbar": {
              "outlinewidth": 0,
              "ticks": ""
             }
            },
            "type": "scattergeo"
           }
          ],
          "scattergl": [
           {
            "marker": {
             "colorbar": {
              "outlinewidth": 0,
              "ticks": ""
             }
            },
            "type": "scattergl"
           }
          ],
          "scattermapbox": [
           {
            "marker": {
             "colorbar": {
              "outlinewidth": 0,
              "ticks": ""
             }
            },
            "type": "scattermapbox"
           }
          ],
          "scatterpolar": [
           {
            "marker": {
             "colorbar": {
              "outlinewidth": 0,
              "ticks": ""
             }
            },
            "type": "scatterpolar"
           }
          ],
          "scatterpolargl": [
           {
            "marker": {
             "colorbar": {
              "outlinewidth": 0,
              "ticks": ""
             }
            },
            "type": "scatterpolargl"
           }
          ],
          "scatterternary": [
           {
            "marker": {
             "colorbar": {
              "outlinewidth": 0,
              "ticks": ""
             }
            },
            "type": "scatterternary"
           }
          ],
          "surface": [
           {
            "colorbar": {
             "outlinewidth": 0,
             "ticks": ""
            },
            "colorscale": [
             [
              0,
              "#0d0887"
             ],
             [
              0.1111111111111111,
              "#46039f"
             ],
             [
              0.2222222222222222,
              "#7201a8"
             ],
             [
              0.3333333333333333,
              "#9c179e"
             ],
             [
              0.4444444444444444,
              "#bd3786"
             ],
             [
              0.5555555555555556,
              "#d8576b"
             ],
             [
              0.6666666666666666,
              "#ed7953"
             ],
             [
              0.7777777777777778,
              "#fb9f3a"
             ],
             [
              0.8888888888888888,
              "#fdca26"
             ],
             [
              1,
              "#f0f921"
             ]
            ],
            "type": "surface"
           }
          ],
          "table": [
           {
            "cells": {
             "fill": {
              "color": "#EBF0F8"
             },
             "line": {
              "color": "white"
             }
            },
            "header": {
             "fill": {
              "color": "#C8D4E3"
             },
             "line": {
              "color": "white"
             }
            },
            "type": "table"
           }
          ]
         },
         "layout": {
          "annotationdefaults": {
           "arrowcolor": "#2a3f5f",
           "arrowhead": 0,
           "arrowwidth": 1
          },
          "autotypenumbers": "strict",
          "coloraxis": {
           "colorbar": {
            "outlinewidth": 0,
            "ticks": ""
           }
          },
          "colorscale": {
           "diverging": [
            [
             0,
             "#8e0152"
            ],
            [
             0.1,
             "#c51b7d"
            ],
            [
             0.2,
             "#de77ae"
            ],
            [
             0.3,
             "#f1b6da"
            ],
            [
             0.4,
             "#fde0ef"
            ],
            [
             0.5,
             "#f7f7f7"
            ],
            [
             0.6,
             "#e6f5d0"
            ],
            [
             0.7,
             "#b8e186"
            ],
            [
             0.8,
             "#7fbc41"
            ],
            [
             0.9,
             "#4d9221"
            ],
            [
             1,
             "#276419"
            ]
           ],
           "sequential": [
            [
             0,
             "#0d0887"
            ],
            [
             0.1111111111111111,
             "#46039f"
            ],
            [
             0.2222222222222222,
             "#7201a8"
            ],
            [
             0.3333333333333333,
             "#9c179e"
            ],
            [
             0.4444444444444444,
             "#bd3786"
            ],
            [
             0.5555555555555556,
             "#d8576b"
            ],
            [
             0.6666666666666666,
             "#ed7953"
            ],
            [
             0.7777777777777778,
             "#fb9f3a"
            ],
            [
             0.8888888888888888,
             "#fdca26"
            ],
            [
             1,
             "#f0f921"
            ]
           ],
           "sequentialminus": [
            [
             0,
             "#0d0887"
            ],
            [
             0.1111111111111111,
             "#46039f"
            ],
            [
             0.2222222222222222,
             "#7201a8"
            ],
            [
             0.3333333333333333,
             "#9c179e"
            ],
            [
             0.4444444444444444,
             "#bd3786"
            ],
            [
             0.5555555555555556,
             "#d8576b"
            ],
            [
             0.6666666666666666,
             "#ed7953"
            ],
            [
             0.7777777777777778,
             "#fb9f3a"
            ],
            [
             0.8888888888888888,
             "#fdca26"
            ],
            [
             1,
             "#f0f921"
            ]
           ]
          },
          "colorway": [
           "#636efa",
           "#EF553B",
           "#00cc96",
           "#ab63fa",
           "#FFA15A",
           "#19d3f3",
           "#FF6692",
           "#B6E880",
           "#FF97FF",
           "#FECB52"
          ],
          "font": {
           "color": "#2a3f5f"
          },
          "geo": {
           "bgcolor": "white",
           "lakecolor": "white",
           "landcolor": "#E5ECF6",
           "showlakes": true,
           "showland": true,
           "subunitcolor": "white"
          },
          "hoverlabel": {
           "align": "left"
          },
          "hovermode": "closest",
          "mapbox": {
           "style": "light"
          },
          "paper_bgcolor": "white",
          "plot_bgcolor": "#E5ECF6",
          "polar": {
           "angularaxis": {
            "gridcolor": "white",
            "linecolor": "white",
            "ticks": ""
           },
           "bgcolor": "#E5ECF6",
           "radialaxis": {
            "gridcolor": "white",
            "linecolor": "white",
            "ticks": ""
           }
          },
          "scene": {
           "xaxis": {
            "backgroundcolor": "#E5ECF6",
            "gridcolor": "white",
            "gridwidth": 2,
            "linecolor": "white",
            "showbackground": true,
            "ticks": "",
            "zerolinecolor": "white"
           },
           "yaxis": {
            "backgroundcolor": "#E5ECF6",
            "gridcolor": "white",
            "gridwidth": 2,
            "linecolor": "white",
            "showbackground": true,
            "ticks": "",
            "zerolinecolor": "white"
           },
           "zaxis": {
            "backgroundcolor": "#E5ECF6",
            "gridcolor": "white",
            "gridwidth": 2,
            "linecolor": "white",
            "showbackground": true,
            "ticks": "",
            "zerolinecolor": "white"
           }
          },
          "shapedefaults": {
           "line": {
            "color": "#2a3f5f"
           }
          },
          "ternary": {
           "aaxis": {
            "gridcolor": "white",
            "linecolor": "white",
            "ticks": ""
           },
           "baxis": {
            "gridcolor": "white",
            "linecolor": "white",
            "ticks": ""
           },
           "bgcolor": "#E5ECF6",
           "caxis": {
            "gridcolor": "white",
            "linecolor": "white",
            "ticks": ""
           }
          },
          "title": {
           "x": 0.05
          },
          "xaxis": {
           "automargin": true,
           "gridcolor": "white",
           "linecolor": "white",
           "ticks": "",
           "title": {
            "standoff": 15
           },
           "zerolinecolor": "white",
           "zerolinewidth": 2
          },
          "yaxis": {
           "automargin": true,
           "gridcolor": "white",
           "linecolor": "white",
           "ticks": "",
           "title": {
            "standoff": 15
           },
           "zerolinecolor": "white",
           "zerolinewidth": 2
          }
         }
        },
        "title": {
         "text": "🔄 TRADE RECOMMENDATION ENGINE"
        },
        "xaxis": {
         "anchor": "y",
         "autorange": true,
         "domain": [
          0,
          0.3825
         ],
         "range": [
          -0.7084243320724454,
          9.179046416463578
         ],
         "title": {
          "text": "Salary Change ($M)"
         },
         "type": "linear"
        },
        "xaxis2": {
         "anchor": "y2",
         "autorange": true,
         "domain": [
          0.5325,
          1
         ],
         "range": [
          -0.5,
          2.5
         ],
         "title": {
          "text": "Trade Quality Metrics"
         },
         "type": "category"
        },
        "yaxis": {
         "anchor": "x",
         "autorange": true,
         "domain": [
          0.625,
          1
         ],
         "range": [
          0.10223860589812317,
          7.687761394101876
         ],
         "title": {
          "text": "Value Improvement"
         },
         "type": "linear"
        },
        "yaxis2": {
         "anchor": "x2",
         "autorange": true,
         "domain": [
          0,
          0.375
         ],
         "range": [
          0,
          5.2631578947368425
         ],
         "title": {
          "text": "Number of Trades"
         },
         "type": "linear"
        }
       }
      },
      "image/png": "[encoded data removed]",
      "text/html": [
       "<div>                            <div id=\"4c33ece1-8505-4af3-9312-db3932d93fc6\" class=\"plotly-graph-div\" style=\"height:650px; width:100%;\"></div>            <script type=\"text/javascript\">                require([\"plotly\"], function(Plotly) {                    window.PLOTLYENV=window.PLOTLYENV || {};                                    if (document.getElementById(\"4c33ece1-8505-4af3-9312-db3932d93fc6\")) {                    Plotly.newPlot(                        \"4c33ece1-8505-4af3-9312-db3932d93fc6\",                        [{\"marker\":{\"color\":[4.171538724708307,2.1571407968922536,2.021961932650073,1.8468687203660255,1.4886218046488926,0.7942372787658415,0.6144633264637318,0.5941704970184616,0.46507431948203565,0.3578791590399766,0.09385897185715616],\"colorbar\":{\"len\":0.4,\"title\":{\"text\":\"ROI\"},\"x\":1.02,\"y\":0.8},\"colorscale\":[[0.0,\"#440154\"],[0.1111111111111111,\"#482878\"],[0.2222222222222222,\"#3e4989\"],[0.3333333333333333,\"#31688e\"],[0.4444444444444444,\"#26828e\"],[0.5555555555555556,\"#1f9e89\"],[0.6666666666666666,\"#35b779\"],[0.7777777777777778,\"#6ece58\"],[0.8888888888888888,\"#b5de2b\"],[1.0,\"#fde725\"]],\"showscale\":true,\"size\":15},\"mode\":\"markers+text\",\"name\":\"Trade ROI\",\"text\":[\"Bub Carr\",\"Bub Carr\",\"Bilal Co\",\"Bilal Co\",\"Brandon \",\"Bub Carr\",\"Bilal Co\",\"Alex Sar\",\"Alex Sar\",\"Brandon \",\"Brandon \"],\"textposition\":\"top center\",\"x\":[0.041582084391131424,0.27019988864308697,2.415,1.487994923152594,2.2782,0.9704438986191128,3.73584,6.245395087104499,5.450581927080323,6.181194923152594,8.42904],\"y\":[4.345000000000001,2.74,6.904999999999999,4.594999999999999,4.88,1.565,2.9099999999999993,4.305,2.9999999999999996,2.5699999999999994,0.8849999999999998],\"type\":\"scatter\",\"xaxis\":\"x\",\"yaxis\":\"y\"},{\"cells\":{\"fill\":{\"color\":\"lightblue\"},\"font\":{\"size\":10},\"height\":25,\"values\":[[\"Bub Carrington\",\"Bub Carrington\",\"Bilal Coulibaly\",\"Bilal Coulibaly\",\"Brandon Miller\",\"Bub Carrington\",\"Bilal Coulibaly\",\"Alex Sarr\",\"Alex Sarr\",\"Brandon Miller\",\"Brandon Miller\"],[\"Anfernee Simons\",\"Ayo Dosunmu\",\"Amen Thompson\",\"Chris Boucher\",\"Amen Thompson\",\"A.J. Green\",\"Cam Whitmore\",\"Chet Holmgren\",\"Clint Capela\",\"Chris Boucher\",\"Cam Whitmore\"],[\"Guard\",\"Guard\",\"Forward\",\"Forward\",\"Forward\",\"Guard\",\"Forward\",\"Center\",\"Center\",\"Forward\",\"Forward\"],[\"+4.3\",\"+2.7\",\"+6.9\",\"+4.6\",\"+4.9\",\"+1.6\",\"+2.9\",\"+4.3\",\"+3.0\",\"+2.6\",\"+0.9\"]]},\"header\":{\"fill\":{\"color\":\"darkblue\"},\"font\":{\"color\":\"white\",\"size\":11},\"values\":[\"Trade Away\",\"Trade For\",\"Position\",\"Value Gain\"]},\"type\":\"table\",\"domain\":{\"x\":[0.5325,1.0],\"y\":[0.625,1.0]}},{\"labels\":[\"Forward\",\"Guard\",\"Center\"],\"name\":\"Position Distribution\",\"values\":[6,3,2],\"type\":\"pie\",\"domain\":{\"x\":[0.0,0.3825],\"y\":[0.0,0.375]}},{\"marker\":{\"color\":[\"green\",\"blue\",\"orange\"]},\"name\":\"Trade Quality\",\"x\":[\"Positive ROI\",\"High Value Gain\",\"Salary Neutral\"],\"y\":[5,1,4],\"type\":\"bar\",\"xaxis\":\"x2\",\"yaxis\":\"y2\"}],                        {\"template\":{\"data\":{\"histogram2dcontour\":[{\"type\":\"histogram2dcontour\",\"colorbar\":{\"outlinewidth\":0,\"ticks\":\"\"},\"colorscale\":[[0.0,\"#0d0887\"],[0.1111111111111111,\"#46039f\"],[0.2222222222222222,\"#7201a8\"],[0.3333333333333333,\"#9c179e\"],[0.4444444444444444,\"#bd3786\"],[0.5555555555555556,\"#d8576b\"],[0.6666666666666666,\"#ed7953\"],[0.7777777777777778,\"#fb9f3a\"],[0.8888888888888888,\"#fdca26\"],[1.0,\"#f0f921\"]]}],\"choropleth\":[{\"type\":\"choropleth\",\"colorbar\":{\"outlinewidth\":0,\"ticks\":\"\"}}],\"histogram2d\":[{\"type\":\"histogram2d\",\"colorbar\":{\"outlinewidth\":0,\"ticks\":\"\"},\"colorscale\":[[0.0,\"#0d0887\"],[0.1111111111111111,\"#46039f\"],[0.2222222222222222,\"#7201a8\"],[0.3333333333333333,\"#9c179e\"],[0.4444444444444444,\"#bd3786\"],[0.5555555555555556,\"#d8576b\"],[0.6666666666666666,\"#ed7953\"],[0.7777777777777778,\"#fb9f3a\"],[0.8888888888888888,\"#fdca26\"],[1.0,\"#f0f921\"]]}],\"heatmap\":[{\"type\":\"heatmap\",\"colorbar\":{\"outlinewidth\":0,\"ticks\":\"\"},\"colorscale\":[[0.0,\"#0d0887\"],[0.1111111111111111,\"#46039f\"],[0.2222222222222222,\"#7201a8\"],[0.3333333333333333,\"#9c179e\"],[0.4444444444444444,\"#bd3786\"],[0.5555555555555556,\"#d8576b\"],[0.6666666666666666,\"#ed7953\"],[0.7777777777777778,\"#fb9f3a\"],[0.8888888888888888,\"#fdca26\"],[1.0,\"#f0f921\"]]}],\"heatmapgl\":[{\"type\":\"heatmapgl\",\"colorbar\":{\"outlinewidth\":0,\"ticks\":\"\"},\"colorscale\":[[0.0,\"#0d0887\"],[0.1111111111111111,\"#46039f\"],[0.2222222222222222,\"#7201a8\"],[0.3333333333333333,\"#9c179e\"],[0.4444444444444444,\"#bd3786\"],[0.5555555555555556,\"#d8576b\"],[0.6666666666666666,\"#ed7953\"],[0.7777777777777778,\"#fb9f3a\"],[0.8888888888888888,\"#fdca26\"],[1.0,\"#f0f921\"]]}],\"contourcarpet\":[{\"type\":\"contourcarpet\",\"colorbar\":{\"outlinewidth\":0,\"ticks\":\"\"}}],\"contour\":[{\"type\":\"contour\",\"colorbar\":{\"outlinewidth\":0,\"ticks\":\"\"},\"colorscale\":[[0.0,\"#0d0887\"],[0.1111111111111111,\"#46039f\"],[0.2222222222222222,\"#7201a8\"],[0.3333333333333333,\"#9c179e\"],[0.4444444444444444,\"#bd3786\"],[0.5555555555555556,\"#d8576b\"],[0.6666666666666666,\"#ed7953\"],[0.7777777777777778,\"#fb9f3a\"],[0.8888888888888888,\"#fdca26\"],[1.0,\"#f0f921\"]]}],\"surface\":[{\"type\":\"surface\",\"colorbar\":{\"outlinewidth\":0,\"ticks\":\"\"},\"colorscale\":[[0.0,\"#0d0887\"],[0.1111111111111111,\"#46039f\"],[0.2222222222222222,\"#7201a8\"],[0.3333333333333333,\"#9c179e\"],[0.4444444444444444,\"#bd3786\"],[0.5555555555555556,\"#d8576b\"],[0.6666666666666666,\"#ed7953\"],[0.7777777777777778,\"#fb9f3a\"],[0.8888888888888888,\"#fdca26\"],[1.0,\"#f0f921\"]]}],\"mesh3d\":[{\"type\":\"mesh3d\",\"colorbar\":{\"outlinewidth\":0,\"ticks\":\"\"}}],\"scatter\":[{\"fillpattern\":{\"fillmode\":\"overlay\",\"size\":10,\"solidity\":0.2},\"type\":\"scatter\"}],\"parcoords\":[{\"type\":\"parcoords\",\"line\":{\"colorbar\":{\"outlinewidth\":0,\"ticks\":\"\"}}}],\"scatterpolargl\":[{\"type\":\"scatterpolargl\",\"marker\":{\"colorbar\":{\"outlinewidth\":0,\"ticks\":\"\"}}}],\"bar\":[{\"error_x\":{\"color\":\"#2a3f5f\"},\"error_y\":{\"color\":\"#2a3f5f\"},\"marker\":{\"line\":{\"color\":\"#E5ECF6\",\"width\":0.5},\"pattern\":{\"fillmode\":\"overlay\",\"size\":10,\"solidity\":0.2}},\"type\":\"bar\"}],\"scattergeo\":[{\"type\":\"scattergeo\",\"marker\":{\"colorbar\":{\"outlinewidth\":0,\"ticks\":\"\"}}}],\"scatterpolar\":[{\"type\":\"scatterpolar\",\"marker\":{\"colorbar\":{\"outlinewidth\":0,\"ticks\":\"\"}}}],\"histogram\":[{\"marker\":{\"pattern\":{\"fillmode\":\"overlay\",\"size\":10,\"solidity\":0.2}},\"type\":\"histogram\"}],\"scattergl\":[{\"type\":\"scattergl\",\"marker\":{\"colorbar\":{\"outlinewidth\":0,\"ticks\":\"\"}}}],\"scatter3d\":[{\"type\":\"scatter3d\",\"line\":{\"colorbar\":{\"outlinewidth\":0,\"ticks\":\"\"}},\"marker\":{\"colorbar\":{\"outlinewidth\":0,\"ticks\":\"\"}}}],\"scattermapbox\":[{\"type\":\"scattermapbox\",\"marker\":{\"colorbar\":{\"outlinewidth\":0,\"ticks\":\"\"}}}],\"scatterternary\":[{\"type\":\"scatterternary\",\"marker\":{\"colorbar\":{\"outlinewidth\":0,\"ticks\":\"\"}}}],\"scattercarpet\":[{\"type\":\"scattercarpet\",\"marker\":{\"colorbar\":{\"outlinewidth\":0,\"ticks\":\"\"}}}],\"carpet\":[{\"aaxis\":{\"endlinecolor\":\"#2a3f5f\",\"gridcolor\":\"white\",\"linecolor\":\"white\",\"minorgridcolor\":\"white\",\"startlinecolor\":\"#2a3f5f\"},\"baxis\":{\"endlinecolor\":\"#2a3f5f\",\"gridcolor\":\"white\",\"linecolor\":\"white\",\"minorgridcolor\":\"white\",\"startlinecolor\":\"#2a3f5f\"},\"type\":\"carpet\"}],\"table\":[{\"cells\":{\"fill\":{\"color\":\"#EBF0F8\"},\"line\":{\"color\":\"white\"}},\"header\":{\"fill\":{\"color\":\"#C8D4E3\"},\"line\":{\"color\":\"white\"}},\"type\":\"table\"}],\"barpolar\":[{\"marker\":{\"line\":{\"color\":\"#E5ECF6\",\"width\":0.5},\"pattern\":{\"fillmode\":\"overlay\",\"size\":10,\"solidity\":0.2}},\"type\":\"barpolar\"}],\"pie\":[{\"automargin\":true,\"type\":\"pie\"}]},\"layout\":{\"autotypenumbers\":\"strict\",\"colorway\":[\"#636efa\",\"#EF553B\",\"#00cc96\",\"#ab63fa\",\"#FFA15A\",\"#19d3f3\",\"#FF6692\",\"#B6E880\",\"#FF97FF\",\"#FECB52\"],\"font\":{\"color\":\"#2a3f5f\"},\"hovermode\":\"closest\",\"hoverlabel\":{\"align\":\"left\"},\"paper_bgcolor\":\"white\",\"plot_bgcolor\":\"#E5ECF6\",\"polar\":{\"bgcolor\":\"#E5ECF6\",\"angularaxis\":{\"gridcolor\":\"white\",\"linecolor\":\"white\",\"ticks\":\"\"},\"radialaxis\":{\"gridcolor\":\"white\",\"linecolor\":\"white\",\"ticks\":\"\"}},\"ternary\":{\"bgcolor\":\"#E5ECF6\",\"aaxis\":{\"gridcolor\":\"white\",\"linecolor\":\"white\",\"ticks\":\"\"},\"baxis\":{\"gridcolor\":\"white\",\"linecolor\":\"white\",\"ticks\":\"\"},\"caxis\":{\"gridcolor\":\"white\",\"linecolor\":\"white\",\"ticks\":\"\"}},\"coloraxis\":{\"colorbar\":{\"outlinewidth\":0,\"ticks\":\"\"}},\"colorscale\":{\"sequential\":[[0.0,\"#0d0887\"],[0.1111111111111111,\"#46039f\"],[0.2222222222222222,\"#7201a8\"],[0.3333333333333333,\"#9c179e\"],[0.4444444444444444,\"#bd3786\"],[0.5555555555555556,\"#d8576b\"],[0.6666666666666666,\"#ed7953\"],[0.7777777777777778,\"#fb9f3a\"],[0.8888888888888888,\"#fdca26\"],[1.0,\"#f0f921\"]],\"sequentialminus\":[[0.0,\"#0d0887\"],[0.1111111111111111,\"#46039f\"],[0.2222222222222222,\"#7201a8\"],[0.3333333333333333,\"#9c179e\"],[0.4444444444444444,\"#bd3786\"],[0.5555555555555556,\"#d8576b\"],[0.6666666666666666,\"#ed7953\"],[0.7777777777777778,\"#fb9f3a\"],[0.8888888888888888,\"#fdca26\"],[1.0,\"#f0f921\"]],\"diverging\":[[0,\"#8e0152\"],[0.1,\"#c51b7d\"],[0.2,\"#de77ae\"],[0.3,\"#f1b6da\"],[0.4,\"#fde0ef\"],[0.5,\"#f7f7f7\"],[0.6,\"#e6f5d0\"],[0.7,\"#b8e186\"],[0.8,\"#7fbc41\"],[0.9,\"#4d9221\"],[1,\"#276419\"]]},\"xaxis\":{\"gridcolor\":\"white\",\"linecolor\":\"white\",\"ticks\":\"\",\"title\":{\"standoff\":15},\"zerolinecolor\":\"white\",\"automargin\":true,\"zerolinewidth\":2},\"yaxis\":{\"gridcolor\":\"white\",\"linecolor\":\"white\",\"ticks\":\"\",\"title\":{\"standoff\":15},\"zerolinecolor\":\"white\",\"automargin\":true,\"zerolinewidth\":2},\"scene\":{\"xaxis\":{\"backgroundcolor\":\"#E5ECF6\",\"gridcolor\":\"white\",\"linecolor\":\"white\",\"showbackground\":true,\"ticks\":\"\",\"zerolinecolor\":\"white\",\"gridwidth\":2},\"yaxis\":{\"backgroundcolor\":\"#E5ECF6\",\"gridcolor\":\"white\",\"linecolor\":\"white\",\"showbackground\":true,\"ticks\":\"\",\"zerolinecolor\":\"white\",\"gridwidth\":2},\"zaxis\":{\"backgroundcolor\":\"#E5ECF6\",\"gridcolor\":\"white\",\"linecolor\":\"white\",\"showbackground\":true,\"ticks\":\"\",\"zerolinecolor\":\"white\",\"gridwidth\":2}},\"shapedefaults\":{\"line\":{\"color\":\"#2a3f5f\"}},\"annotationdefaults\":{\"arrowcolor\":\"#2a3f5f\",\"arrowhead\":0,\"arrowwidth\":1},\"geo\":{\"bgcolor\":\"white\",\"landcolor\":\"#E5ECF6\",\"subunitcolor\":\"white\",\"showland\":true,\"showlakes\":true,\"lakecolor\":\"white\"},\"title\":{\"x\":0.05},\"mapbox\":{\"style\":\"light\"}}},\"xaxis\":{\"anchor\":\"y\",\"domain\":[0.0,0.3825],\"title\":{\"text\":\"Salary Change ($M)\"}},\"yaxis\":{\"anchor\":\"x\",\"domain\":[0.625,1.0],\"title\":{\"text\":\"Value Improvement\"}},\"xaxis2\":{\"anchor\":\"y2\",\"domain\":[0.5325,1.0],\"title\":{\"text\":\"Trade Quality Metrics\"}},\"yaxis2\":{\"anchor\":\"x2\",\"domain\":[0.0,0.375],\"title\":{\"text\":\"Number of Trades\"}},\"annotations\":[{\"font\":{\"size\":16},\"showarrow\":false,\"text\":\"Trade Opportunities (ROI vs Value)\",\"x\":0.19125,\"xanchor\":\"center\",\"xref\":\"paper\",\"y\":1.0,\"yanchor\":\"bottom\",\"yref\":\"paper\"},{\"font\":{\"size\":16},\"showarrow\":false,\"text\":\"Top Trade Recommendations\",\"x\":0.76625,\"xanchor\":\"center\",\"xref\":\"paper\",\"y\":1.0,\"yanchor\":\"bottom\",\"yref\":\"paper\"},{\"font\":{\"size\":16},\"showarrow\":false,\"text\":\"Trades by Position\",\"x\":0.19125,\"xanchor\":\"center\",\"xref\":\"paper\",\"y\":0.375,\"yanchor\":\"bottom\",\"yref\":\"paper\"},{\"font\":{\"size\":16},\"showarrow\":false,\"text\":\"Financial Impact\",\"x\":0.76625,\"xanchor\":\"center\",\"xref\":\"paper\",\"y\":0.375,\"yanchor\":\"bottom\",\"yref\":\"paper\"}],\"height\":650,\"title\":{\"text\":\"🔄 TRADE RECOMMENDATION ENGINE\"},\"showlegend\":false},                        {\"responsive\": true}                    ).then(function(){\n",
       "                            \n",
       "var gd = document.getElementById('4c33ece1-8505-4af3-9312-db3932d93fc6');\n",
       "var x = new MutationObserver(function (mutations, observer) {{\n",
       "        var display = window.getComputedStyle(gd).display;\n",
       "        if (!display || display === 'none') {{\n",
       "            console.log([gd, 'removed!']);\n",
       "            Plotly.purge(gd);\n",
       "            observer.disconnect();\n",
       "        }}\n",
       "}});\n",
       "\n",
       "// Listen for the removal of the full notebook cells\n",
       "var notebookContainer = gd.closest('#notebook-container');\n",
       "if (notebookContainer) {{\n",
       "    x.observe(notebookContainer, {childList: true});\n",
       "}}\n",
       "\n",
       "// Listen for the clearing of the current output cell\n",
       "var outputEl = gd.closest('.output');\n",
       "if (outputEl) {{\n",
       "    x.observe(outputEl, {childList: true});\n",
       "}}\n",
       "\n",
       "                        })                };                });            </script>        </div>"
      ]
     },
     "metadata": {},
     "output_type": "display_data"
    },
    {
     "name": "stdout",
     "output_type": "stream",
     "text": [
      "\n",
      "4️⃣ Market Analysis\n"
     ]
    },
    {
     "data": {
      "application/vnd.plotly.v1+json": {
       "config": {
        "plotlyServerURL": "https://plot.ly"
       },
       "data": [
        {
         "colorscale": [
          [
           0,
           "rgb(165,0,38)"
          ],
          [
           0.1,
           "rgb(215,48,39)"
          ],
          [
           0.2,
           "rgb(244,109,67)"
          ],
          [
           0.3,
           "rgb(253,174,97)"
          ],
          [
           0.4,
           "rgb(254,224,139)"
          ],
          [
           0.5,
           "rgb(255,255,191)"
          ],
          [
           0.6,
           "rgb(217,239,139)"
          ],
          [
           0.7,
           "rgb(166,217,106)"
          ],
          [
           0.8,
           "rgb(102,189,99)"
          ],
          [
           0.9,
           "rgb(26,152,80)"
          ],
          [
           1,
           "rgb(0,104,55)"
          ]
         ],
         "showscale": false,
         "text": [
          [
           2.78,
           0.85,
           0.41,
           0.25
          ],
          [
           1.46,
           0.55,
           0.26,
           0.19
          ],
          [
           1.28,
           0.56,
           0.35,
           0.21
          ],
          [
           5.79,
           0,
           0,
           0
          ]
         ],
         "textfont": {
          "size": 12
         },
         "texttemplate": "%{text}",
         "type": "heatmap",
         "x": [
          "Bench (<$5M)",
          "Role ($5-15M)",
          "Star ($15-30M)",
          "Superstar ($30M+)"
         ],
         "xaxis": "x",
         "y": [
          "Center",
          "Forward",
          "Guard",
          "Multi"
         ],
         "yaxis": "y",
         "z": [
          [
           2.7796455056046274,
           0.850768982421142,
           0.41400764507183785,
           0.24869326934195518
          ],
          [
           1.4580774994798962,
           0.5476387440590935,
           0.2591626469761655,
           0.19213438193591686
          ],
          [
           1.2813499952847507,
           0.5581352267658515,
           0.35051695536003563,
           0.21444414605865508
          ],
          [
           5.794341532609373,
           0,
           0,
           0
          ]
         ]
        },
        {
         "colorscale": [
          [
           0,
           "rgb(165,0,38)"
          ],
          [
           0.1,
           "rgb(215,48,39)"
          ],
          [
           0.2,
           "rgb(244,109,67)"
          ],
          [
           0.3,
           "rgb(253,174,97)"
          ],
          [
           0.4,
           "rgb(254,224,139)"
          ],
          [
           0.5,
           "rgb(255,255,191)"
          ],
          [
           0.6,
           "rgb(217,239,139)"
          ],
          [
           0.7,
           "rgb(166,217,106)"
          ],
          [
           0.8,
           "rgb(102,189,99)"
          ],
          [
           0.9,
           "rgb(26,152,80)"
          ],
          [
           1,
           "rgb(0,104,55)"
          ]
         ],
         "showscale": false,
         "text": [
          [
           1.46,
           0.57,
           0.29,
           0.22
          ],
          [
           2.17,
           0.65,
           0.37,
           0.2
          ],
          [
           1.74,
           0.69,
           0.32,
           0.21
          ],
          [
           1.36,
           0.67,
           0.35,
           0.21
          ]
         ],
         "textfont": {
          "size": 12
         },
         "texttemplate": "%{text}",
         "type": "heatmap",
         "x": [
          "Low",
          "Mid",
          "High",
          "Max"
         ],
         "xaxis": "x2",
         "y": [
          "Young",
          "Developing",
          "Prime",
          "Veteran"
         ],
         "yaxis": "y2",
         "z": [
          [
           1.459995035711488,
           0.5683660996296018,
           0.28673369911334257,
           0.22445438323291528
          ],
          [
           2.1678829052939355,
           0.6538540039603461,
           0.37258381698380466,
           0.2014540685513695
          ],
          [
           1.7382648651217991,
           0.6892931940954011,
           0.3230285512004332,
           0.21383728909024813
          ],
          [
           1.3563152625099608,
           0.6710453706747725,
           0.3492044746329419,
           0.20947842509033998
          ]
         ]
        },
        {
         "colorscale": [
          [
           0,
           "rgb(255,245,240)"
          ],
          [
           0.125,
           "rgb(254,224,210)"
          ],
          [
           0.25,
           "rgb(252,187,161)"
          ],
          [
           0.375,
           "rgb(252,146,114)"
          ],
          [
           0.5,
           "rgb(251,106,74)"
          ],
          [
           0.625,
           "rgb(239,59,44)"
          ],
          [
           0.75,
           "rgb(203,24,29)"
          ],
          [
           0.875,
           "rgb(165,15,21)"
          ],
          [
           1,
           "rgb(103,0,13)"
          ]
         ],
         "showscale": false,
         "text": [
          [
           25.5
          ],
          [
           22.1
          ],
          [
           17.8
          ],
          [
           8
          ],
          [
           6.9
          ],
          [
           5.2
          ],
          [
           3.8
          ],
          [
           -0.9
          ],
          [
           -4.9
          ],
          [
           -8.7
          ]
         ],
         "textfont": {
          "size": 10
         },
         "texttemplate": "%{text}M",
         "type": "heatmap",
         "x": [
          "Overpay ($M)"
         ],
         "xaxis": "x3",
         "y": [
          "NOR",
          "DEN",
          "PHI",
          "PHX",
          "CLE",
          "BOS",
          "NYK",
          "ORL",
          "TOR",
          "MIN"
         ],
         "yaxis": "y3",
         "z": [
          [
           25.488530765388425
          ],
          [
           22.125852301169108
          ],
          [
           17.849422944473716
          ],
          [
           7.986022659194784
          ],
          [
           6.881760457789834
          ],
          [
           5.221794082948053
          ],
          [
           3.77200029720768
          ],
          [
           -0.9185074506320374
          ],
          [
           -4.930570609870266
          ],
          [
           -8.669104463785143
          ]
         ]
        },
        {
         "colorbar": {
          "title": {
           "text": "Player Count"
          },
          "x": 1.02,
          "y": 0.5
         },
         "colorscale": [
          [
           0,
           "rgb(247,251,255)"
          ],
          [
           0.125,
           "rgb(222,235,247)"
          ],
          [
           0.25,
           "rgb(198,219,239)"
          ],
          [
           0.375,
           "rgb(158,202,225)"
          ],
          [
           0.5,
           "rgb(107,174,214)"
          ],
          [
           0.625,
           "rgb(66,146,198)"
          ],
          [
           0.75,
           "rgb(33,113,181)"
          ],
          [
           0.875,
           "rgb(8,81,156)"
          ],
          [
           1,
           "rgb(8,48,107)"
          ]
         ],
         "text": [
          [
           198,
           52,
           7,
           5
          ],
          [
           58,
           57,
           29,
           29
          ],
          [
           0,
           2,
           3,
           11
          ],
          [
           1,
           0,
           0,
           3
          ]
         ],
         "textfont": {
          "size": 12
         },
         "texttemplate": "%{text}",
         "type": "heatmap",
         "x": [
          "Bench (<$5M)",
          "Role ($5-15M)",
          "Star ($15-30M)",
          "Superstar ($30M+)"
         ],
         "xaxis": "x4",
         "y": [
          "Below Average",
          "Average",
          "Above Average",
          "Elite"
         ],
         "yaxis": "y4",
         "z": [
          [
           198,
           52,
           7,
           5
          ],
          [
           58,
           57,
           29,
           29
          ],
          [
           0,
           2,
           3,
           11
          ],
          [
           1,
           0,
           0,
           3
          ]
         ]
        }
       ],
       "layout": {
        "annotations": [
         {
          "font": {
           "size": 16
          },
          "showarrow": false,
          "text": "Position × Contract Tier Efficiency",
          "x": 0.225,
          "xanchor": "center",
          "xref": "paper",
          "y": 1,
          "yanchor": "bottom",
          "yref": "paper"
         },
         {
          "font": {
           "size": 16
          },
          "showarrow": false,
          "text": "Age Group × Salary Efficiency",
          "x": 0.775,
          "xanchor": "center",
          "xref": "paper",
          "y": 1,
          "yanchor": "bottom",
          "yref": "paper"
         },
         {
          "font": {
           "size": 16
          },
          "showarrow": false,
          "text": "Team Overpay Analysis (Top 10)",
          "x": 0.225,
          "xanchor": "center",
          "xref": "paper",
          "y": 0.375,
          "yanchor": "bottom",
          "yref": "paper"
         },
         {
          "font": {
           "size": 16
          },
          "showarrow": false,
          "text": "Performance Distribution",
          "x": 0.775,
          "xanchor": "center",
          "xref": "paper",
          "y": 0.375,
          "yanchor": "bottom",
          "yref": "paper"
         }
        ],
        "autosize": true,
        "showlegend": false,
        "template": {
         "data": {
          "bar": [
           {
            "error_x": {
             "color": "#2a3f5f"
            },
            "error_y": {
             "color": "#2a3f5f"
            },
            "marker": {
             "line": {
              "color": "#E5ECF6",
              "width": 0.5
             },
             "pattern": {
              "fillmode": "overlay",
              "size": 10,
              "solidity": 0.2
             }
            },
            "type": "bar"
           }
          ],
          "barpolar": [
           {
            "marker": {
             "line": {
              "color": "#E5ECF6",
              "width": 0.5
             },
             "pattern": {
              "fillmode": "overlay",
              "size": 10,
              "solidity": 0.2
             }
            },
            "type": "barpolar"
           }
          ],
          "carpet": [
           {
            "aaxis": {
             "endlinecolor": "#2a3f5f",
             "gridcolor": "white",
             "linecolor": "white",
             "minorgridcolor": "white",
             "startlinecolor": "#2a3f5f"
            },
            "baxis": {
             "endlinecolor": "#2a3f5f",
             "gridcolor": "white",
             "linecolor": "white",
             "minorgridcolor": "white",
             "startlinecolor": "#2a3f5f"
            },
            "type": "carpet"
           }
          ],
          "choropleth": [
           {
            "colorbar": {
             "outlinewidth": 0,
             "ticks": ""
            },
            "type": "choropleth"
           }
          ],
          "contour": [
           {
            "colorbar": {
             "outlinewidth": 0,
             "ticks": ""
            },
            "colorscale": [
             [
              0,
              "#0d0887"
             ],
             [
              0.1111111111111111,
              "#46039f"
             ],
             [
              0.2222222222222222,
              "#7201a8"
             ],
             [
              0.3333333333333333,
              "#9c179e"
             ],
             [
              0.4444444444444444,
              "#bd3786"
             ],
             [
              0.5555555555555556,
              "#d8576b"
             ],
             [
              0.6666666666666666,
              "#ed7953"
             ],
             [
              0.7777777777777778,
              "#fb9f3a"
             ],
             [
              0.8888888888888888,
              "#fdca26"
             ],
             [
              1,
              "#f0f921"
             ]
            ],
            "type": "contour"
           }
          ],
          "contourcarpet": [
           {
            "colorbar": {
             "outlinewidth": 0,
             "ticks": ""
            },
            "type": "contourcarpet"
           }
          ],
          "heatmap": [
           {
            "colorbar": {
             "outlinewidth": 0,
             "ticks": ""
            },
            "colorscale": [
             [
              0,
              "#0d0887"
             ],
             [
              0.1111111111111111,
              "#46039f"
             ],
             [
              0.2222222222222222,
              "#7201a8"
             ],
             [
              0.3333333333333333,
              "#9c179e"
             ],
             [
              0.4444444444444444,
              "#bd3786"
             ],
             [
              0.5555555555555556,
              "#d8576b"
             ],
             [
              0.6666666666666666,
              "#ed7953"
             ],
             [
              0.7777777777777778,
              "#fb9f3a"
             ],
             [
              0.8888888888888888,
              "#fdca26"
             ],
             [
              1,
              "#f0f921"
             ]
            ],
            "type": "heatmap"
           }
          ],
          "heatmapgl": [
           {
            "colorbar": {
             "outlinewidth": 0,
             "ticks": ""
            },
            "colorscale": [
             [
              0,
              "#0d0887"
             ],
             [
              0.1111111111111111,
              "#46039f"
             ],
             [
              0.2222222222222222,
              "#7201a8"
             ],
             [
              0.3333333333333333,
              "#9c179e"
             ],
             [
              0.4444444444444444,
              "#bd3786"
             ],
             [
              0.5555555555555556,
              "#d8576b"
             ],
             [
              0.6666666666666666,
              "#ed7953"
             ],
             [
              0.7777777777777778,
              "#fb9f3a"
             ],
             [
              0.8888888888888888,
              "#fdca26"
             ],
             [
              1,
              "#f0f921"
             ]
            ],
            "type": "heatmapgl"
           }
          ],
          "histogram": [
           {
            "marker": {
             "pattern": {
              "fillmode": "overlay",
              "size": 10,
              "solidity": 0.2
             }
            },
            "type": "histogram"
           }
          ],
          "histogram2d": [
           {
            "colorbar": {
             "outlinewidth": 0,
             "ticks": ""
            },
            "colorscale": [
             [
              0,
              "#0d0887"
             ],
             [
              0.1111111111111111,
              "#46039f"
             ],
             [
              0.2222222222222222,
              "#7201a8"
             ],
             [
              0.3333333333333333,
              "#9c179e"
             ],
             [
              0.4444444444444444,
              "#bd3786"
             ],
             [
              0.5555555555555556,
              "#d8576b"
             ],
             [
              0.6666666666666666,
              "#ed7953"
             ],
             [
              0.7777777777777778,
              "#fb9f3a"
             ],
             [
              0.8888888888888888,
              "#fdca26"
             ],
             [
              1,
              "#f0f921"
             ]
            ],
            "type": "histogram2d"
           }
          ],
          "histogram2dcontour": [
           {
            "colorbar": {
             "outlinewidth": 0,
             "ticks": ""
            },
            "colorscale": [
             [
              0,
              "#0d0887"
             ],
             [
              0.1111111111111111,
              "#46039f"
             ],
             [
              0.2222222222222222,
              "#7201a8"
             ],
             [
              0.3333333333333333,
              "#9c179e"
             ],
             [
              0.4444444444444444,
              "#bd3786"
             ],
             [
              0.5555555555555556,
              "#d8576b"
             ],
             [
              0.6666666666666666,
              "#ed7953"
             ],
             [
              0.7777777777777778,
              "#fb9f3a"
             ],
             [
              0.8888888888888888,
              "#fdca26"
             ],
             [
              1,
              "#f0f921"
             ]
            ],
            "type": "histogram2dcontour"
           }
          ],
          "mesh3d": [
           {
            "colorbar": {
             "outlinewidth": 0,
             "ticks": ""
            },
            "type": "mesh3d"
           }
          ],
          "parcoords": [
           {
            "line": {
             "colorbar": {
              "outlinewidth": 0,
              "ticks": ""
             }
            },
            "type": "parcoords"
           }
          ],
          "pie": [
           {
            "automargin": true,
            "type": "pie"
           }
          ],
          "scatter": [
           {
            "fillpattern": {
             "fillmode": "overlay",
             "size": 10,
             "solidity": 0.2
            },
            "type": "scatter"
           }
          ],
          "scatter3d": [
           {
            "line": {
             "colorbar": {
              "outlinewidth": 0,
              "ticks": ""
             }
            },
            "marker": {
             "colorbar": {
              "outlinewidth": 0,
              "ticks": ""
             }
            },
            "type": "scatter3d"
           }
          ],
          "scattercarpet": [
           {
            "marker": {
             "colorbar": {
              "outlinewidth": 0,
              "ticks": ""
             }
            },
            "type": "scattercarpet"
           }
          ],
          "scattergeo": [
           {
            "marker": {
             "colorbar": {
              "outlinewidth": 0,
              "ticks": ""
             }
            },
            "type": "scattergeo"
           }
          ],
          "scattergl": [
           {
            "marker": {
             "colorbar": {
              "outlinewidth": 0,
              "ticks": ""
             }
            },
            "type": "scattergl"
           }
          ],
          "scattermapbox": [
           {
            "marker": {
             "colorbar": {
              "outlinewidth": 0,
              "ticks": ""
             }
            },
            "type": "scattermapbox"
           }
          ],
          "scatterpolar": [
           {
            "marker": {
             "colorbar": {
              "outlinewidth": 0,
              "ticks": ""
             }
            },
            "type": "scatterpolar"
           }
          ],
          "scatterpolargl": [
           {
            "marker": {
             "colorbar": {
              "outlinewidth": 0,
              "ticks": ""
             }
            },
            "type": "scatterpolargl"
           }
          ],
          "scatterternary": [
           {
            "marker": {
             "colorbar": {
              "outlinewidth": 0,
              "ticks": ""
             }
            },
            "type": "scatterternary"
           }
          ],
          "surface": [
           {
            "colorbar": {
             "outlinewidth": 0,
             "ticks": ""
            },
            "colorscale": [
             [
              0,
              "#0d0887"
             ],
             [
              0.1111111111111111,
              "#46039f"
             ],
             [
              0.2222222222222222,
              "#7201a8"
             ],
             [
              0.3333333333333333,
              "#9c179e"
             ],
             [
              0.4444444444444444,
              "#bd3786"
             ],
             [
              0.5555555555555556,
              "#d8576b"
             ],
             [
              0.6666666666666666,
              "#ed7953"
             ],
             [
              0.7777777777777778,
              "#fb9f3a"
             ],
             [
              0.8888888888888888,
              "#fdca26"
             ],
             [
              1,
              "#f0f921"
             ]
            ],
            "type": "surface"
           }
          ],
          "table": [
           {
            "cells": {
             "fill": {
              "color": "#EBF0F8"
             },
             "line": {
              "color": "white"
             }
            },
            "header": {
             "fill": {
              "color": "#C8D4E3"
             },
             "line": {
              "color": "white"
             }
            },
            "type": "table"
           }
          ]
         },
         "layout": {
          "annotationdefaults": {
           "arrowcolor": "#2a3f5f",
           "arrowhead": 0,
           "arrowwidth": 1
          },
          "autotypenumbers": "strict",
          "coloraxis": {
           "colorbar": {
            "outlinewidth": 0,
            "ticks": ""
           }
          },
          "colorscale": {
           "diverging": [
            [
             0,
             "#8e0152"
            ],
            [
             0.1,
             "#c51b7d"
            ],
            [
             0.2,
             "#de77ae"
            ],
            [
             0.3,
             "#f1b6da"
            ],
            [
             0.4,
             "#fde0ef"
            ],
            [
             0.5,
             "#f7f7f7"
            ],
            [
             0.6,
             "#e6f5d0"
            ],
            [
             0.7,
             "#b8e186"
            ],
            [
             0.8,
             "#7fbc41"
            ],
            [
             0.9,
             "#4d9221"
            ],
            [
             1,
             "#276419"
            ]
           ],
           "sequential": [
            [
             0,
             "#0d0887"
            ],
            [
             0.1111111111111111,
             "#46039f"
            ],
            [
             0.2222222222222222,
             "#7201a8"
            ],
            [
             0.3333333333333333,
             "#9c179e"
            ],
            [
             0.4444444444444444,
             "#bd3786"
            ],
            [
             0.5555555555555556,
             "#d8576b"
            ],
            [
             0.6666666666666666,
             "#ed7953"
            ],
            [
             0.7777777777777778,
             "#fb9f3a"
            ],
            [
             0.8888888888888888,
             "#fdca26"
            ],
            [
             1,
             "#f0f921"
            ]
           ],
           "sequentialminus": [
            [
             0,
             "#0d0887"
            ],
            [
             0.1111111111111111,
             "#46039f"
            ],
            [
             0.2222222222222222,
             "#7201a8"
            ],
            [
             0.3333333333333333,
             "#9c179e"
            ],
            [
             0.4444444444444444,
             "#bd3786"
            ],
            [
             0.5555555555555556,
             "#d8576b"
            ],
            [
             0.6666666666666666,
             "#ed7953"
            ],
            [
             0.7777777777777778,
             "#fb9f3a"
            ],
            [
             0.8888888888888888,
             "#fdca26"
            ],
            [
             1,
             "#f0f921"
            ]
           ]
          },
          "colorway": [
           "#636efa",
           "#EF553B",
           "#00cc96",
           "#ab63fa",
           "#FFA15A",
           "#19d3f3",
           "#FF6692",
           "#B6E880",
           "#FF97FF",
           "#FECB52"
          ],
          "font": {
           "color": "#2a3f5f"
          },
          "geo": {
           "bgcolor": "white",
           "lakecolor": "white",
           "landcolor": "#E5ECF6",
           "showlakes": true,
           "showland": true,
           "subunitcolor": "white"
          },
          "hoverlabel": {
           "align": "left"
          },
          "hovermode": "closest",
          "mapbox": {
           "style": "light"
          },
          "paper_bgcolor": "white",
          "plot_bgcolor": "#E5ECF6",
          "polar": {
           "angularaxis": {
            "gridcolor": "white",
            "linecolor": "white",
            "ticks": ""
           },
           "bgcolor": "#E5ECF6",
           "radialaxis": {
            "gridcolor": "white",
            "linecolor": "white",
            "ticks": ""
           }
          },
          "scene": {
           "xaxis": {
            "backgroundcolor": "#E5ECF6",
            "gridcolor": "white",
            "gridwidth": 2,
            "linecolor": "white",
            "showbackground": true,
            "ticks": "",
            "zerolinecolor": "white"
           },
           "yaxis": {
            "backgroundcolor": "#E5ECF6",
            "gridcolor": "white",
            "gridwidth": 2,
            "linecolor": "white",
            "showbackground": true,
            "ticks": "",
            "zerolinecolor": "white"
           },
           "zaxis": {
            "backgroundcolor": "#E5ECF6",
            "gridcolor": "white",
            "gridwidth": 2,
            "linecolor": "white",
            "showbackground": true,
            "ticks": "",
            "zerolinecolor": "white"
           }
          },
          "shapedefaults": {
           "line": {
            "color": "#2a3f5f"
           }
          },
          "ternary": {
           "aaxis": {
            "gridcolor": "white",
            "linecolor": "white",
            "ticks": ""
           },
           "baxis": {
            "gridcolor": "white",
            "linecolor": "white",
            "ticks": ""
           },
           "bgcolor": "#E5ECF6",
           "caxis": {
            "gridcolor": "white",
            "linecolor": "white",
            "ticks": ""
           }
          },
          "title": {
           "x": 0.05
          },
          "xaxis": {
           "automargin": true,
           "gridcolor": "white",
           "linecolor": "white",
           "ticks": "",
           "title": {
            "standoff": 15
           },
           "zerolinecolor": "white",
           "zerolinewidth": 2
          },
          "yaxis": {
           "automargin": true,
           "gridcolor": "white",
           "linecolor": "white",
           "ticks": "",
           "title": {
            "standoff": 15
           },
           "zerolinecolor": "white",
           "zerolinewidth": 2
          }
         }
        },
        "title": {
         "text": "MARKET EFFICIENCY ANALYSIS (CLEAN)"
        },
        "xaxis": {
         "anchor": "y",
         "autorange": true,
         "domain": [
          0,
          0.45
         ],
         "range": [
          -0.5,
          3.5
         ],
         "type": "category"
        },
        "xaxis2": {
         "anchor": "y2",
         "autorange": true,
         "domain": [
          0.55,
          1
         ],
         "range": [
          -0.5,
          3.5
         ],
         "type": "category"
        },
        "xaxis3": {
         "anchor": "y3",
         "autorange": true,
         "domain": [
          0,
          0.45
         ],
         "range": [
          -0.5,
          0.5
         ],
         "type": "category"
        },
        "xaxis4": {
         "anchor": "y4",
         "autorange": true,
         "domain": [
          0.55,
          1
         ],
         "range": [
          -0.5,
          3.5
         ],
         "type": "category"
        },
        "yaxis": {
         "anchor": "x",
         "autorange": true,
         "domain": [
          0.625,
          1
         ],
         "range": [
          -0.5,
          3.5
         ],
         "type": "category"
        },
        "yaxis2": {
         "anchor": "x2",
         "autorange": true,
         "domain": [
          0.625,
          1
         ],
         "range": [
          -0.5,
          3.5
         ],
         "type": "category"
        },
        "yaxis3": {
         "anchor": "x3",
         "autorange": true,
         "domain": [
          0,
          0.375
         ],
         "range": [
          -0.5,
          9.5
         ],
         "type": "category"
        },
        "yaxis4": {
         "anchor": "x4",
         "autorange": true,
         "domain": [
          0,
          0.375
         ],
         "range": [
          -0.5,
          3.5
         ],
         "type": "category"
        }
       }
      },
      "image/png": "[encoded data removed]",
      "text/html": [
       "<div>                            <div id=\"d576affa-6675-4260-801d-7e8d07f894d7\" class=\"plotly-graph-div\" style=\"height:700px; width:100%;\"></div>            <script type=\"text/javascript\">                require([\"plotly\"], function(Plotly) {                    window.PLOTLYENV=window.PLOTLYENV || {};                                    if (document.getElementById(\"d576affa-6675-4260-801d-7e8d07f894d7\")) {                    Plotly.newPlot(                        \"d576affa-6675-4260-801d-7e8d07f894d7\",                        [{\"colorscale\":[[0.0,\"rgb(165,0,38)\"],[0.1,\"rgb(215,48,39)\"],[0.2,\"rgb(244,109,67)\"],[0.3,\"rgb(253,174,97)\"],[0.4,\"rgb(254,224,139)\"],[0.5,\"rgb(255,255,191)\"],[0.6,\"rgb(217,239,139)\"],[0.7,\"rgb(166,217,106)\"],[0.8,\"rgb(102,189,99)\"],[0.9,\"rgb(26,152,80)\"],[1.0,\"rgb(0,104,55)\"]],\"showscale\":false,\"text\":[[2.78,0.85,0.41,0.25],[1.46,0.55,0.26,0.19],[1.28,0.56,0.35,0.21],[5.79,0.0,0.0,0.0]],\"textfont\":{\"size\":12},\"texttemplate\":\"%{text}\",\"x\":[\"Bench (<$5M)\",\"Role ($5-15M)\",\"Star ($15-30M)\",\"Superstar ($30M+)\"],\"y\":[\"Center\",\"Forward\",\"Guard\",\"Multi\"],\"z\":[[2.7796455056046274,0.850768982421142,0.41400764507183785,0.24869326934195518],[1.4580774994798962,0.5476387440590935,0.2591626469761655,0.19213438193591686],[1.2813499952847507,0.5581352267658515,0.35051695536003563,0.21444414605865508],[5.794341532609373,0.0,0.0,0.0]],\"type\":\"heatmap\",\"xaxis\":\"x\",\"yaxis\":\"y\"},{\"colorscale\":[[0.0,\"rgb(165,0,38)\"],[0.1,\"rgb(215,48,39)\"],[0.2,\"rgb(244,109,67)\"],[0.3,\"rgb(253,174,97)\"],[0.4,\"rgb(254,224,139)\"],[0.5,\"rgb(255,255,191)\"],[0.6,\"rgb(217,239,139)\"],[0.7,\"rgb(166,217,106)\"],[0.8,\"rgb(102,189,99)\"],[0.9,\"rgb(26,152,80)\"],[1.0,\"rgb(0,104,55)\"]],\"showscale\":false,\"text\":[[1.46,0.57,0.29,0.22],[2.17,0.65,0.37,0.2],[1.74,0.69,0.32,0.21],[1.36,0.67,0.35,0.21]],\"textfont\":{\"size\":12},\"texttemplate\":\"%{text}\",\"x\":[\"Low\",\"Mid\",\"High\",\"Max\"],\"y\":[\"Young\",\"Developing\",\"Prime\",\"Veteran\"],\"z\":[[1.459995035711488,0.5683660996296018,0.28673369911334257,0.22445438323291528],[2.1678829052939355,0.6538540039603461,0.37258381698380466,0.2014540685513695],[1.7382648651217991,0.6892931940954011,0.3230285512004332,0.21383728909024813],[1.3563152625099608,0.6710453706747725,0.3492044746329419,0.20947842509033998]],\"type\":\"heatmap\",\"xaxis\":\"x2\",\"yaxis\":\"y2\"},{\"colorscale\":[[0.0,\"rgb(255,245,240)\"],[0.125,\"rgb(254,224,210)\"],[0.25,\"rgb(252,187,161)\"],[0.375,\"rgb(252,146,114)\"],[0.5,\"rgb(251,106,74)\"],[0.625,\"rgb(239,59,44)\"],[0.75,\"rgb(203,24,29)\"],[0.875,\"rgb(165,15,21)\"],[1.0,\"rgb(103,0,13)\"]],\"showscale\":false,\"text\":[[25.5],[22.1],[17.8],[8.0],[6.9],[5.2],[3.8],[-0.9],[-4.9],[-8.7]],\"textfont\":{\"size\":10},\"texttemplate\":\"%{text}M\",\"x\":[\"Overpay ($M)\"],\"y\":[\"NOR\",\"DEN\",\"PHI\",\"PHX\",\"CLE\",\"BOS\",\"NYK\",\"ORL\",\"TOR\",\"MIN\"],\"z\":[[25.488530765388425],[22.125852301169108],[17.849422944473716],[7.986022659194784],[6.881760457789834],[5.221794082948053],[3.77200029720768],[-0.9185074506320374],[-4.930570609870266],[-8.669104463785143]],\"type\":\"heatmap\",\"xaxis\":\"x3\",\"yaxis\":\"y3\"},{\"colorbar\":{\"title\":{\"text\":\"Player Count\"},\"x\":1.02},\"colorscale\":[[0.0,\"rgb(247,251,255)\"],[0.125,\"rgb(222,235,247)\"],[0.25,\"rgb(198,219,239)\"],[0.375,\"rgb(158,202,225)\"],[0.5,\"rgb(107,174,214)\"],[0.625,\"rgb(66,146,198)\"],[0.75,\"rgb(33,113,181)\"],[0.875,\"rgb(8,81,156)\"],[1.0,\"rgb(8,48,107)\"]],\"text\":[[198,52,7,5],[58,57,29,29],[0,2,3,11],[1,0,0,3]],\"textfont\":{\"size\":12},\"texttemplate\":\"%{text}\",\"x\":[\"Bench (<$5M)\",\"Role ($5-15M)\",\"Star ($15-30M)\",\"Superstar ($30M+)\"],\"y\":[\"Below Average\",\"Average\",\"Above Average\",\"Elite\"],\"z\":[[198,52,7,5],[58,57,29,29],[0,2,3,11],[1,0,0,3]],\"type\":\"heatmap\",\"xaxis\":\"x4\",\"yaxis\":\"y4\"}],                        {\"template\":{\"data\":{\"histogram2dcontour\":[{\"type\":\"histogram2dcontour\",\"colorbar\":{\"outlinewidth\":0,\"ticks\":\"\"},\"colorscale\":[[0.0,\"#0d0887\"],[0.1111111111111111,\"#46039f\"],[0.2222222222222222,\"#7201a8\"],[0.3333333333333333,\"#9c179e\"],[0.4444444444444444,\"#bd3786\"],[0.5555555555555556,\"#d8576b\"],[0.6666666666666666,\"#ed7953\"],[0.7777777777777778,\"#fb9f3a\"],[0.8888888888888888,\"#fdca26\"],[1.0,\"#f0f921\"]]}],\"choropleth\":[{\"type\":\"choropleth\",\"colorbar\":{\"outlinewidth\":0,\"ticks\":\"\"}}],\"histogram2d\":[{\"type\":\"histogram2d\",\"colorbar\":{\"outlinewidth\":0,\"ticks\":\"\"},\"colorscale\":[[0.0,\"#0d0887\"],[0.1111111111111111,\"#46039f\"],[0.2222222222222222,\"#7201a8\"],[0.3333333333333333,\"#9c179e\"],[0.4444444444444444,\"#bd3786\"],[0.5555555555555556,\"#d8576b\"],[0.6666666666666666,\"#ed7953\"],[0.7777777777777778,\"#fb9f3a\"],[0.8888888888888888,\"#fdca26\"],[1.0,\"#f0f921\"]]}],\"heatmap\":[{\"type\":\"heatmap\",\"colorbar\":{\"outlinewidth\":0,\"ticks\":\"\"},\"colorscale\":[[0.0,\"#0d0887\"],[0.1111111111111111,\"#46039f\"],[0.2222222222222222,\"#7201a8\"],[0.3333333333333333,\"#9c179e\"],[0.4444444444444444,\"#bd3786\"],[0.5555555555555556,\"#d8576b\"],[0.6666666666666666,\"#ed7953\"],[0.7777777777777778,\"#fb9f3a\"],[0.8888888888888888,\"#fdca26\"],[1.0,\"#f0f921\"]]}],\"heatmapgl\":[{\"type\":\"heatmapgl\",\"colorbar\":{\"outlinewidth\":0,\"ticks\":\"\"},\"colorscale\":[[0.0,\"#0d0887\"],[0.1111111111111111,\"#46039f\"],[0.2222222222222222,\"#7201a8\"],[0.3333333333333333,\"#9c179e\"],[0.4444444444444444,\"#bd3786\"],[0.5555555555555556,\"#d8576b\"],[0.6666666666666666,\"#ed7953\"],[0.7777777777777778,\"#fb9f3a\"],[0.8888888888888888,\"#fdca26\"],[1.0,\"#f0f921\"]]}],\"contourcarpet\":[{\"type\":\"contourcarpet\",\"colorbar\":{\"outlinewidth\":0,\"ticks\":\"\"}}],\"contour\":[{\"type\":\"contour\",\"colorbar\":{\"outlinewidth\":0,\"ticks\":\"\"},\"colorscale\":[[0.0,\"#0d0887\"],[0.1111111111111111,\"#46039f\"],[0.2222222222222222,\"#7201a8\"],[0.3333333333333333,\"#9c179e\"],[0.4444444444444444,\"#bd3786\"],[0.5555555555555556,\"#d8576b\"],[0.6666666666666666,\"#ed7953\"],[0.7777777777777778,\"#fb9f3a\"],[0.8888888888888888,\"#fdca26\"],[1.0,\"#f0f921\"]]}],\"surface\":[{\"type\":\"surface\",\"colorbar\":{\"outlinewidth\":0,\"ticks\":\"\"},\"colorscale\":[[0.0,\"#0d0887\"],[0.1111111111111111,\"#46039f\"],[0.2222222222222222,\"#7201a8\"],[0.3333333333333333,\"#9c179e\"],[0.4444444444444444,\"#bd3786\"],[0.5555555555555556,\"#d8576b\"],[0.6666666666666666,\"#ed7953\"],[0.7777777777777778,\"#fb9f3a\"],[0.8888888888888888,\"#fdca26\"],[1.0,\"#f0f921\"]]}],\"mesh3d\":[{\"type\":\"mesh3d\",\"colorbar\":{\"outlinewidth\":0,\"ticks\":\"\"}}],\"scatter\":[{\"fillpattern\":{\"fillmode\":\"overlay\",\"size\":10,\"solidity\":0.2},\"type\":\"scatter\"}],\"parcoords\":[{\"type\":\"parcoords\",\"line\":{\"colorbar\":{\"outlinewidth\":0,\"ticks\":\"\"}}}],\"scatterpolargl\":[{\"type\":\"scatterpolargl\",\"marker\":{\"colorbar\":{\"outlinewidth\":0,\"ticks\":\"\"}}}],\"bar\":[{\"error_x\":{\"color\":\"#2a3f5f\"},\"error_y\":{\"color\":\"#2a3f5f\"},\"marker\":{\"line\":{\"color\":\"#E5ECF6\",\"width\":0.5},\"pattern\":{\"fillmode\":\"overlay\",\"size\":10,\"solidity\":0.2}},\"type\":\"bar\"}],\"scattergeo\":[{\"type\":\"scattergeo\",\"marker\":{\"colorbar\":{\"outlinewidth\":0,\"ticks\":\"\"}}}],\"scatterpolar\":[{\"type\":\"scatterpolar\",\"marker\":{\"colorbar\":{\"outlinewidth\":0,\"ticks\":\"\"}}}],\"histogram\":[{\"marker\":{\"pattern\":{\"fillmode\":\"overlay\",\"size\":10,\"solidity\":0.2}},\"type\":\"histogram\"}],\"scattergl\":[{\"type\":\"scattergl\",\"marker\":{\"colorbar\":{\"outlinewidth\":0,\"ticks\":\"\"}}}],\"scatter3d\":[{\"type\":\"scatter3d\",\"line\":{\"colorbar\":{\"outlinewidth\":0,\"ticks\":\"\"}},\"marker\":{\"colorbar\":{\"outlinewidth\":0,\"ticks\":\"\"}}}],\"scattermapbox\":[{\"type\":\"scattermapbox\",\"marker\":{\"colorbar\":{\"outlinewidth\":0,\"ticks\":\"\"}}}],\"scatterternary\":[{\"type\":\"scatterternary\",\"marker\":{\"colorbar\":{\"outlinewidth\":0,\"ticks\":\"\"}}}],\"scattercarpet\":[{\"type\":\"scattercarpet\",\"marker\":{\"colorbar\":{\"outlinewidth\":0,\"ticks\":\"\"}}}],\"carpet\":[{\"aaxis\":{\"endlinecolor\":\"#2a3f5f\",\"gridcolor\":\"white\",\"linecolor\":\"white\",\"minorgridcolor\":\"white\",\"startlinecolor\":\"#2a3f5f\"},\"baxis\":{\"endlinecolor\":\"#2a3f5f\",\"gridcolor\":\"white\",\"linecolor\":\"white\",\"minorgridcolor\":\"white\",\"startlinecolor\":\"#2a3f5f\"},\"type\":\"carpet\"}],\"table\":[{\"cells\":{\"fill\":{\"color\":\"#EBF0F8\"},\"line\":{\"color\":\"white\"}},\"header\":{\"fill\":{\"color\":\"#C8D4E3\"},\"line\":{\"color\":\"white\"}},\"type\":\"table\"}],\"barpolar\":[{\"marker\":{\"line\":{\"color\":\"#E5ECF6\",\"width\":0.5},\"pattern\":{\"fillmode\":\"overlay\",\"size\":10,\"solidity\":0.2}},\"type\":\"barpolar\"}],\"pie\":[{\"automargin\":true,\"type\":\"pie\"}]},\"layout\":{\"autotypenumbers\":\"strict\",\"colorway\":[\"#636efa\",\"#EF553B\",\"#00cc96\",\"#ab63fa\",\"#FFA15A\",\"#19d3f3\",\"#FF6692\",\"#B6E880\",\"#FF97FF\",\"#FECB52\"],\"font\":{\"color\":\"#2a3f5f\"},\"hovermode\":\"closest\",\"hoverlabel\":{\"align\":\"left\"},\"paper_bgcolor\":\"white\",\"plot_bgcolor\":\"#E5ECF6\",\"polar\":{\"bgcolor\":\"#E5ECF6\",\"angularaxis\":{\"gridcolor\":\"white\",\"linecolor\":\"white\",\"ticks\":\"\"},\"radialaxis\":{\"gridcolor\":\"white\",\"linecolor\":\"white\",\"ticks\":\"\"}},\"ternary\":{\"bgcolor\":\"#E5ECF6\",\"aaxis\":{\"gridcolor\":\"white\",\"linecolor\":\"white\",\"ticks\":\"\"},\"baxis\":{\"gridcolor\":\"white\",\"linecolor\":\"white\",\"ticks\":\"\"},\"caxis\":{\"gridcolor\":\"white\",\"linecolor\":\"white\",\"ticks\":\"\"}},\"coloraxis\":{\"colorbar\":{\"outlinewidth\":0,\"ticks\":\"\"}},\"colorscale\":{\"sequential\":[[0.0,\"#0d0887\"],[0.1111111111111111,\"#46039f\"],[0.2222222222222222,\"#7201a8\"],[0.3333333333333333,\"#9c179e\"],[0.4444444444444444,\"#bd3786\"],[0.5555555555555556,\"#d8576b\"],[0.6666666666666666,\"#ed7953\"],[0.7777777777777778,\"#fb9f3a\"],[0.8888888888888888,\"#fdca26\"],[1.0,\"#f0f921\"]],\"sequentialminus\":[[0.0,\"#0d0887\"],[0.1111111111111111,\"#46039f\"],[0.2222222222222222,\"#7201a8\"],[0.3333333333333333,\"#9c179e\"],[0.4444444444444444,\"#bd3786\"],[0.5555555555555556,\"#d8576b\"],[0.6666666666666666,\"#ed7953\"],[0.7777777777777778,\"#fb9f3a\"],[0.8888888888888888,\"#fdca26\"],[1.0,\"#f0f921\"]],\"diverging\":[[0,\"#8e0152\"],[0.1,\"#c51b7d\"],[0.2,\"#de77ae\"],[0.3,\"#f1b6da\"],[0.4,\"#fde0ef\"],[0.5,\"#f7f7f7\"],[0.6,\"#e6f5d0\"],[0.7,\"#b8e186\"],[0.8,\"#7fbc41\"],[0.9,\"#4d9221\"],[1,\"#276419\"]]},\"xaxis\":{\"gridcolor\":\"white\",\"linecolor\":\"white\",\"ticks\":\"\",\"title\":{\"standoff\":15},\"zerolinecolor\":\"white\",\"automargin\":true,\"zerolinewidth\":2},\"yaxis\":{\"gridcolor\":\"white\",\"linecolor\":\"white\",\"ticks\":\"\",\"title\":{\"standoff\":15},\"zerolinecolor\":\"white\",\"automargin\":true,\"zerolinewidth\":2},\"scene\":{\"xaxis\":{\"backgroundcolor\":\"#E5ECF6\",\"gridcolor\":\"white\",\"linecolor\":\"white\",\"showbackground\":true,\"ticks\":\"\",\"zerolinecolor\":\"white\",\"gridwidth\":2},\"yaxis\":{\"backgroundcolor\":\"#E5ECF6\",\"gridcolor\":\"white\",\"linecolor\":\"white\",\"showbackground\":true,\"ticks\":\"\",\"zerolinecolor\":\"white\",\"gridwidth\":2},\"zaxis\":{\"backgroundcolor\":\"#E5ECF6\",\"gridcolor\":\"white\",\"linecolor\":\"white\",\"showbackground\":true,\"ticks\":\"\",\"zerolinecolor\":\"white\",\"gridwidth\":2}},\"shapedefaults\":{\"line\":{\"color\":\"#2a3f5f\"}},\"annotationdefaults\":{\"arrowcolor\":\"#2a3f5f\",\"arrowhead\":0,\"arrowwidth\":1},\"geo\":{\"bgcolor\":\"white\",\"landcolor\":\"#E5ECF6\",\"subunitcolor\":\"white\",\"showland\":true,\"showlakes\":true,\"lakecolor\":\"white\"},\"title\":{\"x\":0.05},\"mapbox\":{\"style\":\"light\"}}},\"xaxis\":{\"anchor\":\"y\",\"domain\":[0.0,0.45]},\"yaxis\":{\"anchor\":\"x\",\"domain\":[0.625,1.0]},\"xaxis2\":{\"anchor\":\"y2\",\"domain\":[0.55,1.0]},\"yaxis2\":{\"anchor\":\"x2\",\"domain\":[0.625,1.0]},\"xaxis3\":{\"anchor\":\"y3\",\"domain\":[0.0,0.45]},\"yaxis3\":{\"anchor\":\"x3\",\"domain\":[0.0,0.375]},\"xaxis4\":{\"anchor\":\"y4\",\"domain\":[0.55,1.0]},\"yaxis4\":{\"anchor\":\"x4\",\"domain\":[0.0,0.375]},\"annotations\":[{\"font\":{\"size\":16},\"showarrow\":false,\"text\":\"Position × Contract Tier Efficiency\",\"x\":0.225,\"xanchor\":\"center\",\"xref\":\"paper\",\"y\":1.0,\"yanchor\":\"bottom\",\"yref\":\"paper\"},{\"font\":{\"size\":16},\"showarrow\":false,\"text\":\"Age Group × Salary Efficiency\",\"x\":0.775,\"xanchor\":\"center\",\"xref\":\"paper\",\"y\":1.0,\"yanchor\":\"bottom\",\"yref\":\"paper\"},{\"font\":{\"size\":16},\"showarrow\":false,\"text\":\"Team Overpay Analysis (Top 10)\",\"x\":0.225,\"xanchor\":\"center\",\"xref\":\"paper\",\"y\":0.375,\"yanchor\":\"bottom\",\"yref\":\"paper\"},{\"font\":{\"size\":16},\"showarrow\":false,\"text\":\"Performance Distribution\",\"x\":0.775,\"xanchor\":\"center\",\"xref\":\"paper\",\"y\":0.375,\"yanchor\":\"bottom\",\"yref\":\"paper\"}],\"height\":700,\"title\":{\"text\":\"MARKET EFFICIENCY ANALYSIS (CLEAN)\"},\"showlegend\":false},                        {\"responsive\": true}                    ).then(function(){\n",
       "                            \n",
       "var gd = document.getElementById('d576affa-6675-4260-801d-7e8d07f894d7');\n",
       "var x = new MutationObserver(function (mutations, observer) {{\n",
       "        var display = window.getComputedStyle(gd).display;\n",
       "        if (!display || display === 'none') {{\n",
       "            console.log([gd, 'removed!']);\n",
       "            Plotly.purge(gd);\n",
       "            observer.disconnect();\n",
       "        }}\n",
       "}});\n",
       "\n",
       "// Listen for the removal of the full notebook cells\n",
       "var notebookContainer = gd.closest('#notebook-container');\n",
       "if (notebookContainer) {{\n",
       "    x.observe(notebookContainer, {childList: true});\n",
       "}}\n",
       "\n",
       "// Listen for the clearing of the current output cell\n",
       "var outputEl = gd.closest('.output');\n",
       "if (outputEl) {{\n",
       "    x.observe(outputEl, {childList: true});\n",
       "}}\n",
       "\n",
       "                        })                };                });            </script>        </div>"
      ]
     },
     "metadata": {},
     "output_type": "display_data"
    },
    {
     "name": "stdout",
     "output_type": "stream",
     "text": [
      "   ✅ Market analysis complete\n",
      " EXECUTIVE SUMMARY:\n",
      "   • Market size: $4.5B\n",
      "   • Inefficiency: $1.4B\n",
      "   • Best contract: Kristaps Porziņģis (1.33)\n",
      "   • Worst contract: Cody Williams (-0.17)\n",
      "   • Top team: DAL\n",
      "   • Trade opportunities: 11\n"
     ]
    }
   ],
   "source": [
    "def run_dashboard_PERFECT():\n",
    "    \"\"\"Execute NBA dashboard with PERFECT formatting\"\"\"\n",
    "    \n",
    "    # Load data\n",
    "    df, optimization_results = load_complete_dataset()\n",
    "    \n",
    "    print(f\"\\nANALYSIS SUMMARY:\")\n",
    "    print(f\"   • Players: {len(df)}\")\n",
    "    print(f\"   • Market value: ${df['Salary_Millions'].sum()/1000:.1f}B\")\n",
    "    print(f\"   • Overpay identified: ${df[df['Overpay_Amount'] > 0]['Overpay_Amount'].sum()/1000:.1f}B\")\n",
    "    \n",
    "    \n",
    "    # 1. Perfect Executive Dashboard\n",
    "    print(\"1️⃣ Executive Summary\")\n",
    "    executive_fig = create_executive_dashboard_PERFECT(df)\n",
    "    executive_fig.show()\n",
    "    \n",
    "    # 2. Perfect Team Analysis\n",
    "    print(\"\\n2️⃣ Team Analysis (Color bar on side)...\")\n",
    "    team_fig, team_stats = create_perfect_team_analysis(df)\n",
    "    team_fig.show()\n",
    "    \n",
    "    # 3. Perfect Trade Engine\n",
    "    print(\"\\n3️⃣ Trade Engine\")\n",
    "    trade_fig, trade_scenarios = create_perfect_trade_engine(df)\n",
    "    trade_fig.show()\n",
    "    \n",
    "    # 4. Market Analysis (if working)\n",
    "    print(\"\\n4️⃣ Market Analysis\")\n",
    "    try:\n",
    "        heatmap_fig = create_clean_heatmap(df)\n",
    "        heatmap_fig.show()\n",
    "        print(\"   ✅ Market analysis complete\")\n",
    "    except Exception as e:\n",
    "        print(f\"   ⚠️ Market analysis simplified: {e}\")\n",
    "    \n",
    "    \n",
    "    # Create executive summary properly\n",
    "    established_players = df[\n",
    "        (df['MP'] >= 1000) & (df['Salary_Millions'] >= 5) & (df['PTS'] >= 8)\n",
    "    ]\n",
    "    \n",
    "    if len(established_players) > 0:\n",
    "        best_contract = established_players.loc[established_players['Contract_Efficiency'].idxmax()]\n",
    "        worst_contract = established_players.loc[established_players['Contract_Efficiency'].idxmin()]\n",
    "        \n",
    "        # CREATE the executive_summary that was missing\n",
    "        executive_summary = {\n",
    "            'player_analysis': {\n",
    "                'best_contract': {\n",
    "                    'player': best_contract['Player_Clean'],\n",
    "                    'efficiency': round(best_contract['Contract_Efficiency'], 2),\n",
    "                    'salary_millions': round(best_contract['Salary_Millions'], 1)\n",
    "                },\n",
    "                'worst_contract': {\n",
    "                    'player': worst_contract['Player_Clean'],\n",
    "                    'efficiency': round(worst_contract['Contract_Efficiency'], 2),\n",
    "                    'salary_millions': round(worst_contract['Salary_Millions'], 1)\n",
    "                }\n",
    "            }\n",
    "        }\n",
    "        \n",
    "        print(f\" EXECUTIVE SUMMARY:\")\n",
    "        print(f\"   • Market size: ${df['Salary_Millions'].sum()/1000:.1f}B\")\n",
    "        print(f\"   • Inefficiency: ${df[df['Overpay_Amount'] > 0]['Overpay_Amount'].sum()/1000:.1f}B\")\n",
    "        print(f\"   • Best contract: {best_contract['Player_Clean']} ({best_contract['Contract_Efficiency']:.2f})\")\n",
    "        print(f\"   • Worst contract: {worst_contract['Player_Clean']} ({worst_contract['Contract_Efficiency']:.2f})\")\n",
    "        print(f\"   • Top team: {team_stats.index[0]}\")\n",
    "        print(f\"   • Trade opportunities: {len(trade_scenarios)}\")\n",
    "    \n",
    "    return {\n",
    "        'data': df,\n",
    "        'team_stats': team_stats,\n",
    "        'trade_scenarios': trade_scenarios,\n",
    "        'established_players': established_players,\n",
    "        'executive_summary': executive_summary \n",
    "    }\n",
    "\n",
    "# FINAL EXECUTION\n",
    "if __name__ == \"__main__\":\n",
    "\n",
    "    results = run_dashboard_PERFECT()\n"
   ]
  },
  {
   "cell_type": "markdown",
   "id": "f4001895-7528-4d57-a8b9-acdbed128e87",
   "metadata": {},
   "source": [
    "### Insights and Recommendations"
   ]
  },
  {
   "cell_type": "code",
   "execution_count": null,
   "id": "c0b65d03-b779-4a9a-a8e8-71f2e8547e5c",
   "metadata": {},
   "outputs": [],
   "source": [
    "def generate_executive_insights(df, team_stats, trade_scenarios, roster_strategies):\n",
    "    \"\"\"Generate actionable executive recommendations\"\"\"\n",
    "    \n",
    "    insights = {\n",
    "        'market_opportunity': {},\n",
    "        'immediate_actions': [],\n",
    "        'strategic_recommendations': [],\n",
    "        'risk_assessments': [],\n",
    "        'competitive_advantages': []\n",
    "    }\n",
    "    \n",
    "    # Market opportunity analysis\n",
    "    total_overpay = df[df['Overpay_Amount'] > 0]['Overpay_Amount'].sum()\n",
    "    insights['market_opportunity'] = {\n",
    "        'total_inefficiency': total_overpay,\n",
    "        'realistic_savings': total_overpay * 0.6,\n",
    "        'market_share': total_overpay / df['Salary_Millions'].sum() * 100,\n",
    "        'top_overpaid_positions': df[df['Overpay_Amount'] > 0].groupby('Position_Group')['Overpay_Amount'].sum().nlargest(3).to_dict()\n",
    "    }\n",
    "    \n",
    "    # Immediate action items\n",
    "    if len(trade_scenarios) > 0:\n",
    "        top_trades = trade_scenarios.head(3)\n",
    "        for _, trade in top_trades.iterrows():\n",
    "            insights['immediate_actions'].append({\n",
    "                'action': 'Trade Opportunity',\n",
    "                'description': f\"Trade {trade['Trade_Away']} for {trade['Trade_For']}\",\n",
    "                'financial_impact': f\"${trade['Annual_Savings']:.1f}M annual savings\",\n",
    "                'timeline': 'Next trade deadline',\n",
    "                'risk_level': 'Low' if trade['Overall_Risk'] < 0.2 else 'Medium',\n",
    "                'priority': 'High' if trade['Risk_Adjusted_ROI'] > 2 else 'Medium'\n",
    "            })\n",
    "    \n",
    "    # Free agency targets\n",
    "    efficient_fas = df[\n",
    "        (df['Contract_Efficiency'] > df['Contract_Efficiency'].quantile(0.8)) &\n",
    "        (df['Age'] < 30)\n",
    "    ].head(5)\n",
    "    \n",
    "    for _, player in efficient_fas.iterrows():\n",
    "        insights['immediate_actions'].append({\n",
    "            'action': 'Free Agency Target',\n",
    "            'description': f\"Pursue {player['Player_Clean']} ({player['Pos']})\",\n",
    "            'financial_impact': f\"High efficiency at ${player['Salary_Millions']:.1f}M\",\n",
    "            'timeline': 'Next free agency period',\n",
    "            'risk_level': 'Low',\n",
    "            'priority': 'High'\n",
    "        })\n",
    "    \n",
    "    # Strategic recommendations\n",
    "    insights['strategic_recommendations'] = [\n",
    "        {\n",
    "            'category': 'Roster Construction',\n",
    "            'recommendation': f\"Model after {team_stats.index[0]} team structure\",\n",
    "            'rationale': f\"Highest overall efficiency score ({team_stats['Overall_Score'].iloc[0]:.2f})\",\n",
    "            'implementation': 'Analyze their position allocation and salary distribution'\n",
    "        },\n",
    "        {\n",
    "            'category': 'Contract Strategy',\n",
    "            'recommendation': 'Focus on Guards and Forwards under $15M',\n",
    "            'rationale': 'Highest efficiency found in these categories',\n",
    "            'implementation': 'Prioritize these positions in draft and trades'\n",
    "        },\n",
    "        {\n",
    "            'category': 'Age Management',\n",
    "            'recommendation': 'Target players aged 25-28 for core roster',\n",
    "            'rationale': 'Optimal balance of performance and contract efficiency',\n",
    "            'implementation': 'Avoid long-term deals for players over 30'\n",
    "        }\n",
    "    ]\n",
    "    \n",
    "    return insights"
   ]
  },
  {
   "cell_type": "code",
   "execution_count": null,
   "id": "2746fe99-477b-4db8-9785-87a116930b80",
   "metadata": {},
   "outputs": [],
   "source": [
    "def export_complete_results(df, team_stats, trade_scenarios, roster_strategies, recommendations):\n",
    "    \"\"\"Export all dashboard results for executive use\"\"\"\n",
    "    \n",
    "    import os\n",
    "    os.makedirs('results/dashboard_exports', exist_ok=True)\n",
    "    \n",
    "    # Export main datasets\n",
    "    df.to_csv('results/dashboard_exports/complete_player_analysis.csv', index=False)\n",
    "    team_stats.to_csv('results/dashboard_exports/team_efficiency_complete.csv')\n",
    "    \n",
    "    if len(trade_scenarios) > 0:\n",
    "        trade_scenarios.to_csv('results/dashboard_exports/trade_recommendations_advanced.csv', index=False)\n",
    "    \n",
    "    # Export roster strategies\n",
    "    for strategy, data in roster_strategies.items():\n",
    "        if len(data['roster']) > 0:\n",
    "            data['roster'].to_csv(f'results/dashboard_exports/optimal_roster_{strategy}.csv', index=False)\n",
    "    \n",
    "    # Export executive summary\n",
    "    executive_summary = {\n",
    "        'dashboard_generated': datetime.now().isoformat(),\n",
    "        'total_players_analyzed': len(df),\n",
    "        'market_metrics': {\n",
    "            'total_value': float(df['Salary_Millions'].sum()),\n",
    "            'total_inefficiency': float(df[df['Overpay_Amount'] > 0]['Overpay_Amount'].sum()),\n",
    "            'average_efficiency': float(df['Contract_Efficiency'].mean()),\n",
    "            'potential_savings': float(df[df['Overpay_Amount'] > 0]['Overpay_Amount'].sum() * 0.6)\n",
    "        },\n",
    "        'top_insights': {\n",
    "            'most_efficient_team': team_stats.index[0],\n",
    "            'best_contract': df.loc[df['Contract_Efficiency'].idxmax()]['Player_Clean'],\n",
    "            'worst_contract': df.loc[df['Contract_Efficiency'].idxmin()]['Player_Clean'],\n",
    "            'best_trade_opportunity': trade_scenarios.iloc[0]['Trade_Away'] if len(trade_scenarios) > 0 else 'None available'\n",
    "        },\n",
    "        'recommendations': recommendations\n",
    "    }\n",
    "    \n",
    "    with open('results/dashboard_exports/executive_summary_complete.json', 'w') as f:\n",
    "        json.dump(executive_summary, f, indent=2, default=str)\n",
    "    \n",
    "    print(\"Complete dashboard results exported:\")\n",
    "    print(\"   • complete_player_analysis.csv\")\n",
    "    print(\"   • team_efficiency_complete.csv\") \n",
    "    print(\"   • trade_recommendations_advanced.csv\")\n",
    "    print(\"   • optimal_roster_[strategy].csv files\")\n",
    "    print(\"   • executive_summary_complete.json\")\n"
   ]
  }
 ],
 "metadata": {
  "kernelspec": {
   "display_name": "Python 3 (ipykernel)",
   "language": "python",
   "name": "python3"
  },
  "language_info": {
   "codemirror_mode": {
    "name": "ipython",
    "version": 3
   },
   "file_extension": ".py",
   "mimetype": "text/x-python",
   "name": "python",
   "nbconvert_exporter": "python",
   "pygments_lexer": "ipython3",
   "version": "3.11.5"
  }
 },
 "nbformat": 4,
 "nbformat_minor": 5
}
