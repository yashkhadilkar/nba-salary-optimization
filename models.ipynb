{
 "cells": [
  {
   "cell_type": "code",
   "execution_count": 1,
   "id": "b2eaea91-7987-4b02-9ecb-1ee9b5537b00",
   "metadata": {},
   "outputs": [],
   "source": [
    "import pandas as pd\n",
    "import numpy as np\n",
    "from sklearn.model_selection import train_test_split, cross_val_score, GridSearchCV\n",
    "from sklearn.ensemble import RandomForestRegressor, GradientBoostingRegressor, RandomForestClassifier\n",
    "from sklearn.linear_model import LinearRegression, Ridge, Lasso, ElasticNet\n",
    "from sklearn.preprocessing import StandardScaler, RobustScaler\n",
    "from sklearn.metrics import mean_squared_error, r2_score, mean_absolute_error, classification_report, accuracy_score\n",
    "import matplotlib.pyplot as plt\n",
    "import seaborn as sns\n",
    "import warnings\n",
    "import joblib\n",
    "import os\n",
    "warnings.filterwarnings('ignore')"
   ]
  },
  {
   "cell_type": "code",
   "execution_count": 2,
   "id": "1062cd25-167a-4978-bc9b-0cc609444e5c",
   "metadata": {},
   "outputs": [],
   "source": [
    "master_data = pd.read_csv('data/processed/master_nba_data.csv')"
   ]
  },
  {
   "cell_type": "code",
   "execution_count": 3,
   "id": "e13a0036-9726-4ae6-beae-c94c5cb96239",
   "metadata": {},
   "outputs": [],
   "source": [
    "modeling_data = master_data[master_data['Has_Salary_Data'] == True].copy()"
   ]
  },
  {
   "cell_type": "code",
   "execution_count": 4,
   "id": "f119f3dd-c927-41a9-ba77-da36a8178f46",
   "metadata": {},
   "outputs": [
    {
     "name": "stdout",
     "output_type": "stream",
     "text": [
      "Total dataset: 3,360 player-seasons\n",
      "Modeling dataset: 219 player-seasons with salary data\n"
     ]
    }
   ],
   "source": [
    "print(f\"Total dataset: {len(master_data):,} player-seasons\")\n",
    "print(f\"Modeling dataset: {len(modeling_data):,} player-seasons with salary data\")"
   ]
  },
  {
   "cell_type": "code",
   "execution_count": 9,
   "id": "f35d9099-4971-42f1-b4e5-a051f0a0c44e",
   "metadata": {},
   "outputs": [
    {
     "name": "stdout",
     "output_type": "stream",
     "text": [
      "\n",
      "Available columns (69):\n",
      "\n",
      "2P                  2P%                 2PA                 3P                  \n",
      "3P%                 3PA                 3PAr                APG                 \n",
      "AST                 AST%                Age                 Awards              \n",
      "BLK                 BLK%                BPM                 Career_Stage        \n",
      "Current_Salary      DBPM                DRB                 DRB%                \n",
      "DWS                 FG                  FG%                 FGA                 \n",
      "FT                  FT%                 FTA                 FTr                 \n",
      "G                   GS                  Has_Salary_Data     MP                  \n",
      "MPG                 OBPM                ORB                 ORB%                \n",
      "OWS                 PER                 PF                  PPG                 \n",
      "PTS                 Player              Player_Clean        Points_Per_Million  \n",
      "Pos                 RPG                 Reliable_Advanced_StatsRk                  \n",
      "STL                 STL%                Salary_Millions     Salary_Tier         \n",
      "Season              Significant_Player  TOV                 TOV%                \n",
      "TRB                 TRB%                TS%                 Team                \n",
      "Team_Clean          Trp-Dbl             USG%                VORP                \n",
      "VORP_Per_Million    WS                  WS/48               WinShares_Per_Million\n",
      "eFG%                \n"
     ]
    }
   ],
   "source": [
    "print(f\"\\nAvailable columns ({len(master_data.columns)}):\")\n",
    "for i, col in enumerate(sorted(master_data.columns)):\n",
    "    if i % 4 == 0:\n",
    "        print()\n",
    "    print(f\"{col:<20}\", end=\"\")\n",
    "print()"
   ]
  },
  {
   "cell_type": "code",
   "execution_count": 11,
   "id": "31473ece-bb6c-453f-9e2a-ab675c4d086b",
   "metadata": {},
   "outputs": [],
   "source": [
    "existing_performance_features = []\n",
    "potential_features = ['PTS', 'TRB', 'AST', 'FG%', '3P%', 'FT%', 'PER', 'TS%', 'USG%', 'BPM', 'VORP', 'WS']\n",
    "for feature in potential_features:\n",
    "    if feature in master_data.columns:\n",
    "        existing_performance_features.append(feature)"
   ]
  },
  {
   "cell_type": "code",
   "execution_count": 13,
   "id": "a4cf870b-0936-4846-b898-88c907bc9553",
   "metadata": {},
   "outputs": [],
   "source": [
    "existing_advanced_features = []\n",
    "potential_advanced = ['MPG', 'PPG', 'RPG', 'APG', 'ORB%', 'DRB%', 'AST%', 'STL%', 'BLK%', 'TOV%']\n",
    "for feature in potential_advanced:\n",
    "    if feature in master_data.columns:\n",
    "        existing_advanced_features.append(feature)"
   ]
  },
  {
   "cell_type": "code",
   "execution_count": 15,
   "id": "9bebef46-0e48-442a-a51f-1c8435f473bb",
   "metadata": {},
   "outputs": [],
   "source": [
    "existing_contextual_features = []\n",
    "potential_contextual = ['Age', 'G', 'GS', 'MP']\n",
    "for feature in potential_contextual:\n",
    "    if feature in master_data.columns:\n",
    "        existing_contextual_features.append(feature)"
   ]
  },
  {
   "cell_type": "code",
   "execution_count": 17,
   "id": "c18175c9-cf1a-4e5d-a866-0e08cbabb5bb",
   "metadata": {},
   "outputs": [
    {
     "name": "stdout",
     "output_type": "stream",
     "text": [
      "\n",
      "Existing performance features: ['PTS', 'TRB', 'AST', 'FG%', '3P%', 'FT%', 'PER', 'TS%', 'USG%', 'BPM', 'VORP', 'WS']\n",
      "Existing advanced features: ['MPG', 'PPG', 'RPG', 'APG', 'ORB%', 'DRB%', 'AST%', 'STL%', 'BLK%', 'TOV%']\n",
      "Existing contextual features: ['Age', 'G', 'GS', 'MP']\n"
     ]
    }
   ],
   "source": [
    "print(f\"\\nExisting performance features: {existing_performance_features}\")\n",
    "print(f\"Existing advanced features: {existing_advanced_features}\")\n",
    "print(f\"Existing contextual features: {existing_contextual_features}\")"
   ]
  },
  {
   "cell_type": "code",
   "execution_count": 19,
   "id": "e46b7f26-133e-4c4c-a351-c0a53223136a",
   "metadata": {},
   "outputs": [
    {
     "name": "stdout",
     "output_type": "stream",
     "text": [
      "Position dummies created: ['Pos_C', 'Pos_PF', 'Pos_PG', 'Pos_SF', 'Pos_SG']\n"
     ]
    }
   ],
   "source": [
    "if 'Pos' in modeling_data.columns:\n",
    "    position_dummies = pd.get_dummies(modeling_data['Pos'], prefix='Pos')\n",
    "    print(f\"Position dummies created: {list(position_dummies.columns)}\")\n",
    "else:\n",
    "    position_dummies = pd.DataFrame()\n",
    "    print(\"No position data available\")"
   ]
  },
  {
   "cell_type": "code",
   "execution_count": 21,
   "id": "8be2f23b-191e-4279-9d5e-c2070dab1c06",
   "metadata": {},
   "outputs": [
    {
     "name": "stdout",
     "output_type": "stream",
     "text": [
      "Top teams identified: 15 teams\n"
     ]
    }
   ],
   "source": [
    "if 'Team_Clean' in modeling_data.columns:\n",
    "    top_teams = modeling_data['Team_Clean'].value_counts().head(15).index\n",
    "    modeling_data['Top_Team'] = modeling_data['Team_Clean'].isin(top_teams)\n",
    "    print(f\"Top teams identified: {len(top_teams)} teams\")\n",
    "else:\n",
    "    modeling_data['Top_Team'] = False"
   ]
  },
  {
   "cell_type": "code",
   "execution_count": 23,
   "id": "422d3186-a62b-49cc-82bf-a214c47836fe",
   "metadata": {},
   "outputs": [
    {
     "name": "stdout",
     "output_type": "stream",
     "text": [
      "   Experience: years since 2020\n"
     ]
    }
   ],
   "source": [
    "min_season = master_data['Season'].min()\n",
    "modeling_data['Experience'] = modeling_data['Season'] - min_season\n",
    "print(f\"   Experience: years since {min_season}\")"
   ]
  },
  {
   "cell_type": "code",
   "execution_count": 25,
   "id": "53bef380-2e03-4fe7-b95a-8827d0f6e001",
   "metadata": {},
   "outputs": [
    {
     "name": "stdout",
     "output_type": "stream",
     "text": [
      "   Age_Squared: created\n"
     ]
    }
   ],
   "source": [
    "if 'Age' in modeling_data.columns:\n",
    "    modeling_data['Age_Squared'] = modeling_data['Age'] ** 2\n",
    "    print(\"   Age_Squared: created\")\n",
    "else:\n",
    "    modeling_data['Age_Squared'] = 0"
   ]
  },
  {
   "cell_type": "code",
   "execution_count": 27,
   "id": "c04afcee-0516-4c12-8e58-2b3e693818b6",
   "metadata": {},
   "outputs": [
    {
     "name": "stdout",
     "output_type": "stream",
     "text": [
      "   PTS_per_MP: created\n"
     ]
    }
   ],
   "source": [
    "if 'PTS' in modeling_data.columns and 'MP' in modeling_data.columns:\n",
    "    modeling_data['PTS_per_MP'] = modeling_data['PTS'] / modeling_data['MP'].clip(lower=1)\n",
    "    print(\"   PTS_per_MP: created\")\n",
    "else:\n",
    "    modeling_data['PTS_per_MP'] = 0"
   ]
  },
  {
   "cell_type": "code",
   "execution_count": 29,
   "id": "0c9fce97-7d6f-4fc6-b599-52644e2105b9",
   "metadata": {},
   "outputs": [],
   "source": [
    "# Efficiency score using available metrics\n",
    "efficiency_components = []\n",
    "weights = []"
   ]
  },
  {
   "cell_type": "code",
   "execution_count": 31,
   "id": "a0599734-ae86-44a3-85cb-79f1ebd70748",
   "metadata": {},
   "outputs": [],
   "source": [
    "if 'PER' in modeling_data.columns:\n",
    "    efficiency_components.append(modeling_data['PER'].fillna(15))  # 15 is league average PER\n",
    "    weights.append(0.3)\n",
    "\n",
    "if 'BPM' in modeling_data.columns:\n",
    "    efficiency_components.append(modeling_data['BPM'].fillna(0))  # 0 is league average BPM\n",
    "    weights.append(0.3)\n",
    "\n",
    "if 'VORP' in modeling_data.columns:\n",
    "    efficiency_components.append(modeling_data['VORP'].fillna(0))  # 0 is replacement level\n",
    "    weights.append(0.4)"
   ]
  },
  {
   "cell_type": "code",
   "execution_count": 33,
   "id": "5bf767ce-e1ed-47e0-9957-16bc9bc1ac60",
   "metadata": {},
   "outputs": [
    {
     "name": "stdout",
     "output_type": "stream",
     "text": [
      "   Efficiency_Score: created using 3 components\n"
     ]
    }
   ],
   "source": [
    "if efficiency_components:\n",
    "    weights = np.array(weights) / sum(weights)\n",
    "    modeling_data['Efficiency_Score'] = sum(w * comp for w, comp in zip(weights, efficiency_components))\n",
    "    print(f\"   Efficiency_Score: created using {len(efficiency_components)} components\")\n",
    "else:\n",
    "    modeling_data['Efficiency_Score'] = 0\n",
    "    print(\"   Efficiency_Score: using fallback (no advanced metrics)\")"
   ]
  },
  {
   "cell_type": "code",
   "execution_count": 35,
   "id": "b6911dec-a716-4c71-93fd-8d476d577a74",
   "metadata": {},
   "outputs": [],
   "source": [
    "feature_columns = (existing_performance_features + existing_advanced_features + \n",
    "                  existing_contextual_features + ['Experience', 'Age_Squared', \n",
    "                  'PTS_per_MP', 'Efficiency_Score', 'Top_Team'])"
   ]
  },
  {
   "cell_type": "code",
   "execution_count": 37,
   "id": "1f752f62-ea2f-4477-843e-11ae35eb1139",
   "metadata": {},
   "outputs": [],
   "source": [
    "for col in feature_columns:\n",
    "    if col in modeling_data.columns:\n",
    "        before_na = modeling_data[col].isna().sum()\n",
    "        modeling_data[col] = modeling_data[col].fillna(modeling_data[col].median())\n",
    "        after_na = modeling_data[col].isna().sum()\n",
    "        if before_na > 0:\n",
    "            print(f\"   {col}: filled {before_na} missing values\")"
   ]
  },
  {
   "cell_type": "code",
   "execution_count": 39,
   "id": "4525ab68-5e8a-43c1-990d-16c662c68b30",
   "metadata": {},
   "outputs": [],
   "source": [
    "master_data['Experience'] = master_data['Season'] - min_season\n",
    "\n",
    "if 'Age' in master_data.columns:\n",
    "    master_data['Age_Squared'] = master_data['Age'] ** 2\n",
    "else:\n",
    "    master_data['Age_Squared'] = 0\n",
    "\n",
    "if 'PTS' in master_data.columns and 'MP' in master_data.columns:\n",
    "    master_data['PTS_per_MP'] = master_data['PTS'] / master_data['MP'].clip(lower=1)\n",
    "else:\n",
    "    master_data['PTS_per_MP'] = 0"
   ]
  },
  {
   "cell_type": "code",
   "execution_count": 41,
   "id": "8b4d0a40-8cbe-4a91-92ba-171bde15b34e",
   "metadata": {},
   "outputs": [],
   "source": [
    "efficiency_components_all = []\n",
    "if 'PER' in master_data.columns:\n",
    "    efficiency_components_all.append(master_data['PER'].fillna(15) * 0.3)\n",
    "if 'BPM' in master_data.columns:\n",
    "    efficiency_components_all.append(master_data['BPM'].fillna(0) * 0.3)\n",
    "if 'VORP' in master_data.columns:\n",
    "    efficiency_components_all.append(master_data['VORP'].fillna(0) * 0.4)"
   ]
  },
  {
   "cell_type": "code",
   "execution_count": 43,
   "id": "4f70d112-833b-4a3e-b310-ffe9e7e55e0c",
   "metadata": {},
   "outputs": [],
   "source": [
    "if efficiency_components_all:\n",
    "    master_data['Efficiency_Score'] = sum(efficiency_components_all)\n",
    "else:\n",
    "    master_data['Efficiency_Score'] = 0"
   ]
  },
  {
   "cell_type": "code",
   "execution_count": 45,
   "id": "55d21188-557c-4c13-941d-997665c4f8a8",
   "metadata": {},
   "outputs": [],
   "source": [
    "if 'Team_Clean' in master_data.columns:\n",
    "    master_data['Top_Team'] = master_data['Team_Clean'].isin(top_teams)\n",
    "else:\n",
    "    master_data['Top_Team'] = False"
   ]
  },
  {
   "cell_type": "code",
   "execution_count": 47,
   "id": "6f7d56b1-f247-4ac5-8a65-58cf3a3ca95b",
   "metadata": {},
   "outputs": [
    {
     "name": "stdout",
     "output_type": "stream",
     "text": [
      "Total features for modeling: 31\n",
      "Features: ['PTS', 'TRB', 'AST', 'FG%', '3P%', 'FT%', 'PER', 'TS%', 'USG%', 'BPM', 'VORP', 'WS', 'MPG', 'PPG', 'RPG', 'APG', 'ORB%', 'DRB%', 'AST%', 'STL%', 'BLK%', 'TOV%', 'Age', 'G', 'GS', 'MP', 'Experience', 'Age_Squared', 'PTS_per_MP', 'Efficiency_Score', 'Top_Team']\n"
     ]
    }
   ],
   "source": [
    "print(f\"Total features for modeling: {len(feature_columns)}\")\n",
    "print(f\"Features: {feature_columns}\")"
   ]
  },
  {
   "cell_type": "code",
   "execution_count": 49,
   "id": "d981ac2a-38c1-45ed-868d-6764d33e58a1",
   "metadata": {},
   "outputs": [
    {
     "name": "stdout",
     "output_type": "stream",
     "text": [
      "\n",
      " All 31 features successfully created\n"
     ]
    }
   ],
   "source": [
    "missing_features = [col for col in feature_columns if col not in modeling_data.columns]\n",
    "if missing_features:\n",
    "    print(f\"\\nWARNING: Still missing features: {missing_features}\")\n",
    "else:\n",
    "    print(f\"\\n All {len(feature_columns)} features successfully created\")"
   ]
  },
  {
   "cell_type": "markdown",
   "id": "ec694549-cd8f-4b0d-a100-b5b8d1544678",
   "metadata": {},
   "source": [
    "### Model 1 - Salary Prediction"
   ]
  },
  {
   "cell_type": "code",
   "execution_count": 52,
   "id": "02c9f04e-7d22-4288-b839-a0dc324e93a7",
   "metadata": {},
   "outputs": [],
   "source": [
    "X = modeling_data[feature_columns].copy()\n",
    "y = modeling_data['Current_Salary'].copy()"
   ]
  },
  {
   "cell_type": "code",
   "execution_count": 54,
   "id": "679fe45b-9058-4280-8255-def15159ef3b",
   "metadata": {},
   "outputs": [],
   "source": [
    "X = pd.concat([X, position_dummies], axis=1)"
   ]
  },
  {
   "cell_type": "code",
   "execution_count": 56,
   "id": "4f36e4f4-2424-42b1-9193-3d3bc32d433a",
   "metadata": {},
   "outputs": [],
   "source": [
    "X_train, X_test, y_train, y_test = train_test_split(\n",
    "    X, y, test_size=0.2, random_state=42, stratify=None\n",
    ")"
   ]
  },
  {
   "cell_type": "code",
   "execution_count": 58,
   "id": "82a9053b-6d0b-4586-b68d-53faddf102b5",
   "metadata": {},
   "outputs": [
    {
     "name": "stdout",
     "output_type": "stream",
     "text": [
      "Training set: 175 players\n",
      "Test set: 44 players\n"
     ]
    }
   ],
   "source": [
    "print(f\"Training set: {len(X_train)} players\")\n",
    "print(f\"Test set: {len(X_test)} players\")"
   ]
  },
  {
   "cell_type": "code",
   "execution_count": 60,
   "id": "49957675-85da-4f62-b54d-97215cd7a5d0",
   "metadata": {},
   "outputs": [],
   "source": [
    "# Scale features\n",
    "scaler = RobustScaler()\n",
    "X_train_scaled = scaler.fit_transform(X_train)\n",
    "X_test_scaled = scaler.transform(X_test)"
   ]
  },
  {
   "cell_type": "code",
   "execution_count": 62,
   "id": "1f973fe2-a7d3-4fd9-a094-2bc03220e9d9",
   "metadata": {},
   "outputs": [],
   "source": [
    "# Train Multiple Models\n",
    "models = {\n",
    "    'Linear Regression': LinearRegression(),\n",
    "    'Ridge Regression': Ridge(alpha=1.0),\n",
    "    'Lasso Regression': Lasso(alpha=1.0),\n",
    "    'Random Forest': RandomForestRegressor(n_estimators=100, random_state=42),\n",
    "    'Gradient Boosting': GradientBoostingRegressor(n_estimators=100, random_state=42)\n",
    "}"
   ]
  },
  {
   "cell_type": "code",
   "execution_count": 64,
   "id": "a55d99e5-d738-46a3-aa50-c1b9f20513fd",
   "metadata": {},
   "outputs": [],
   "source": [
    "model_results = {}"
   ]
  },
  {
   "cell_type": "code",
   "execution_count": 66,
   "id": "91be9c3c-4c0e-4d67-8d42-971fc2a02006",
   "metadata": {},
   "outputs": [
    {
     "name": "stdout",
     "output_type": "stream",
     "text": [
      "\n",
      "Training Linear Regression...\n",
      "R² Score: 0.716\n",
      "RMSE: $8.78M\n",
      "MAE: $5.73M\n",
      "\n",
      "Training Ridge Regression...\n",
      "R² Score: 0.736\n",
      "RMSE: $8.48M\n",
      "MAE: $6.12M\n",
      "\n",
      "Training Lasso Regression...\n",
      "R² Score: 0.718\n",
      "RMSE: $8.75M\n",
      "MAE: $5.71M\n",
      "\n",
      "Training Random Forest...\n",
      "R² Score: 0.827\n",
      "RMSE: $6.85M\n",
      "MAE: $5.03M\n",
      "\n",
      "Training Gradient Boosting...\n",
      "R² Score: 0.750\n",
      "RMSE: $8.24M\n",
      "MAE: $5.93M\n"
     ]
    }
   ],
   "source": [
    "for name, model in models.items():\n",
    "    print(f\"\\nTraining {name}...\")\n",
    "    \n",
    "    if 'Regression' in name:\n",
    "        model.fit(X_train_scaled, y_train)\n",
    "        y_pred = model.predict(X_test_scaled)\n",
    "    else:\n",
    "        model.fit(X_train, y_train)\n",
    "        y_pred = model.predict(X_test)\n",
    "\n",
    "    r2 = r2_score(y_test, y_pred)\n",
    "    mse = mean_squared_error(y_test, y_pred)\n",
    "    mae = mean_absolute_error(y_test, y_pred)\n",
    "    \n",
    "    model_results[name] = {\n",
    "        'model': model,\n",
    "        'r2': r2,\n",
    "        'rmse': np.sqrt(mse),\n",
    "        'mae': mae,\n",
    "        'predictions': y_pred\n",
    "    }\n",
    "    \n",
    "    print(f\"R² Score: {r2:.3f}\")\n",
    "    print(f\"RMSE: ${np.sqrt(mse)/1000000:.2f}M\")\n",
    "    print(f\"MAE: ${mae/1000000:.2f}M\")"
   ]
  },
  {
   "cell_type": "code",
   "execution_count": 68,
   "id": "15561aab-a2da-4581-bfb3-4693c3f473ba",
   "metadata": {},
   "outputs": [],
   "source": [
    "best_model_name = max(model_results.keys(), key=lambda x: model_results[x]['r2'])\n",
    "best_model = model_results[best_model_name]"
   ]
  },
  {
   "cell_type": "code",
   "execution_count": 70,
   "id": "f25f23c8-e509-4328-87d9-1e5a11d7bbfb",
   "metadata": {},
   "outputs": [
    {
     "name": "stdout",
     "output_type": "stream",
     "text": [
      "\n",
      "Best Model: Random Forest\n",
      "R² Score: 0.827\n",
      "RMSE: $6.85M\n"
     ]
    }
   ],
   "source": [
    "print(f\"\\nBest Model: {best_model_name}\")\n",
    "print(f\"R² Score: {best_model['r2']:.3f}\")\n",
    "print(f\"RMSE: ${best_model['rmse']/1000000:.2f}M\")"
   ]
  },
  {
   "cell_type": "markdown",
   "id": "fa3740d5-a585-4c4e-9155-cbf51763661e",
   "metadata": {},
   "source": [
    "### Model 2 - Player Value Estimation"
   ]
  },
  {
   "cell_type": "code",
   "execution_count": 73,
   "id": "6e3d2803-e8f2-4211-aa74-b1bcf0ec3c73",
   "metadata": {},
   "outputs": [],
   "source": [
    "def classify_career_stage(age):\n",
    "    if pd.isna(age):\n",
    "        return 'Unknown'\n",
    "    if age <= 23:\n",
    "        return 'Rookie/Young'\n",
    "    elif age <= 27:\n",
    "        return 'Developing' \n",
    "    elif age <= 30:\n",
    "        return 'Prime'\n",
    "    elif age <= 34:\n",
    "        return 'Veteran'\n",
    "    else:\n",
    "        return 'Late Career'"
   ]
  },
  {
   "cell_type": "code",
   "execution_count": 75,
   "id": "90a15249-b19d-4575-acb2-859e61b5587e",
   "metadata": {},
   "outputs": [],
   "source": [
    "modeling_data['Age_Group'] = modeling_data['Age'].apply(classify_career_stage)"
   ]
  },
  {
   "cell_type": "code",
   "execution_count": 77,
   "id": "05bacad6-9eae-425f-b3a5-e70f891c086e",
   "metadata": {},
   "outputs": [],
   "source": [
    "position_age_performance = modeling_data.groupby(['Pos', 'Age_Group'])['Efficiency_Score'].transform('median')\n",
    "modeling_data['Performance_vs_Peers'] = modeling_data['Efficiency_Score'] / position_age_performance"
   ]
  },
  {
   "cell_type": "code",
   "execution_count": 79,
   "id": "96610d35-6ae3-4a75-adf8-539214759d5d",
   "metadata": {},
   "outputs": [],
   "source": [
    "modeling_data['Value_Score'] = (\n",
    "    modeling_data['Performance_vs_Peers'] * 0.6 +\n",
    "    modeling_data['Points_Per_Million'].fillna(0) * 0.0001 * 0.4\n",
    ")"
   ]
  },
  {
   "cell_type": "code",
   "execution_count": 81,
   "id": "ef0091ba-10fb-49b7-aa46-409baefa7e5a",
   "metadata": {},
   "outputs": [],
   "source": [
    "# Train value estimation model\n",
    "X_value = modeling_data[feature_columns + ['Performance_vs_Peers']].copy()\n",
    "X_value = pd.concat([X_value, position_dummies], axis=1)\n",
    "y_value = modeling_data['Value_Score'].copy()\n",
    "\n",
    "X_val_train, X_val_test, y_val_train, y_val_test = train_test_split(\n",
    "    X_value, y_value, test_size=0.2, random_state=42\n",
    ")"
   ]
  },
  {
   "cell_type": "code",
   "execution_count": 83,
   "id": "b36dae7a-af0c-4caa-819b-91c82f234182",
   "metadata": {},
   "outputs": [
    {
     "data": {
      "text/html": [
       "<style>#sk-container-id-1 {color: black;}#sk-container-id-1 pre{padding: 0;}#sk-container-id-1 div.sk-toggleable {background-color: white;}#sk-container-id-1 label.sk-toggleable__label {cursor: pointer;display: block;width: 100%;margin-bottom: 0;padding: 0.3em;box-sizing: border-box;text-align: center;}#sk-container-id-1 label.sk-toggleable__label-arrow:before {content: \"▸\";float: left;margin-right: 0.25em;color: #696969;}#sk-container-id-1 label.sk-toggleable__label-arrow:hover:before {color: black;}#sk-container-id-1 div.sk-estimator:hover label.sk-toggleable__label-arrow:before {color: black;}#sk-container-id-1 div.sk-toggleable__content {max-height: 0;max-width: 0;overflow: hidden;text-align: left;background-color: #f0f8ff;}#sk-container-id-1 div.sk-toggleable__content pre {margin: 0.2em;color: black;border-radius: 0.25em;background-color: #f0f8ff;}#sk-container-id-1 input.sk-toggleable__control:checked~div.sk-toggleable__content {max-height: 200px;max-width: 100%;overflow: auto;}#sk-container-id-1 input.sk-toggleable__control:checked~label.sk-toggleable__label-arrow:before {content: \"▾\";}#sk-container-id-1 div.sk-estimator input.sk-toggleable__control:checked~label.sk-toggleable__label {background-color: #d4ebff;}#sk-container-id-1 div.sk-label input.sk-toggleable__control:checked~label.sk-toggleable__label {background-color: #d4ebff;}#sk-container-id-1 input.sk-hidden--visually {border: 0;clip: rect(1px 1px 1px 1px);clip: rect(1px, 1px, 1px, 1px);height: 1px;margin: -1px;overflow: hidden;padding: 0;position: absolute;width: 1px;}#sk-container-id-1 div.sk-estimator {font-family: monospace;background-color: #f0f8ff;border: 1px dotted black;border-radius: 0.25em;box-sizing: border-box;margin-bottom: 0.5em;}#sk-container-id-1 div.sk-estimator:hover {background-color: #d4ebff;}#sk-container-id-1 div.sk-parallel-item::after {content: \"\";width: 100%;border-bottom: 1px solid gray;flex-grow: 1;}#sk-container-id-1 div.sk-label:hover label.sk-toggleable__label {background-color: #d4ebff;}#sk-container-id-1 div.sk-serial::before {content: \"\";position: absolute;border-left: 1px solid gray;box-sizing: border-box;top: 0;bottom: 0;left: 50%;z-index: 0;}#sk-container-id-1 div.sk-serial {display: flex;flex-direction: column;align-items: center;background-color: white;padding-right: 0.2em;padding-left: 0.2em;position: relative;}#sk-container-id-1 div.sk-item {position: relative;z-index: 1;}#sk-container-id-1 div.sk-parallel {display: flex;align-items: stretch;justify-content: center;background-color: white;position: relative;}#sk-container-id-1 div.sk-item::before, #sk-container-id-1 div.sk-parallel-item::before {content: \"\";position: absolute;border-left: 1px solid gray;box-sizing: border-box;top: 0;bottom: 0;left: 50%;z-index: -1;}#sk-container-id-1 div.sk-parallel-item {display: flex;flex-direction: column;z-index: 1;position: relative;background-color: white;}#sk-container-id-1 div.sk-parallel-item:first-child::after {align-self: flex-end;width: 50%;}#sk-container-id-1 div.sk-parallel-item:last-child::after {align-self: flex-start;width: 50%;}#sk-container-id-1 div.sk-parallel-item:only-child::after {width: 0;}#sk-container-id-1 div.sk-dashed-wrapped {border: 1px dashed gray;margin: 0 0.4em 0.5em 0.4em;box-sizing: border-box;padding-bottom: 0.4em;background-color: white;}#sk-container-id-1 div.sk-label label {font-family: monospace;font-weight: bold;display: inline-block;line-height: 1.2em;}#sk-container-id-1 div.sk-label-container {text-align: center;}#sk-container-id-1 div.sk-container {/* jupyter's `normalize.less` sets `[hidden] { display: none; }` but bootstrap.min.css set `[hidden] { display: none !important; }` so we also need the `!important` here to be able to override the default hidden behavior on the sphinx rendered scikit-learn.org. See: https://github.com/scikit-learn/scikit-learn/issues/21755 */display: inline-block !important;position: relative;}#sk-container-id-1 div.sk-text-repr-fallback {display: none;}</style><div id=\"sk-container-id-1\" class=\"sk-top-container\"><div class=\"sk-text-repr-fallback\"><pre>RandomForestRegressor(n_estimators=150, random_state=42)</pre><b>In a Jupyter environment, please rerun this cell to show the HTML representation or trust the notebook. <br />On GitHub, the HTML representation is unable to render, please try loading this page with nbviewer.org.</b></div><div class=\"sk-container\" hidden><div class=\"sk-item\"><div class=\"sk-estimator sk-toggleable\"><input class=\"sk-toggleable__control sk-hidden--visually\" id=\"sk-estimator-id-1\" type=\"checkbox\" checked><label for=\"sk-estimator-id-1\" class=\"sk-toggleable__label sk-toggleable__label-arrow\">RandomForestRegressor</label><div class=\"sk-toggleable__content\"><pre>RandomForestRegressor(n_estimators=150, random_state=42)</pre></div></div></div></div></div>"
      ],
      "text/plain": [
       "RandomForestRegressor(n_estimators=150, random_state=42)"
      ]
     },
     "execution_count": 83,
     "metadata": {},
     "output_type": "execute_result"
    }
   ],
   "source": [
    "value_model = RandomForestRegressor(n_estimators=150, random_state=42)\n",
    "value_model.fit(X_val_train, y_val_train)"
   ]
  },
  {
   "cell_type": "code",
   "execution_count": 85,
   "id": "b90ea63d-9171-4515-bca8-973d3172e8a1",
   "metadata": {},
   "outputs": [],
   "source": [
    "y_val_pred = value_model.predict(X_val_test)\n",
    "value_r2 = r2_score(y_val_test, y_val_pred)"
   ]
  },
  {
   "cell_type": "code",
   "execution_count": 87,
   "id": "149060c5-085b-4eb0-aded-572b7d4afa4e",
   "metadata": {},
   "outputs": [
    {
     "name": "stdout",
     "output_type": "stream",
     "text": [
      "Value Estimation Model R² Score: 0.995\n"
     ]
    }
   ],
   "source": [
    "print(f\"Value Estimation Model R² Score: {value_r2:.3f}\")"
   ]
  },
  {
   "cell_type": "code",
   "execution_count": 89,
   "id": "993b20d7-bf1e-4c12-8a66-c73f2f765e33",
   "metadata": {},
   "outputs": [],
   "source": [
    "required_features = feature_columns"
   ]
  },
  {
   "cell_type": "code",
   "execution_count": 91,
   "id": "369c848b-1ae1-4489-962e-5117d64b9180",
   "metadata": {},
   "outputs": [],
   "source": [
    "for feature in required_features:\n",
    "    if feature not in master_data.columns:\n",
    "        print(f\"Creating missing feature: {feature}\")\n",
    "        if feature == 'Experience':\n",
    "            master_data['Experience'] = master_data['Season'] - master_data['Season'].min()\n",
    "        elif feature == 'Age_Squared':\n",
    "            master_data['Age_Squared'] = master_data['Age'].fillna(25) ** 2\n",
    "        elif feature == 'PTS_per_MP':\n",
    "            master_data['PTS_per_MP'] = master_data['PTS'] / master_data['MP'].clip(lower=1)\n",
    "        elif feature == 'Efficiency_Score':\n",
    "            # Recreate efficiency score\n",
    "            efficiency_components = []\n",
    "            if 'PER' in master_data.columns:\n",
    "                efficiency_components.append(master_data['PER'].fillna(15) * 0.3)\n",
    "            if 'BPM' in master_data.columns:\n",
    "                efficiency_components.append(master_data['BPM'].fillna(0) * 0.3)\n",
    "            if 'VORP' in master_data.columns:\n",
    "                efficiency_components.append(master_data['VORP'].fillna(0) * 0.4)\n",
    "            \n",
    "            if efficiency_components:\n",
    "                master_data['Efficiency_Score'] = sum(efficiency_components)\n",
    "            else:\n",
    "                master_data['Efficiency_Score'] = 0\n",
    "        elif feature == 'Top_Team':\n",
    "            # Use the same top teams identified during modeling\n",
    "            if 'Team_Clean' in master_data.columns:\n",
    "                top_teams = modeling_data['Team_Clean'].value_counts().head(15).index\n",
    "                master_data['Top_Team'] = master_data['Team_Clean'].isin(top_teams)\n",
    "            else:\n",
    "                master_data['Top_Team'] = False"
   ]
  },
  {
   "cell_type": "code",
   "execution_count": 92,
   "id": "e7cdbaa6-4b04-430e-8fcb-18bd739cfe51",
   "metadata": {},
   "outputs": [
    {
     "name": "stdout",
     "output_type": "stream",
     "text": [
      "Available features: 31 of 31\n"
     ]
    }
   ],
   "source": [
    "available_features = [col for col in feature_columns if col in master_data.columns]\n",
    "print(f\"Available features: {len(available_features)} of {len(feature_columns)}\")"
   ]
  },
  {
   "cell_type": "code",
   "execution_count": 93,
   "id": "62680f94-8b53-4e64-84b8-a0273ee79d06",
   "metadata": {},
   "outputs": [],
   "source": [
    "all_features = master_data[available_features].copy()"
   ]
  },
  {
   "cell_type": "code",
   "execution_count": 94,
   "id": "d64c7131-faa0-44bc-a9e4-30625e67c7cb",
   "metadata": {},
   "outputs": [
    {
     "name": "stdout",
     "output_type": "stream",
     "text": [
      "   FG%: filled 6 missing values with 0.451\n",
      "   3P%: filled 6 missing values with 0.343\n",
      "   FT%: filled 6 missing values with 0.78\n",
      "   Age: filled 6 missing values with 24.0\n",
      "   Age_Squared: filled 6 missing values with 576.0\n"
     ]
    }
   ],
   "source": [
    "for col in all_features.columns:\n",
    "    before_na = all_features[col].isna().sum()\n",
    "    if before_na > 0:\n",
    "        if col in modeling_data.columns:\n",
    "            fill_value = modeling_data[col].median()\n",
    "        else:\n",
    "            fill_value = all_features[col].median()\n",
    "\n",
    "        if pd.isna(fill_value):\n",
    "            if col == 'Age':\n",
    "                fill_value = 25\n",
    "            elif col in ['PER']:\n",
    "                fill_value = 15 \n",
    "            elif col in ['BPM', 'VORP']:\n",
    "                fill_value = 0   \n",
    "            else:\n",
    "                fill_value = 0\n",
    "        \n",
    "        all_features[col] = all_features[col].fillna(fill_value)\n",
    "        print(f\"   {col}: filled {before_na} missing values with {fill_value}\")"
   ]
  },
  {
   "cell_type": "code",
   "execution_count": 95,
   "id": "31d8c7c6-34f2-447c-9891-565c1c0e925a",
   "metadata": {},
   "outputs": [],
   "source": [
    "if 'Pos' in master_data.columns:\n",
    "    all_positions = pd.get_dummies(master_data['Pos'], prefix='Pos')\n",
    "    \n",
    "    # Ensure all position columns from modeling exist\n",
    "    for col in position_dummies.columns:\n",
    "        if col not in all_positions.columns:\n",
    "            all_positions[col] = 0\n",
    "            print(f\"   Added missing position column: {col}\")\n",
    "    \n",
    "    # Reorder columns to match modeling data\n",
    "    position_columns = [col for col in position_dummies.columns if col in all_positions.columns]\n",
    "    all_positions = all_positions[position_columns]\n",
    "else:\n",
    "    # Create dummy position dataframe if no position data\n",
    "    all_positions = pd.DataFrame(0, index=master_data.index, columns=position_dummies.columns)\n",
    "    print(\"   No position data - using zeros\")\n"
   ]
  },
  {
   "cell_type": "code",
   "execution_count": 96,
   "id": "01502cf0-e5cc-468f-b6be-8c24ec74eaef",
   "metadata": {},
   "outputs": [],
   "source": [
    "if 'Career_Stage' in master_data.columns:\n",
    "    master_data['Age_Group'] = master_data['Career_Stage']\n",
    "else:\n",
    "    def classify_career_stage(age):\n",
    "        if pd.isna(age):\n",
    "            return 'Unknown'\n",
    "        if age <= 23:\n",
    "            return 'Rookie/Young'\n",
    "        elif age <= 27:\n",
    "            return 'Developing'\n",
    "        elif age <= 30:\n",
    "            return 'Prime'\n",
    "        elif age <= 34:\n",
    "            return 'Veteran'\n",
    "        else:\n",
    "            return 'Late Career'\n",
    "    \n",
    "    master_data['Age_Group'] = master_data['Age'].fillna(25).apply(classify_career_stage)"
   ]
  },
  {
   "cell_type": "code",
   "execution_count": 97,
   "id": "e054b631-0fb5-492b-9a39-854f8c231aa5",
   "metadata": {},
   "outputs": [],
   "source": [
    "if 'Efficiency_Score' not in master_data.columns:\n",
    "    print(\"Creating Efficiency_Score for all players...\")\n",
    "    efficiency_components = []\n",
    "    if 'PER' in master_data.columns:\n",
    "        efficiency_components.append(master_data['PER'].fillna(15) * 0.3)\n",
    "    if 'BPM' in master_data.columns:\n",
    "        efficiency_components.append(master_data['BPM'].fillna(0) * 0.3)\n",
    "    if 'VORP' in master_data.columns:\n",
    "        efficiency_components.append(master_data['VORP'].fillna(0) * 0.4)\n",
    "    \n",
    "    if efficiency_components:\n",
    "        master_data['Efficiency_Score'] = sum(efficiency_components)\n",
    "    else:\n",
    "        master_data['Efficiency_Score'] = 0"
   ]
  },
  {
   "cell_type": "code",
   "execution_count": 98,
   "id": "4d8acd48-dee8-42dd-bbae-40a1d59211c6",
   "metadata": {},
   "outputs": [],
   "source": [
    "pos_age_perf = master_data.groupby(['Pos', 'Age_Group'])['Efficiency_Score'].median()"
   ]
  },
  {
   "cell_type": "code",
   "execution_count": 99,
   "id": "b8329e28-6dda-47c3-bd2c-4453707750d7",
   "metadata": {},
   "outputs": [],
   "source": [
    "def get_performance_vs_peers(row):\n",
    "    pos = row['Pos']\n",
    "    age_group = row['Age_Group']\n",
    "    efficiency = row['Efficiency_Score']\n",
    "    \n",
    "    try:\n",
    "        benchmark = pos_age_perf.loc[(pos, age_group)]\n",
    "        if pd.isna(benchmark) or benchmark == 0:\n",
    "            # Use position average if age group benchmark missing\n",
    "            pos_avg = master_data[master_data['Pos'] == pos]['Efficiency_Score'].median()\n",
    "            benchmark = pos_avg if not pd.isna(pos_avg) and pos_avg != 0 else 1\n",
    "    except KeyError:\n",
    "        # Use overall position average\n",
    "        pos_avg = master_data[master_data['Pos'] == pos]['Efficiency_Score'].median()\n",
    "        benchmark = pos_avg if not pd.isna(pos_avg) and pos_avg != 0 else 1\n",
    "    \n",
    "    return efficiency / benchmark if benchmark != 0 else 1"
   ]
  },
  {
   "cell_type": "code",
   "execution_count": 100,
   "id": "7b94109f-4882-410e-8d10-1012b64eaaec",
   "metadata": {},
   "outputs": [],
   "source": [
    "master_data['Performance_vs_Peers'] = master_data.apply(get_performance_vs_peers, axis=1)"
   ]
  },
  {
   "cell_type": "code",
   "execution_count": 101,
   "id": "6c89342a-0f05-4c29-936d-046d1e0dd9f8",
   "metadata": {},
   "outputs": [],
   "source": [
    "master_data['Performance_vs_Peers'] = master_data['Performance_vs_Peers'].fillna(1.0)"
   ]
  },
  {
   "cell_type": "code",
   "execution_count": 102,
   "id": "536b9297-5c58-478a-9082-fb6293109e35",
   "metadata": {},
   "outputs": [],
   "source": [
    "# Combine all features\n",
    "X_all_value = pd.concat([\n",
    "    all_features, \n",
    "    master_data[['Performance_vs_Peers']], \n",
    "    all_positions\n",
    "], axis=1)"
   ]
  },
  {
   "cell_type": "code",
   "execution_count": 103,
   "id": "b2311f49-d8ea-4e14-a933-21eedeb81896",
   "metadata": {},
   "outputs": [],
   "source": [
    "nan_count = X_all_value.isna().sum().sum()\n",
    "if nan_count > 0:\n",
    "    print(f\"WARNING: {nan_count} NaN values detected. Filling with zeros...\")\n",
    "    X_all_value = X_all_value.fillna(0)"
   ]
  },
  {
   "cell_type": "code",
   "execution_count": 104,
   "id": "19b12710-a09d-4c32-9a1f-e7925e96ca44",
   "metadata": {},
   "outputs": [
    {
     "name": "stdout",
     "output_type": "stream",
     "text": [
      "Final prediction matrix shape: (3360, 37)\n",
      "Features match training data: True\n"
     ]
    }
   ],
   "source": [
    "print(f\"Final prediction matrix shape: {X_all_value.shape}\")\n",
    "print(f\"Features match training data: {X_all_value.shape[1] == X_val_train.shape[1]}\")"
   ]
  },
  {
   "cell_type": "code",
   "execution_count": 105,
   "id": "4068ae13-9e08-45df-ba24-650e997820b9",
   "metadata": {},
   "outputs": [],
   "source": [
    "master_data['Predicted_Value'] = value_model.predict(X_all_value)"
   ]
  },
  {
   "cell_type": "code",
   "execution_count": 106,
   "id": "328b9f2d-3b03-4b02-b06e-c0a9322ee1a3",
   "metadata": {},
   "outputs": [
    {
     "name": "stdout",
     "output_type": "stream",
     "text": [
      "Value predictions generated for all 3360 players!\n",
      "Value range: -0.268 to 2.301\n"
     ]
    }
   ],
   "source": [
    "print(f\"Value predictions generated for all {len(master_data)} players!\")\n",
    "print(f\"Value range: {master_data['Predicted_Value'].min():.3f} to {master_data['Predicted_Value'].max():.3f}\")"
   ]
  },
  {
   "cell_type": "code",
   "execution_count": 107,
   "id": "0d8ea3ce-df12-40e9-bdd6-9498a20165b8",
   "metadata": {},
   "outputs": [
    {
     "name": "stdout",
     "output_type": "stream",
     "text": [
      "\n",
      "Top 5 highest predicted values:\n",
      "   Anthony Edwards (2025): 2.301\n",
      "   Shai Gilgeous-Alexander (2025): 2.120\n",
      "   Jayson Tatum (2022): 2.112\n",
      "   Trae Young (2022): 2.094\n",
      "   Jayson Tatum (2023): 2.080\n"
     ]
    }
   ],
   "source": [
    "print(\"\\nTop 5 highest predicted values:\")\n",
    "top_values = master_data.nlargest(5, 'Predicted_Value')[['Player_Clean', 'Team_Clean', 'Predicted_Value', 'Season']]\n",
    "for _, player in top_values.iterrows():\n",
    "    print(f\"   {player['Player_Clean']} ({player['Season']}): {player['Predicted_Value']:.3f}\")"
   ]
  },
  {
   "cell_type": "markdown",
   "id": "08bfe787-0afd-48f2-80ec-4d9ba33fcbaf",
   "metadata": {},
   "source": [
    "### Model 3 - Contract Efficiency Scoring"
   ]
  },
  {
   "cell_type": "code",
   "execution_count": 109,
   "id": "31c6f77b-c4b7-4648-bfb2-03425e5761fe",
   "metadata": {},
   "outputs": [],
   "source": [
    "def calculate_efficiency_scores_fixed(df):\n",
    "    \"\"\"Calculate multiple efficiency metrics - FIXED VERSION\"\"\"\n",
    "    \n",
    "    df = df.copy()  # Don't modify original\n",
    "    \n",
    "    # Check if we have salary data\n",
    "    if 'Current_Salary' not in df.columns:\n",
    "        print(\"No salary data available for efficiency scoring\")\n",
    "        return df\n",
    "    \n",
    "    # Basic efficiency metrics\n",
    "    print(\"Calculating basic efficiency metrics...\")\n",
    "    \n",
    "    # Points per dollar (handle missing salaries)\n",
    "    salary_median = df['Current_Salary'].median()\n",
    "    df['Points_Per_Dollar'] = df['PTS'] / (df['Current_Salary'].fillna(salary_median) / 1000000)\n",
    "    \n",
    "    # Win Shares per dollar (if available)\n",
    "    if 'WS' in df.columns:\n",
    "        df['WinShares_Per_Dollar'] = df['WS'] / (df['Current_Salary'].fillna(salary_median) / 1000000)\n",
    "    else:\n",
    "        df['WinShares_Per_Dollar'] = 0\n",
    "        print(\"   WS column not found, using 0 for WinShares_Per_Dollar\")\n",
    "    \n",
    "    # VORP per dollar (if available)\n",
    "    if 'VORP' in df.columns:\n",
    "        df['VORP_Per_Dollar'] = df['VORP'] / (df['Current_Salary'].fillna(salary_median) / 1000000)\n",
    "    else:\n",
    "        df['VORP_Per_Dollar'] = 0\n",
    "        print(\"   VORP column not found, using 0 for VORP_Per_Dollar\")\n",
    "    \n",
    "    # Composite efficiency score\n",
    "    print(\"Creating composite efficiency score...\")\n",
    "    \n",
    "    # Normalize each component (handle division by zero)\n",
    "    max_points = df['Points_Per_Dollar'].max() if df['Points_Per_Dollar'].max() > 0 else 1\n",
    "    max_ws = df['WinShares_Per_Dollar'].max() if df['WinShares_Per_Dollar'].max() > 0 else 1\n",
    "    max_vorp = df['VORP_Per_Dollar'].max() if df['VORP_Per_Dollar'].max() > 0 else 1\n",
    "    \n",
    "    df['Efficiency_Composite'] = (\n",
    "        (df['Points_Per_Dollar'] / max_points) * 0.3 +\n",
    "        (df['WinShares_Per_Dollar'] / max_ws) * 0.4 +\n",
    "        (df['VORP_Per_Dollar'] / max_vorp) * 0.3\n",
    "    )\n",
    "    \n",
    "    # Risk-adjusted efficiency (account for age)\n",
    "    print(\"Calculating risk-adjusted efficiency...\")\n",
    "    \n",
    "    age_factor = 1 - (df['Age'].fillna(25) - 22) * 0.02  # Decrease value as age increases\n",
    "    age_factor = age_factor.clip(lower=0.5)  # Minimum factor of 0.5\n",
    "    \n",
    "    df['Risk_Adjusted_Efficiency'] = df['Efficiency_Composite'] * age_factor\n",
    "    \n",
    "    # Contract tier analysis\n",
    "    print(\"Assigning contract tiers...\")\n",
    "    \n",
    "    salary_percentiles = df['Current_Salary'].quantile([0.25, 0.5, 0.75, 0.9])\n",
    "    \n",
    "    def get_efficiency_tier(row):\n",
    "        salary = row['Current_Salary']\n",
    "        efficiency = row['Risk_Adjusted_Efficiency']\n",
    "        \n",
    "        if pd.isna(salary):\n",
    "            return 'Unknown'\n",
    "        \n",
    "        if salary <= salary_percentiles[0.25]:\n",
    "            return 'Bargain' if efficiency > 0.6 else 'Fair'\n",
    "        elif salary <= salary_percentiles[0.5]:\n",
    "            return 'Good Value' if efficiency > 0.4 else 'Fair'\n",
    "        elif salary <= salary_percentiles[0.75]:\n",
    "            return 'Fair' if efficiency > 0.3 else 'Overpaid'\n",
    "        else:\n",
    "            return 'Fair' if efficiency > 0.2 else 'Overpaid'\n",
    "    \n",
    "    df['Contract_Tier'] = df.apply(get_efficiency_tier, axis=1)\n",
    "    \n",
    "    print(f\"Contract tiers assigned:\")\n",
    "    tier_counts = df['Contract_Tier'].value_counts()\n",
    "    for tier, count in tier_counts.items():\n",
    "        print(f\"   {tier}: {count} players\")\n",
    "    \n",
    "    return df"
   ]
  },
  {
   "cell_type": "code",
   "execution_count": 110,
   "id": "d8763c8a-6e66-4373-bdd1-ebf223606af9",
   "metadata": {},
   "outputs": [
    {
     "name": "stdout",
     "output_type": "stream",
     "text": [
      "Calculating basic efficiency metrics...\n",
      "Creating composite efficiency score...\n",
      "Calculating risk-adjusted efficiency...\n",
      "Assigning contract tiers...\n",
      "Contract tiers assigned:\n",
      "   Overpaid: 109 players\n",
      "   Fair: 106 players\n",
      "   Good Value: 2 players\n",
      "   Bargain: 2 players\n"
     ]
    }
   ],
   "source": [
    "modeling_data = calculate_efficiency_scores_fixed(modeling_data)"
   ]
  },
  {
   "cell_type": "code",
   "execution_count": 111,
   "id": "92f18a4b-33ab-42e4-85c6-6d09830a0642",
   "metadata": {},
   "outputs": [],
   "source": [
    "contract_features = [\n",
    "    'Age', 'PER', 'BPM', 'VORP', 'WS', 'USG%', 'TS%',\n",
    "    'PPG', 'RPG', 'APG', 'Efficiency_Score', 'Performance_vs_Peers'\n",
    "]"
   ]
  },
  {
   "cell_type": "code",
   "execution_count": 112,
   "id": "aca66eb2-25b0-47f8-8613-383cb74d7a1a",
   "metadata": {},
   "outputs": [
    {
     "name": "stdout",
     "output_type": "stream",
     "text": [
      "Using 12 features for contract model: ['Age', 'PER', 'BPM', 'VORP', 'WS', 'USG%', 'TS%', 'PPG', 'RPG', 'APG', 'Efficiency_Score', 'Performance_vs_Peers']\n"
     ]
    }
   ],
   "source": [
    "available_contract_features = []\n",
    "for feature in contract_features:\n",
    "    if feature in modeling_data.columns:\n",
    "        available_contract_features.append(feature)\n",
    "    else:\n",
    "        print(f\"   Warning: {feature} not available, skipping\")\n",
    "\n",
    "print(f\"Using {len(available_contract_features)} features for contract model: {available_contract_features}\")"
   ]
  },
  {
   "cell_type": "code",
   "execution_count": 113,
   "id": "17d0c126-5812-4739-983d-7cfe2e668450",
   "metadata": {},
   "outputs": [],
   "source": [
    "modeling_data['Good_Contract'] = (\n",
    "    (modeling_data['Contract_Tier'].isin(['Bargain', 'Good Value'])) | \n",
    "    (modeling_data['Risk_Adjusted_Efficiency'] > 0.4)\n",
    ").astype(int)"
   ]
  },
  {
   "cell_type": "code",
   "execution_count": 114,
   "id": "9c744255-c6c4-48c3-9a95-91ee49b23086",
   "metadata": {},
   "outputs": [
    {
     "name": "stdout",
     "output_type": "stream",
     "text": [
      "Good contracts: 9/219 (4.1%)\n"
     ]
    }
   ],
   "source": [
    "good_contracts = modeling_data['Good_Contract'].sum()\n",
    "total_contracts = len(modeling_data)\n",
    "print(f\"Good contracts: {good_contracts}/{total_contracts} ({good_contracts/total_contracts*100:.1f}%)\")"
   ]
  },
  {
   "cell_type": "code",
   "execution_count": 115,
   "id": "62d0f9e5-b5a7-4d0b-be93-0b6ca80f8dbb",
   "metadata": {},
   "outputs": [],
   "source": [
    "X_contract = modeling_data[available_contract_features].fillna(modeling_data[available_contract_features].median())\n",
    "y_contract = modeling_data['Good_Contract']"
   ]
  },
  {
   "cell_type": "code",
   "execution_count": 116,
   "id": "4c39ec2a-c4c6-45d6-b9bc-91a41a1c73dd",
   "metadata": {},
   "outputs": [],
   "source": [
    "if len(X_contract) < 20:\n",
    "    print(\"Warning: Very small dataset for contract model\")\n",
    "    test_size = 0.3\n",
    "else:\n",
    "    test_size = 0.2\n",
    "\n",
    "X_cont_train, X_cont_test, y_cont_train, y_cont_test = train_test_split(\n",
    "    X_contract, y_contract, test_size=test_size, random_state=42, stratify=y_contract\n",
    ")"
   ]
  },
  {
   "cell_type": "code",
   "execution_count": 117,
   "id": "29434f20-ecf4-4e67-afb6-e6d14bccb2a9",
   "metadata": {},
   "outputs": [
    {
     "name": "stdout",
     "output_type": "stream",
     "text": [
      "Training set: 175 contracts\n",
      "Test set: 44 contracts\n"
     ]
    }
   ],
   "source": [
    "print(f\"Training set: {len(X_cont_train)} contracts\")\n",
    "print(f\"Test set: {len(X_cont_test)} contracts\")"
   ]
  },
  {
   "cell_type": "code",
   "execution_count": 118,
   "id": "e19de1e8-8e56-4a94-901e-e1d3ed75dd21",
   "metadata": {},
   "outputs": [
    {
     "data": {
      "text/html": [
       "<style>#sk-container-id-2 {color: black;}#sk-container-id-2 pre{padding: 0;}#sk-container-id-2 div.sk-toggleable {background-color: white;}#sk-container-id-2 label.sk-toggleable__label {cursor: pointer;display: block;width: 100%;margin-bottom: 0;padding: 0.3em;box-sizing: border-box;text-align: center;}#sk-container-id-2 label.sk-toggleable__label-arrow:before {content: \"▸\";float: left;margin-right: 0.25em;color: #696969;}#sk-container-id-2 label.sk-toggleable__label-arrow:hover:before {color: black;}#sk-container-id-2 div.sk-estimator:hover label.sk-toggleable__label-arrow:before {color: black;}#sk-container-id-2 div.sk-toggleable__content {max-height: 0;max-width: 0;overflow: hidden;text-align: left;background-color: #f0f8ff;}#sk-container-id-2 div.sk-toggleable__content pre {margin: 0.2em;color: black;border-radius: 0.25em;background-color: #f0f8ff;}#sk-container-id-2 input.sk-toggleable__control:checked~div.sk-toggleable__content {max-height: 200px;max-width: 100%;overflow: auto;}#sk-container-id-2 input.sk-toggleable__control:checked~label.sk-toggleable__label-arrow:before {content: \"▾\";}#sk-container-id-2 div.sk-estimator input.sk-toggleable__control:checked~label.sk-toggleable__label {background-color: #d4ebff;}#sk-container-id-2 div.sk-label input.sk-toggleable__control:checked~label.sk-toggleable__label {background-color: #d4ebff;}#sk-container-id-2 input.sk-hidden--visually {border: 0;clip: rect(1px 1px 1px 1px);clip: rect(1px, 1px, 1px, 1px);height: 1px;margin: -1px;overflow: hidden;padding: 0;position: absolute;width: 1px;}#sk-container-id-2 div.sk-estimator {font-family: monospace;background-color: #f0f8ff;border: 1px dotted black;border-radius: 0.25em;box-sizing: border-box;margin-bottom: 0.5em;}#sk-container-id-2 div.sk-estimator:hover {background-color: #d4ebff;}#sk-container-id-2 div.sk-parallel-item::after {content: \"\";width: 100%;border-bottom: 1px solid gray;flex-grow: 1;}#sk-container-id-2 div.sk-label:hover label.sk-toggleable__label {background-color: #d4ebff;}#sk-container-id-2 div.sk-serial::before {content: \"\";position: absolute;border-left: 1px solid gray;box-sizing: border-box;top: 0;bottom: 0;left: 50%;z-index: 0;}#sk-container-id-2 div.sk-serial {display: flex;flex-direction: column;align-items: center;background-color: white;padding-right: 0.2em;padding-left: 0.2em;position: relative;}#sk-container-id-2 div.sk-item {position: relative;z-index: 1;}#sk-container-id-2 div.sk-parallel {display: flex;align-items: stretch;justify-content: center;background-color: white;position: relative;}#sk-container-id-2 div.sk-item::before, #sk-container-id-2 div.sk-parallel-item::before {content: \"\";position: absolute;border-left: 1px solid gray;box-sizing: border-box;top: 0;bottom: 0;left: 50%;z-index: -1;}#sk-container-id-2 div.sk-parallel-item {display: flex;flex-direction: column;z-index: 1;position: relative;background-color: white;}#sk-container-id-2 div.sk-parallel-item:first-child::after {align-self: flex-end;width: 50%;}#sk-container-id-2 div.sk-parallel-item:last-child::after {align-self: flex-start;width: 50%;}#sk-container-id-2 div.sk-parallel-item:only-child::after {width: 0;}#sk-container-id-2 div.sk-dashed-wrapped {border: 1px dashed gray;margin: 0 0.4em 0.5em 0.4em;box-sizing: border-box;padding-bottom: 0.4em;background-color: white;}#sk-container-id-2 div.sk-label label {font-family: monospace;font-weight: bold;display: inline-block;line-height: 1.2em;}#sk-container-id-2 div.sk-label-container {text-align: center;}#sk-container-id-2 div.sk-container {/* jupyter's `normalize.less` sets `[hidden] { display: none; }` but bootstrap.min.css set `[hidden] { display: none !important; }` so we also need the `!important` here to be able to override the default hidden behavior on the sphinx rendered scikit-learn.org. See: https://github.com/scikit-learn/scikit-learn/issues/21755 */display: inline-block !important;position: relative;}#sk-container-id-2 div.sk-text-repr-fallback {display: none;}</style><div id=\"sk-container-id-2\" class=\"sk-top-container\"><div class=\"sk-text-repr-fallback\"><pre>RandomForestClassifier(random_state=42)</pre><b>In a Jupyter environment, please rerun this cell to show the HTML representation or trust the notebook. <br />On GitHub, the HTML representation is unable to render, please try loading this page with nbviewer.org.</b></div><div class=\"sk-container\" hidden><div class=\"sk-item\"><div class=\"sk-estimator sk-toggleable\"><input class=\"sk-toggleable__control sk-hidden--visually\" id=\"sk-estimator-id-2\" type=\"checkbox\" checked><label for=\"sk-estimator-id-2\" class=\"sk-toggleable__label sk-toggleable__label-arrow\">RandomForestClassifier</label><div class=\"sk-toggleable__content\"><pre>RandomForestClassifier(random_state=42)</pre></div></div></div></div></div>"
      ],
      "text/plain": [
       "RandomForestClassifier(random_state=42)"
      ]
     },
     "execution_count": 118,
     "metadata": {},
     "output_type": "execute_result"
    }
   ],
   "source": [
    "contract_model = RandomForestClassifier(n_estimators=100, random_state=42)\n",
    "contract_model.fit(X_cont_train, y_cont_train)"
   ]
  },
  {
   "cell_type": "code",
   "execution_count": 119,
   "id": "bfbcc164-2ce6-408f-a58e-c0a479d7865e",
   "metadata": {},
   "outputs": [],
   "source": [
    "y_cont_pred = contract_model.predict(X_cont_test)\n",
    "contract_accuracy = accuracy_score(y_cont_test, y_cont_pred)"
   ]
  },
  {
   "cell_type": "code",
   "execution_count": 120,
   "id": "86b42e09-c23c-4007-b8e1-f14f2cb551fc",
   "metadata": {},
   "outputs": [
    {
     "name": "stdout",
     "output_type": "stream",
     "text": [
      "\n",
      "Contract Classification Accuracy: 0.955\n",
      "\n",
      "Classification Report:\n",
      "               precision    recall  f1-score   support\n",
      "\n",
      " Bad Contract       0.95      1.00      0.98        42\n",
      "Good Contract       0.00      0.00      0.00         2\n",
      "\n",
      "     accuracy                           0.95        44\n",
      "    macro avg       0.48      0.50      0.49        44\n",
      " weighted avg       0.91      0.95      0.93        44\n",
      "\n"
     ]
    }
   ],
   "source": [
    "print(f\"\\nContract Classification Accuracy: {contract_accuracy:.3f}\")\n",
    "print(\"\\nClassification Report:\")\n",
    "print(classification_report(y_cont_test, y_cont_pred, target_names=['Bad Contract', 'Good Contract']))"
   ]
  },
  {
   "cell_type": "markdown",
   "id": "cd1141a6-c3c0-4eec-a9da-fc626fcbde1a",
   "metadata": {},
   "source": [
    "There is some class imbalance in the code above. 42 bad contratcs vs only 2 good contracts is off. Below I am trying different approaches to understand the current distribution."
   ]
  },
  {
   "cell_type": "code",
   "execution_count": 122,
   "id": "130876b7-7251-4842-b1c7-259528896455",
   "metadata": {},
   "outputs": [
    {
     "name": "stdout",
     "output_type": "stream",
     "text": [
      "Analyzing contract distribution...\n",
      "Current contract tiers:\n",
      "Contract_Tier\n",
      "Overpaid      109\n",
      "Fair          106\n",
      "Good Value      2\n",
      "Bargain         2\n",
      "Name: count, dtype: int64\n",
      "\n",
      "Current efficiency scores:\n",
      "Risk_Adjusted_Efficiency range: -0.134 to 0.863\n",
      "Risk_Adjusted_Efficiency median: 0.081\n"
     ]
    }
   ],
   "source": [
    "print(\"Analyzing contract distribution...\")\n",
    "print(\"Current contract tiers:\")\n",
    "print(modeling_data['Contract_Tier'].value_counts())\n",
    "print(f\"\\nCurrent efficiency scores:\")\n",
    "print(f\"Risk_Adjusted_Efficiency range: {modeling_data['Risk_Adjusted_Efficiency'].min():.3f} to {modeling_data['Risk_Adjusted_Efficiency'].max():.3f}\")\n",
    "print(f\"Risk_Adjusted_Efficiency median: {modeling_data['Risk_Adjusted_Efficiency'].median():.3f}\")"
   ]
  },
  {
   "cell_type": "code",
   "execution_count": 123,
   "id": "650b9d22-962b-44d8-a251-add238ea1cec",
   "metadata": {},
   "outputs": [
    {
     "name": "stdout",
     "output_type": "stream",
     "text": [
      "\n",
      "=== OPTION 1: More Balanced Criteria ===\n",
      "Balanced approach: 152/219 good contracts (69.4%)\n"
     ]
    }
   ],
   "source": [
    "print(\"\\n=== OPTION 1: More Balanced Criteria ===\")\n",
    "modeling_data['Good_Contract_v2'] = (\n",
    "    (modeling_data['Contract_Tier'].isin(['Bargain', 'Good Value', 'Fair'])) | \n",
    "    (modeling_data['Risk_Adjusted_Efficiency'] > modeling_data['Risk_Adjusted_Efficiency'].median())\n",
    ").astype(int)\n",
    "\n",
    "good_contracts_v2 = modeling_data['Good_Contract_v2'].sum()\n",
    "print(f\"Balanced approach: {good_contracts_v2}/{len(modeling_data)} good contracts ({good_contracts_v2/len(modeling_data)*100:.1f}%)\")"
   ]
  },
  {
   "cell_type": "code",
   "execution_count": 124,
   "id": "d1b13701-e126-4405-b88e-f263ca738f49",
   "metadata": {},
   "outputs": [
    {
     "name": "stdout",
     "output_type": "stream",
     "text": [
      "\n",
      "=== OPTION 2: Percentile-Based ===\n",
      "Top 30% approach: 66/219 good contracts (30.1%)\n"
     ]
    }
   ],
   "source": [
    "print(\"\\n=== OPTION 2: Percentile-Based ===\")\n",
    "\n",
    "efficiency_threshold = modeling_data['Risk_Adjusted_Efficiency'].quantile(0.7)\n",
    "modeling_data['Good_Contract_v3'] = (\n",
    "    modeling_data['Risk_Adjusted_Efficiency'] > efficiency_threshold\n",
    ").astype(int)\n",
    "\n",
    "good_contracts_v3 = modeling_data['Good_Contract_v3'].sum()\n",
    "print(f\"Top 30% approach: {good_contracts_v3}/{len(modeling_data)} good contracts ({good_contracts_v3/len(modeling_data)*100:.1f}%)\")\n"
   ]
  },
  {
   "cell_type": "code",
   "execution_count": 125,
   "id": "79f4a39e-31fd-4492-aa5e-2922d92dae3e",
   "metadata": {},
   "outputs": [
    {
     "name": "stdout",
     "output_type": "stream",
     "text": [
      "\n",
      "=== OPTION 3: Multi-Class Contract Rating ===\n",
      "Contract quality distribution:\n",
      "Contract_Quality\n",
      "Good         125\n",
      "Poor          50\n",
      "Excellent     44\n",
      "Name: count, dtype: int64\n"
     ]
    }
   ],
   "source": [
    "print(\"\\n=== OPTION 3: Multi-Class Contract Rating ===\")\n",
    "\n",
    "def classify_contract_quality(row):\n",
    "    \"\"\"Create 3-class contract rating\"\"\"\n",
    "    tier = row['Contract_Tier']\n",
    "    efficiency = row['Risk_Adjusted_Efficiency']\n",
    "\n",
    "    if tier in ['Bargain'] or efficiency > modeling_data['Risk_Adjusted_Efficiency'].quantile(0.8):\n",
    "        return 'Excellent'\n",
    "    elif tier in ['Good Value', 'Fair'] or efficiency > modeling_data['Risk_Adjusted_Efficiency'].quantile(0.4):\n",
    "        return 'Good'\n",
    "    else:\n",
    "        return 'Poor'\n",
    "\n",
    "modeling_data['Contract_Quality'] = modeling_data.apply(classify_contract_quality, axis=1)\n",
    "print(\"Contract quality distribution:\")\n",
    "print(modeling_data['Contract_Quality'].value_counts())"
   ]
  },
  {
   "cell_type": "markdown",
   "id": "d72ee458-d781-4466-bf57-ce6243819ac4",
   "metadata": {},
   "source": [
    "Option 2 is slightly better given the more reasonable threshold."
   ]
  },
  {
   "cell_type": "code",
   "execution_count": 127,
   "id": "a550beee-2a24-43ca-912d-6899dcc6a847",
   "metadata": {},
   "outputs": [
    {
     "name": "stdout",
     "output_type": "stream",
     "text": [
      "Class distribution:\n",
      "Bad contracts (0): 153\n",
      "Good contracts (1): 66\n"
     ]
    }
   ],
   "source": [
    "y_contract_balanced = modeling_data['Good_Contract_v3']\n",
    "\n",
    "# Check class balance\n",
    "print(f\"Class distribution:\")\n",
    "print(f\"Bad contracts (0): {(y_contract_balanced == 0).sum()}\")\n",
    "print(f\"Good contracts (1): {(y_contract_balanced == 1).sum()}\")"
   ]
  },
  {
   "cell_type": "code",
   "execution_count": 128,
   "id": "71b516f9-6182-460a-8232-571cbc388c4d",
   "metadata": {},
   "outputs": [],
   "source": [
    "X_cont_train_bal, X_cont_test_bal, y_cont_train_bal, y_cont_test_bal = train_test_split(\n",
    "    X_contract, y_contract_balanced, test_size=0.2, random_state=42, stratify=y_contract_balanced\n",
    ")"
   ]
  },
  {
   "cell_type": "code",
   "execution_count": 129,
   "id": "1b4f1f2f-6580-42e5-9489-3293d7dac0b3",
   "metadata": {},
   "outputs": [],
   "source": [
    "contract_model_balanced = RandomForestClassifier(\n",
    "    n_estimators=100, \n",
    "    random_state=42,\n",
    "    class_weight='balanced'\n",
    ")\n",
    "\n",
    "contract_model_balanced.fit(X_cont_train_bal, y_cont_train_bal)\n",
    "\n",
    "y_cont_pred_bal = contract_model_balanced.predict(X_cont_test_bal)\n",
    "contract_accuracy_bal = accuracy_score(y_cont_test_bal, y_cont_pred_bal)"
   ]
  },
  {
   "cell_type": "code",
   "execution_count": 130,
   "id": "757fecb0-e661-4e72-a9b5-c9823da5e44a",
   "metadata": {},
   "outputs": [
    {
     "name": "stdout",
     "output_type": "stream",
     "text": [
      "\n",
      "Balanced Contract Classification Accuracy: 0.750\n",
      "\n",
      "Balanced Classification Report:\n",
      "               precision    recall  f1-score   support\n",
      "\n",
      " Bad Contract       0.81      0.84      0.83        31\n",
      "Good Contract       0.58      0.54      0.56        13\n",
      "\n",
      "     accuracy                           0.75        44\n",
      "    macro avg       0.70      0.69      0.69        44\n",
      " weighted avg       0.74      0.75      0.75        44\n",
      "\n"
     ]
    }
   ],
   "source": [
    "print(f\"\\nBalanced Contract Classification Accuracy: {contract_accuracy_bal:.3f}\")\n",
    "print(\"\\nBalanced Classification Report:\")\n",
    "print(classification_report(y_cont_test_bal, y_cont_pred_bal, target_names=['Bad Contract', 'Good Contract']))"
   ]
  },
  {
   "cell_type": "code",
   "execution_count": 131,
   "id": "5f295d61-ebab-4832-921e-f7fc8cd14c76",
   "metadata": {},
   "outputs": [],
   "source": [
    "contract_model = contract_model_balanced\n",
    "contract_accuracy = contract_accuracy_bal"
   ]
  },
  {
   "cell_type": "code",
   "execution_count": 132,
   "id": "d6973d9d-8da8-49c3-92f7-6cf02c8a0bf2",
   "metadata": {},
   "outputs": [
    {
     "name": "stdout",
     "output_type": "stream",
     "text": [
      "\n",
      "Example contract classifications:\n",
      "   Cody Williams: $5.7M - BAD contract\n",
      "   Matas Buzelis: $5.5M - GOOD contract\n",
      "   Kyle Kuzma: $22.4M - BAD contract\n",
      "   Sam Hauser: $10.0M - GOOD contract\n",
      "   Pelle Larsson: $2.0M - GOOD contract\n"
     ]
    }
   ],
   "source": [
    "print(f\"\\nExample contract classifications:\")\n",
    "sample_predictions = modeling_data.sample(5)[['Player_Clean', 'Current_Salary', 'Risk_Adjusted_Efficiency', 'Contract_Tier', 'Good_Contract_v3']]\n",
    "for _, player in sample_predictions.iterrows():\n",
    "    status = \"GOOD\" if player['Good_Contract_v3'] else \"BAD\"\n",
    "    print(f\"   {player['Player_Clean']}: ${player['Current_Salary']/1000000:.1f}M - {status} contract\")"
   ]
  },
  {
   "cell_type": "markdown",
   "id": "14f7eae8-978a-4b06-8664-911fd3e69f02",
   "metadata": {},
   "source": [
    "### Feature Importance and Model Validation"
   ]
  },
  {
   "cell_type": "code",
   "execution_count": 134,
   "id": "9b067f99-5b16-4c8f-adbd-7ecbaedcb616",
   "metadata": {},
   "outputs": [],
   "source": [
    "def analyze_feature_importance(model, feature_names, model_name):\n",
    "    \"\"\"Analyze and plot feature importance\"\"\"\n",
    "    \n",
    "    if hasattr(model, 'feature_importances_'):\n",
    "        importance_df = pd.DataFrame({\n",
    "            'feature': feature_names,\n",
    "            'importance': model.feature_importances_\n",
    "        }).sort_values('importance', ascending=False)\n",
    "        \n",
    "        print(f\"\\nTop 10 Features - {model_name}:\")\n",
    "        print(importance_df.head(10).to_string(index=False))\n",
    "\n",
    "        plt.figure(figsize=(10, 6))\n",
    "        plt.barh(importance_df.head(15)['feature'][::-1], importance_df.head(15)['importance'][::-1])\n",
    "        plt.title(f'Feature Importance - {model_name}')\n",
    "        plt.xlabel('Importance')\n",
    "        plt.tight_layout()\n",
    "        plt.show()\n",
    "        \n",
    "        return importance_df\n",
    "    \n",
    "    return None"
   ]
  },
  {
   "cell_type": "code",
   "execution_count": 135,
   "id": "d0539b57-0bf6-4c95-92e6-06ee6c2b04e5",
   "metadata": {},
   "outputs": [
    {
     "name": "stdout",
     "output_type": "stream",
     "text": [
      "\n",
      "Top 10 Features - Random Forest (Salary Prediction):\n",
      "    feature  importance\n",
      "        PPG    0.655231\n",
      "        MPG    0.092021\n",
      "Age_Squared    0.036891\n",
      "        Age    0.033450\n",
      "        PER    0.017629\n",
      "         WS    0.015045\n",
      "       STL%    0.012933\n",
      "        PTS    0.012739\n",
      "       BLK%    0.012006\n",
      "         GS    0.011615\n"
     ]
    },
    {
     "data": {
      "image/png": "[encoded data removed]",
      "text/plain": [
       "<Figure size 1000x600 with 1 Axes>"
      ]
     },
     "metadata": {},
     "output_type": "display_data"
    }
   ],
   "source": [
    "if 'Random Forest' in best_model_name or 'Gradient' in best_model_name:\n",
    "    salary_importance = analyze_feature_importance(\n",
    "        best_model['model'], \n",
    "        X.columns, \n",
    "        f\"{best_model_name} (Salary Prediction)\"\n",
    "    )"
   ]
  },
  {
   "cell_type": "code",
   "execution_count": 136,
   "id": "0f8fc0d7-36c4-437d-9f58-9c89babacc53",
   "metadata": {},
   "outputs": [
    {
     "name": "stdout",
     "output_type": "stream",
     "text": [
      "\n",
      "Top 10 Features - Value Estimation Model:\n",
      "             feature  importance\n",
      "Performance_vs_Peers    0.948091\n",
      "    Efficiency_Score    0.007275\n",
      "                  MP    0.006043\n",
      "                 BPM    0.004998\n",
      "                 PER    0.003768\n",
      "                 PPG    0.003585\n",
      "                 PTS    0.003063\n",
      "                  WS    0.003001\n",
      "                 TS%    0.002761\n",
      "                VORP    0.002519\n"
     ]
    },
    {
     "data": {
      "image/png": "[encoded data removed]",
      "text/plain": [
       "<Figure size 1000x600 with 1 Axes>"
      ]
     },
     "metadata": {},
     "output_type": "display_data"
    }
   ],
   "source": [
    "value_importance = analyze_feature_importance(\n",
    "    value_model, \n",
    "    X_value.columns, \n",
    "    \"Value Estimation Model\"\n",
    ")"
   ]
  },
  {
   "cell_type": "code",
   "execution_count": 137,
   "id": "9c02ad5f-83f1-49bd-be76-568e3bb4a4de",
   "metadata": {},
   "outputs": [
    {
     "name": "stdout",
     "output_type": "stream",
     "text": [
      "\n",
      "Top 10 Features - Contract Classification Model:\n",
      "             feature  importance\n",
      "                 PPG    0.141185\n",
      "                  WS    0.139947\n",
      "                USG%    0.101352\n",
      "                 Age    0.099153\n",
      "                 TS%    0.094251\n",
      "Performance_vs_Peers    0.078925\n",
      "    Efficiency_Score    0.077670\n",
      "                 BPM    0.068252\n",
      "                 APG    0.065539\n",
      "                 PER    0.058964\n"
     ]
    },
    {
     "data": {
      "image/png": "[encoded data removed]",
      "text/plain": [
       "<Figure size 1000x600 with 1 Axes>"
      ]
     },
     "metadata": {},
     "output_type": "display_data"
    }
   ],
   "source": [
    "contract_importance = analyze_feature_importance(\n",
    "    contract_model, \n",
    "    contract_features, \n",
    "    \"Contract Classification Model\"\n",
    ")"
   ]
  },
  {
   "cell_type": "code",
   "execution_count": 138,
   "id": "aea92e92-55e5-45be-8d7c-e2ad5aca1c85",
   "metadata": {},
   "outputs": [
    {
     "name": "stdout",
     "output_type": "stream",
     "text": [
      "Salary Model CV R² Score: 0.742 ± 0.143\n"
     ]
    }
   ],
   "source": [
    "if 'Random Forest' in best_model_name:\n",
    "    cv_scores = cross_val_score(best_model['model'], X_train, y_train, cv=5, scoring='r2')\n",
    "    print(f\"Salary Model CV R² Score: {cv_scores.mean():.3f} ± {cv_scores.std():.3f}\")"
   ]
  },
  {
   "cell_type": "code",
   "execution_count": 139,
   "id": "3b992671-62c3-45aa-9239-cb3de6e1db63",
   "metadata": {},
   "outputs": [
    {
     "name": "stdout",
     "output_type": "stream",
     "text": [
      "Value Model CV R² Score: 0.962 ± 0.039\n"
     ]
    }
   ],
   "source": [
    "cv_value_scores = cross_val_score(value_model, X_val_train, y_val_train, cv=5, scoring='r2')\n",
    "print(f\"Value Model CV R² Score: {cv_value_scores.mean():.3f} ± {cv_value_scores.std():.3f}\")"
   ]
  },
  {
   "cell_type": "code",
   "execution_count": 140,
   "id": "e00a6a5c-29a3-4daf-9ce8-b6c3b8541580",
   "metadata": {},
   "outputs": [
    {
     "name": "stdout",
     "output_type": "stream",
     "text": [
      "Contract Model CV Accuracy: 0.960 ± 0.014\n"
     ]
    }
   ],
   "source": [
    "cv_contract_scores = cross_val_score(contract_model, X_cont_train, y_cont_train, cv=5, scoring='accuracy')\n",
    "print(f\"Contract Model CV Accuracy: {cv_contract_scores.mean():.3f} ± {cv_contract_scores.std():.3f}\")"
   ]
  },
  {
   "cell_type": "markdown",
   "id": "832fbc1b-8eb1-4c7d-b994-39cb77e62c9a",
   "metadata": {},
   "source": [
    "### Save Models and Insight Generation"
   ]
  },
  {
   "cell_type": "code",
   "execution_count": 142,
   "id": "b3089ae5-17d2-4bf8-85c6-0ff41f521dce",
   "metadata": {},
   "outputs": [],
   "source": [
    "os.makedirs('results/models', exist_ok=True)\n",
    "os.makedirs('results/figures', exist_ok=True)"
   ]
  },
  {
   "cell_type": "code",
   "execution_count": 143,
   "id": "1e0e56c7-7dce-419c-b36e-72b397e8dfba",
   "metadata": {},
   "outputs": [],
   "source": [
    "models_to_save = {\n",
    "    'salary_prediction_model': best_model['model'],\n",
    "    'value_estimation_model': value_model,\n",
    "    'contract_classification_model': contract_model,\n",
    "    'feature_scaler': scaler\n",
    "}"
   ]
  },
  {
   "cell_type": "code",
   "execution_count": 144,
   "id": "56d35f93-d16a-4264-a193-688474b58be9",
   "metadata": {},
   "outputs": [
    {
     "name": "stdout",
     "output_type": "stream",
     "text": [
      "Saved salary_prediction_model\n",
      "Saved value_estimation_model\n",
      "Saved contract_classification_model\n",
      "Saved feature_scaler\n"
     ]
    }
   ],
   "source": [
    "for name, model in models_to_save.items():\n",
    "    joblib.dump(model, f'results/models/{name}.pkl')\n",
    "    print(f\"Saved {name}\")"
   ]
  },
  {
   "cell_type": "code",
   "execution_count": 145,
   "id": "5e516f0e-6085-4884-b17a-b591cc9a8ca4",
   "metadata": {},
   "outputs": [
    {
     "name": "stdout",
     "output_type": "stream",
     "text": [
      "Calculating basic efficiency metrics...\n",
      "Creating composite efficiency score...\n",
      "Calculating risk-adjusted efficiency...\n",
      "Assigning contract tiers...\n",
      "Contract tiers assigned:\n",
      "   Unknown: 3141 players\n",
      "   Overpaid: 109 players\n",
      "   Fair: 106 players\n",
      "   Bargain: 3 players\n",
      "   Good Value: 1 players\n"
     ]
    }
   ],
   "source": [
    "master_data = calculate_efficiency_scores_fixed(master_data)"
   ]
  },
  {
   "cell_type": "code",
   "execution_count": 146,
   "id": "cf31483e-f1a2-40b2-88e0-151e826faa2a",
   "metadata": {},
   "outputs": [],
   "source": [
    "all_contract_features = master_data[available_contract_features].copy()"
   ]
  },
  {
   "cell_type": "code",
   "execution_count": 147,
   "id": "bc1650e4-9242-41e9-930c-867e4396d514",
   "metadata": {},
   "outputs": [
    {
     "name": "stdout",
     "output_type": "stream",
     "text": [
      "Feature matrix shape for all players: (3360, 12)\n"
     ]
    }
   ],
   "source": [
    "for col in all_contract_features.columns:\n",
    "    if col in modeling_data.columns:\n",
    "        # Fill value from modeling data\n",
    "        fill_value = modeling_data[col].median()\n",
    "    else:\n",
    "        fill_value = all_contract_features[col].median()\n",
    "    \n",
    "    # Handle case where median is still NaN\n",
    "    if pd.isna(fill_value):\n",
    "        if col == 'Age':\n",
    "            fill_value = 25\n",
    "        elif col == 'PER':\n",
    "            fill_value = 15\n",
    "        elif col in ['BPM', 'VORP']:\n",
    "            fill_value = 0\n",
    "        else:\n",
    "            fill_value = 0\n",
    "    \n",
    "    all_contract_features[col] = all_contract_features[col].fillna(fill_value)\n",
    "\n",
    "print(f\"Feature matrix shape for all players: {all_contract_features.shape}\")"
   ]
  },
  {
   "cell_type": "code",
   "execution_count": 148,
   "id": "a2e57f72-a0b1-4b5a-a1c1-b3c72d1dbf54",
   "metadata": {},
   "outputs": [
    {
     "name": "stdout",
     "output_type": "stream",
     "text": [
      "Contract recommendations generated for all 3360 players!\n",
      "Recommendation range: 0.000 to 0.960\n"
     ]
    }
   ],
   "source": [
    "master_data['Contract_Recommendation'] = contract_model.predict_proba(all_contract_features)[:, 1]\n",
    "\n",
    "print(f\"Contract recommendations generated for all {len(master_data)} players!\")\n",
    "print(f\"Recommendation range: {master_data['Contract_Recommendation'].min():.3f} to {master_data['Contract_Recommendation'].max():.3f}\")"
   ]
  },
  {
   "cell_type": "code",
   "execution_count": 149,
   "id": "0403f7a1-c98b-40d2-93b9-299a762422bf",
   "metadata": {},
   "outputs": [],
   "source": [
    "undervalued = master_data[\n",
    "    (master_data['Has_Salary_Data'] == True) & \n",
    "    (master_data['Contract_Recommendation'] > 0.7)\n",
    "].nlargest(10, 'Risk_Adjusted_Efficiency')"
   ]
  },
  {
   "cell_type": "code",
   "execution_count": 150,
   "id": "af0633b7-92d0-41fe-8b3b-51746e61f60a",
   "metadata": {},
   "outputs": [
    {
     "name": "stdout",
     "output_type": "stream",
     "text": [
      "\n",
      "Top 10 Undervalued Players:\n",
      "   Scotty Pippen Jr.: $2.3M, Efficiency: 0.779, Rec Score: 0.770\n",
      "   Trayce Jackson-Davis: $2.2M, Efficiency: 0.475, Rec Score: 0.890\n",
      "   Justin Champagnie: $2.3M, Efficiency: 0.421, Rec Score: 0.810\n",
      "   Jay Huff: $2.3M, Efficiency: 0.412, Rec Score: 0.920\n",
      "   Payton Pritchard: $7.2M, Efficiency: 0.398, Rec Score: 0.800\n",
      "   Vit Krejci: $2.3M, Efficiency: 0.394, Rec Score: 0.890\n",
      "   Julian Champagnie: $3.0M, Efficiency: 0.366, Rec Score: 0.720\n",
      "   Moussa Diabaté: $2.3M, Efficiency: 0.360, Rec Score: 0.910\n",
      "   Kyle Filipowski: $3.0M, Efficiency: 0.351, Rec Score: 0.870\n",
      "   Neemias Queta: $2.3M, Efficiency: 0.341, Rec Score: 0.880\n"
     ]
    }
   ],
   "source": [
    "print(f\"\\nTop 10 Undervalued Players:\")\n",
    "if len(undervalued) > 0:\n",
    "    for idx, player in undervalued.iterrows():\n",
    "        salary_mil = player['Current_Salary']/1000000 if pd.notna(player['Current_Salary']) else 0\n",
    "        print(f\"   {player['Player_Clean']}: ${salary_mil:.1f}M, \"\n",
    "              f\"Efficiency: {player['Risk_Adjusted_Efficiency']:.3f}, \"\n",
    "              f\"Rec Score: {player['Contract_Recommendation']:.3f}\")\n",
    "else:\n",
    "    print(\"   No players meet the strict undervalued criteria (>0.7 recommendation)\")\n",
    "    print(\"   Showing top efficiency players instead:\")\n",
    "\n",
    "    top_efficiency = master_data[\n",
    "        master_data['Has_Salary_Data'] == True\n",
    "    ].nlargest(10, 'Risk_Adjusted_Efficiency')\n",
    "    \n",
    "    for idx, player in top_efficiency.iterrows():\n",
    "        salary_mil = player['Current_Salary']/1000000 if pd.notna(player['Current_Salary']) else 0\n",
    "        rec_score = player['Contract_Recommendation'] if 'Contract_Recommendation' in player else 0\n",
    "        print(f\"   {player['Player_Clean']}: ${salary_mil:.1f}M, \"\n",
    "              f\"Efficiency: {player['Risk_Adjusted_Efficiency']:.3f}, \"\n",
    "              f\"Rec Score: {rec_score:.3f}\")"
   ]
  },
  {
   "cell_type": "code",
   "execution_count": 213,
   "id": "85cb4e0c-2af8-413f-8e04-15a026fa520b",
   "metadata": {},
   "outputs": [],
   "source": [
    "salary_stats = master_data[master_data['Has_Salary_Data'] == True]['Current_Salary'].describe()\n",
    "median_salary = salary_stats['50%']\n",
    "q75_salary = salary_stats['75%']"
   ]
  },
  {
   "cell_type": "code",
   "execution_count": 215,
   "id": "4b7c3d05-c0eb-459d-8ddf-dd58cd404bef",
   "metadata": {},
   "outputs": [
    {
     "name": "stdout",
     "output_type": "stream",
     "text": [
      "Salary distribution:\n",
      "   Median salary: $10.0M\n",
      "   75th percentile: $25.6M\n",
      "   Using $10.0M+ as 'significant contract' threshold\n"
     ]
    }
   ],
   "source": [
    "print(f\"Salary distribution:\")\n",
    "print(f\"   Median salary: ${median_salary/1000000:.1f}M\")\n",
    "print(f\"   75th percentile: ${q75_salary/1000000:.1f}M\")\n",
    "print(f\"   Using ${median_salary/1000000:.1f}M+ as 'significant contract' threshold\")"
   ]
  },
  {
   "cell_type": "code",
   "execution_count": 153,
   "id": "3075a83f-50ab-4bd2-a06a-feba188d9b21",
   "metadata": {},
   "outputs": [
    {
     "name": "stdout",
     "output_type": "stream",
     "text": [
      "\n",
      "Model Performance Summary:\n",
      "   Salary Prediction R²: 0.827\n",
      "   Value Estimation R²: 0.995\n",
      "   Contract Classification Accuracy: 0.750\n",
      "\n",
      "Updated dataset saved: 3,360 player-seasons\n"
     ]
    }
   ],
   "source": [
    "# Model performance summary\n",
    "print(f\"\\nModel Performance Summary:\")\n",
    "print(f\"   Salary Prediction R²: {best_model['r2']:.3f}\")\n",
    "print(f\"   Value Estimation R²: {value_r2:.3f}\")\n",
    "print(f\"   Contract Classification Accuracy: {contract_accuracy:.3f}\")\n",
    "\n",
    "#Save updated dataset\n",
    "master_data.to_csv('data/processed/master_nba_data_with_models.csv', index=False)\n",
    "print(f\"\\nUpdated dataset saved: {len(master_data):,} player-seasons\")"
   ]
  },
  {
   "cell_type": "code",
   "execution_count": 217,
   "id": "df34e0ba-1eaf-4e5a-873b-38f724bceefe",
   "metadata": {},
   "outputs": [],
   "source": [
    "overpaid_significant = master_data[\n",
    "    (master_data['Has_Salary_Data'] == True) & \n",
    "    (master_data['Current_Salary'] >= median_salary) &  # Only significant contracts\n",
    "    (master_data['Contract_Recommendation'] < 0.4)     # Poor contract recommendation\n",
    "].nsmallest(10, 'Risk_Adjusted_Efficiency')"
   ]
  },
  {
   "cell_type": "code",
   "execution_count": 219,
   "id": "3205944e-4cf4-4953-985e-0d99bdfafc60",
   "metadata": {},
   "outputs": [
    {
     "name": "stdout",
     "output_type": "stream",
     "text": [
      "\n",
      "Top 10 Overpaid Players ($10.0M+ contracts):\n",
      "   Kyle Kuzma: $22.4M, Efficiency: 0.005, Rec Score: 0.030\n",
      "   Herbert Jones: $13.9M, Efficiency: 0.009, Rec Score: 0.040\n",
      "   Brandon Ingram: $38.1M, Efficiency: 0.009, Rec Score: 0.030\n",
      "   Paul George: $51.7M, Efficiency: 0.012, Rec Score: 0.050\n",
      "   Joel Embiid: $55.2M, Efficiency: 0.012, Rec Score: 0.030\n",
      "   Dejounte Murray: $31.6M, Efficiency: 0.013, Rec Score: 0.020\n",
      "   Patrick Williams: $18.0M, Efficiency: 0.015, Rec Score: 0.000\n",
      "   Grant Williams: $13.6M, Efficiency: 0.018, Rec Score: 0.090\n",
      "   Jalen Suggs: $35.0M, Efficiency: 0.021, Rec Score: 0.100\n",
      "   Josh Green: $13.7M, Efficiency: 0.021, Rec Score: 0.090\n"
     ]
    }
   ],
   "source": [
    "print(f\"\\nTop 10 Overpaid Players (${median_salary/1000000:.1f}M+ contracts):\")\n",
    "if len(overpaid_significant) > 0:\n",
    "    for idx, player in overpaid_significant.iterrows():\n",
    "        salary_mil = player['Current_Salary']/1000000\n",
    "        print(f\"   {player['Player_Clean']}: ${salary_mil:.1f}M, \"\n",
    "              f\"Efficiency: {player['Risk_Adjusted_Efficiency']:.3f}, \"\n",
    "              f\"Rec Score: {player['Contract_Recommendation']:.3f}\")\n",
    "else:\n",
    "    print(\"   No players meet overpaid criteria with significant contracts\")\n",
    "\n",
    "    print(f\"\\n   Alternative - Highest paid players with lowest efficiency:\")\n",
    "    high_paid_low_efficiency = master_data[\n",
    "        (master_data['Has_Salary_Data'] == True) &\n",
    "        (master_data['Current_Salary'] >= q75_salary)  # Top 25% of salaries\n",
    "    ].nsmallest(10, 'Risk_Adjusted_Efficiency')\n",
    "    \n",
    "    for idx, player in high_paid_low_efficiency.iterrows():\n",
    "        salary_mil = player['Current_Salary']/1000000\n",
    "        rec_score = player.get('Contract_Recommendation', 0)\n",
    "        print(f\"   {player['Player_Clean']}: ${salary_mil:.1f}M, \"\n",
    "              f\"Efficiency: {player['Risk_Adjusted_Efficiency']:.3f}, \"\n",
    "              f\"Rec Score: {rec_score:.3f}\")"
   ]
  },
  {
   "cell_type": "code",
   "execution_count": 223,
   "id": "8fb19821-e8c7-4850-8cc3-633a975f0675",
   "metadata": {},
   "outputs": [
    {
     "name": "stdout",
     "output_type": "stream",
     "text": [
      "\n",
      "Contract Value Analysis:\n",
      "\n",
      "Most Overpaid by Salary-to-Value Ratio:\n",
      "   Kyle Kuzma: $22.4M, Value: 0.14, Ratio: 154.7x overpaid\n",
      "   Josh Green: $13.7M, Value: 0.11, Ratio: 126.2x overpaid\n",
      "   Paul George: $51.7M, Value: 0.60, Ratio: 85.7x overpaid\n",
      "   Jerami Grant: $32.0M, Value: 0.39, Ratio: 81.1x overpaid\n",
      "   Patrick Williams: $18.0M, Value: 0.24, Ratio: 73.5x overpaid\n",
      "   Lauri Markkanen: $46.4M, Value: 0.77, Ratio: 60.0x overpaid\n",
      "   Joel Embiid: $55.2M, Value: 0.92, Ratio: 59.8x overpaid\n",
      "   Devin Booker: $53.1M, Value: 1.08, Ratio: 49.3x overpaid\n",
      "   Jrue Holiday: $32.4M, Value: 0.67, Ratio: 48.6x overpaid\n",
      "   Jaylen Brown: $53.1M, Value: 1.10, Ratio: 48.2x overpaid\n"
     ]
    }
   ],
   "source": [
    "print(f\"\\nContract Value Analysis:\")\n",
    "\n",
    "value_vs_salary = master_data[\n",
    "    (master_data['Has_Salary_Data'] == True) &\n",
    "    (master_data['Current_Salary'] >= median_salary)\n",
    "].copy()\n",
    "\n",
    "if 'Predicted_Value' in value_vs_salary.columns:\n",
    "    value_vs_salary['Salary_to_Value_Ratio'] = (\n",
    "        (value_vs_salary['Current_Salary'] / 1000000) / \n",
    "        value_vs_salary['Predicted_Value'].clip(lower=0.1)  # Avoid division by near-zero\n",
    "    )\n",
    "    \n",
    "    # Highest salary-to-value ratios = most overpaid\n",
    "    most_overpaid = value_vs_salary.nlargest(10, 'Salary_to_Value_Ratio')\n",
    "    \n",
    "    print(f\"\\nMost Overpaid by Salary-to-Value Ratio:\")\n",
    "    for idx, player in most_overpaid.iterrows():\n",
    "        salary_mil = player['Current_Salary']/1000000\n",
    "        ratio = player['Salary_to_Value_Ratio']\n",
    "        print(f\"   {player['Player_Clean']}: ${salary_mil:.1f}M, \"\n",
    "              f\"Value: {player['Predicted_Value']:.2f}, \"\n",
    "              f\"Ratio: {ratio:.1f}x overpaid\")"
   ]
  },
  {
   "cell_type": "code",
   "execution_count": null,
   "id": "95ffb78b-04db-4c71-9d11-a8621e2323d1",
   "metadata": {},
   "outputs": [],
   "source": []
  }
 ],
 "metadata": {
  "kernelspec": {
   "display_name": "Python 3 (ipykernel)",
   "language": "python",
   "name": "python3"
  },
  "language_info": {
   "codemirror_mode": {
    "name": "ipython",
    "version": 3
   },
   "file_extension": ".py",
   "mimetype": "text/x-python",
   "name": "python",
   "nbconvert_exporter": "python",
   "pygments_lexer": "ipython3",
   "version": "3.11.5"
  }
 },
 "nbformat": 4,
 "nbformat_minor": 5
}
